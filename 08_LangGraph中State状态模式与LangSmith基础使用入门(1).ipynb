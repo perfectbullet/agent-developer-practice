{
 "cells": [
  {
   "cell_type": "markdown",
   "id": "f4914d1d-cd96-43cd-9a2a-d1973b6b9e0d",
   "metadata": {},
   "source": [
    "# <center>大模型 AI Agent 开发实战"
   ]
  },
  {
   "cell_type": "markdown",
   "id": "c6e45f47-3dc8-401f-9e70-8dc762fbe2c6",
   "metadata": {
    "tags": []
   },
   "source": [
    "## <center>Ch.8 LangGraph中State状态模式与LangSmith基础使用入门"
   ]
  },
  {
   "cell_type": "markdown",
   "id": "5ad705b7-1926-4c27-84a3-0561b3159d3e",
   "metadata": {},
   "source": [
    "&emsp;&emsp;在上一小节《Ch.7 LangGraph底层原理与基础应用入门》课程中，我们通过比较`LangChain`中构建`AI Agent`的底层设计解释了`LangGraph`在应对复杂`AI Agent`开发场景中的明显优势。在`LangGraph`框架中，**不论构建的代理简单或复杂，其本质都是通过节点（Node）和边（Edge）的有机组合来形成一个完整的图（Graph）**。这种构建方式所形成的工作流逻辑十分清晰：每个节点在完成其任务后，都会通过边来指示下一个工作步骤，从而赋予整个应用系统更高的灵活性和可扩展性。掌握三个核心组件——状态（State）、节点（Node）和边（Edge），并了解如何使用这些基本元素构建完整的图形结构是学习和应用`LangGraph`框架重要且最基础的一步。通过深入理解这些关键组件足够支撑我们去设计并实现更加复杂且功能丰富的基于`LangGraph`的`AI Agent`应用程序。"
   ]
  },
  {
   "cell_type": "markdown",
   "id": "6a47d12c-981d-4aa6-90e8-ab7806cd98c8",
   "metadata": {},
   "source": [
    "&emsp;&emsp;**在`AI Agent`应用程序的设计中，场景的复杂性直接决定了构建图的复杂度。**例如，最简单的场景可能仅涉及一个大模型的问答流程，形式为：START -> Node -> END（其中大模型的交互逻辑被封装在Node中）。而更复杂的场景则可能涉及多个`AI Agent`的协同工作，包括多个分支和循环的构成。无论是简单还是复杂的图，`LangGraph`的价值永远不在于如何去定义节点，如何去定义边，而是在于**如何有效管理各个节点的输入和输出，以保持图的持续运行状态**。`LangGraph`的**底层图算法采用消息传递机制来定义和执行这些图中的交互流程，其中状态（State）组件扮演着关键的载体角色，负责在图的各个节点之间传递信息**。这也就意味着**，`LangGraph`框架的核心在于`State`的有效使用和掌握。在复杂的应用中，`State`组件需要存储和管理的信息量会显著增加。核心功能如工具使用、记忆能力和人机交互等，都依赖`State`来实现和维护**。所以，接下来我们对`LangGragh`框架的探索，都将紧密围绕`State`的实现和应用机制展开，这包括`LangGraph`内置封装好的工具/方法的使用，以及我们自定义构建功能时的实现方法。"
   ]
  },
  {
   "cell_type": "markdown",
   "id": "7c46844a-b07b-4d39-b120-1c811fc8e502",
   "metadata": {},
   "source": [
    "&emsp;&emsp;因此，**对于`LangGraph`的底层图算法是利用消息传递机制来定义程序的运行**这一结论，在本节课中，我们将详细探讨消息（Messages）是如何通过`State`进行传递的，其中包含了什么传递模式和内容。"
   ]
  },
  {
   "cell_type": "markdown",
   "id": "2d12fe47-c7ad-4068-86ff-f9ef46f7768a",
   "metadata": {},
   "source": [
    "# 1. LangGraph中State的定义模式"
   ]
  },
  {
   "cell_type": "markdown",
   "id": "9db5fa81-2c62-40fb-95a5-cab087f21dc5",
   "metadata": {},
   "source": [
    "&emsp;&emsp;为了更清晰地说明这一过程，我们可以借助如下流程图来理解消息在图结构中的流转过程：👇"
   ]
  },
  {
   "cell_type": "markdown",
   "id": "ab13c50b-e8f2-48d4-b7a2-e6e56d02b6ae",
   "metadata": {},
   "source": [
    "<div align=center><img src=\"https://muyu001.oss-cn-beijing.aliyuncs.com/img/20241022009.png\" width=100%></div>"
   ]
  },
  {
   "cell_type": "markdown",
   "id": "25a50f65-fd66-415b-b790-a1a7bab237ac",
   "metadata": {},
   "source": [
    "&emsp;&emsp;`LangGraph`构建的**图中的每个节点都具备访问、读取和写入状态的权限。当某一个节点去修改状态时，它会将此信息广播到图中的所有其他节点。这种广播机制允许其他节点响应状态的变化并相应地调整其行为。**如上图所示，从初始状态（Initial State）开始，其中包含了一条消息 { \"x\": \"10\" }，随着消息在节点间通过边传递，每个节点根据其逻辑对状态进行更新。Node 1 和 Node 2 分别对状态进行了处理和变更，结果是在图的末端，我们得到了一个包含三条消息的最终状态 { \"x\": \"10\" }, { \"x\": \"11\" }, { \"y\": \"9\" }。**从开发的角度来看，`State`实际上是一个共享的数据结构。如上图所示，状态表现为一个简单的字典。通过对这个字典进行读写操作，可以实现自左而右的数据流动，从而构建一个可运行的图结构。**那么根据上一节课程学习的内容，我们可以利用这个流程来复现并理解图中的动态数据交换，整体的设计如下："
   ]
  },
  {
   "cell_type": "markdown",
   "id": "bbb5d174-fd4b-439a-ae3f-9d18a6d5766a",
   "metadata": {},
   "source": [
    "<div align=center><img src=\"https://muyu001.oss-cn-beijing.aliyuncs.com/img/20241022005.png\" width=100%></div>"
   ]
  },
  {
   "cell_type": "markdown",
   "id": "5e8b865c-4382-4ca0-9742-718d45caee07",
   "metadata": {},
   "source": [
    "## 1.1 使用字典类型定义状态"
   ]
  },
  {
   "cell_type": "markdown",
   "id": "1e8d1806-594c-4c4b-8603-01976d5a05ce",
   "metadata": {},
   "source": [
    "&emsp;&emsp;对于上图中的数据场景，我们来实际的进行代码复现。\n",
    "\n",
    "&emsp;&emsp;首先，我们将图的状态设计为一个字典，用于在不同节点间共享和修改数据，然后使用`StateGraph`类进行图的实例化。代码如下："
   ]
  },
  {
   "cell_type": "code",
   "execution_count": 30,
   "id": "97129b54-2f07-49e5-b559-2ca1ba2826b6",
   "metadata": {},
   "outputs": [],
   "source": [
    "from langgraph.graph import StateGraph\n",
    "\n",
    "# 构建图\n",
    "builder = StateGraph(dict) "
   ]
  },
  {
   "cell_type": "code",
   "execution_count": 32,
   "id": "fb455765-305f-4eb3-8bee-821ce7c543a7",
   "metadata": {},
   "outputs": [
    {
     "data": {
      "text/plain": [
       "dict"
      ]
     },
     "execution_count": 32,
     "metadata": {},
     "output_type": "execute_result"
    }
   ],
   "source": [
    "builder.schema"
   ]
  },
  {
   "cell_type": "markdown",
   "id": "d74aa066-7fac-4dc1-860e-4e1989d4ccc3",
   "metadata": {},
   "source": [
    "&emsp;&emsp;接下来，定义两个节点。`addition`节点是一个加法逻辑，接收当前状态，将字典中`x`的值增加1，并返回新的状态。而`subtraction`节点是一个减法逻辑，接收从`addition`节点传来的状态，从字典中的`x`值减去2，创建并返回一个新的键y。"
   ]
  },
  {
   "cell_type": "code",
   "execution_count": 34,
   "id": "66e4d085-0588-4844-b9e7-9631966030e7",
   "metadata": {},
   "outputs": [],
   "source": [
    "def addition(state):\n",
    "    print(state)\n",
    "    return {\"x\": state[\"x\"] + 1}\n",
    "\n",
    "def subtraction(state):\n",
    "    print(state)\n",
    "    return {\"y\": state[\"x\"] - 2}"
   ]
  },
  {
   "cell_type": "markdown",
   "id": "c02fd7cb-3aa9-4854-882d-0b37362ee95f",
   "metadata": {},
   "source": [
    "&emsp;&emsp;然后，进行图结构的设计。具体来看，我们添加名为`addition`和`subtraction`的节点，并关联到上面定义的函数。设定图的起始节点为`addition`，并从`addition`到`subtraction`设置一条边，最后从`subtraction`到结束节点设置另一条边。代码如下："
   ]
  },
  {
   "cell_type": "code",
   "execution_count": 36,
   "id": "11c962cc-02b1-406f-b4c4-0b27fe29b63c",
   "metadata": {},
   "outputs": [
    {
     "data": {
      "text/plain": [
       "<langgraph.graph.state.StateGraph at 0x1d017f60650>"
      ]
     },
     "execution_count": 36,
     "metadata": {},
     "output_type": "execute_result"
    }
   ],
   "source": [
    "from langgraph.graph import START, END\n",
    "\n",
    "\n",
    "# 向图中添加两个节点\n",
    "builder.add_node(\"addition\", addition)\n",
    "builder.add_node(\"subtraction\", subtraction)\n",
    "\n",
    "# 构建节点之间的边\n",
    "builder.add_edge(START, \"addition\")\n",
    "builder.add_edge(\"addition\", \"subtraction\")\n",
    "builder.add_edge(\"subtraction\", END)"
   ]
  },
  {
   "cell_type": "code",
   "execution_count": 38,
   "id": "c6c99f7d-d24e-4e9d-b949-daea7a830ae1",
   "metadata": {},
   "outputs": [
    {
     "data": {
      "text/plain": [
       "{('__start__', 'addition'),\n",
       " ('addition', 'subtraction'),\n",
       " ('subtraction', '__end__')}"
      ]
     },
     "execution_count": 38,
     "metadata": {},
     "output_type": "execute_result"
    }
   ],
   "source": [
    "builder.edges"
   ]
  },
  {
   "cell_type": "code",
   "execution_count": 40,
   "id": "a76fde18-b303-409f-bc93-6340c0e17779",
   "metadata": {},
   "outputs": [
    {
     "data": {
      "text/plain": [
       "{'addition': StateNodeSpec(runnable=addition(tags=None, recurse=True, func_accepts_config=False, func_accepts={'writer': False, 'store': False}), metadata=None, input=<class 'dict'>, retry_policy=None),\n",
       " 'subtraction': StateNodeSpec(runnable=subtraction(tags=None, recurse=True, func_accepts_config=False, func_accepts={'writer': False, 'store': False}), metadata=None, input=<class 'dict'>, retry_policy=None)}"
      ]
     },
     "execution_count": 40,
     "metadata": {},
     "output_type": "execute_result"
    }
   ],
   "source": [
    "builder.nodes"
   ]
  },
  {
   "cell_type": "code",
   "execution_count": 42,
   "id": "a1cb1b46-eff4-42ef-9942-2e0a8d06eea7",
   "metadata": {},
   "outputs": [
    {
     "data": {
      "text/plain": [
       "dict"
      ]
     },
     "execution_count": 42,
     "metadata": {},
     "output_type": "execute_result"
    }
   ],
   "source": [
    "builder.schema"
   ]
  },
  {
   "cell_type": "markdown",
   "id": "84374a2b-3ff7-44e9-aaf6-2bbb2401ac31",
   "metadata": {},
   "source": [
    "&emsp;&emsp;最后，执行图的编译。需要通过调用`compile()`方法将这些设置编译成一个可执行的图。代码如下所示："
   ]
  },
  {
   "cell_type": "code",
   "execution_count": 44,
   "id": "6f6e77e3-03e9-456e-b9c2-06ff25075a24",
   "metadata": {},
   "outputs": [],
   "source": [
    "graph = builder.compile()"
   ]
  },
  {
   "cell_type": "markdown",
   "id": "981a3770-edea-4050-be93-83cfd478801c",
   "metadata": {},
   "source": [
    "&emsp;&emsp;除了上述通过打印的方式查看构建图的结构，`LangGraph`还提供了多种内置的图形可视化方法，能够将任何`Graph`以图形的形式展示出来，帮助我们更好地理解节点之间的关系和流程的动态变化。**可视化最大的好处是：直接从代码中生成图形化的表示，可以检查图的执行逻辑是否符合构建的预期。**`LangGraph`提供的三种图形可视化方法如下：\n",
    "\n",
    "- **Mermaid.Ink**：一个开源服务，可以根据 Mermaid 代码生成图表的 URL。它通过 API 提供多种输出格式，包括 PNG、JPEG、SVG 和 PDF，并可以自定义尺寸、主题和背景颜色等选项。开源仓库👉：[mermaid](https://github.com/mermaid-js/mermaid)\n",
    "- **Mermaid + Pyppeteer**：使用 Mermaid 结合 Pyppeteer 的主要区别在于如何将 Mermaid 图表转换成图像或其他格式。Mermaid 本身是一个轻量级的工具，用于通过文本描述生成图表的图形表示。而 Pyppeteer 是一个 Python 库，它提供了一个接口来控制 Chrome，自动打开包含 Mermaid 图表的网页，然后通过浏览器自动截图功能捕获这些图表，生成图像文件。\n",
    "- **Graphviz**：Graphviz 是一个图形可视化软件，主要用于自动图形布局。它非常适合于复杂图形的生成，如有向图和无向图，而且它支持多种格式的图像输出，如 PNG、SVG、PDF 等，有更精细的布局控制。"
   ]
  },
  {
   "cell_type": "markdown",
   "id": "b10c38e8-a46e-45eb-b8ee-a2208b05b1ed",
   "metadata": {},
   "source": [
    "> https://langchain-ai.github.io/langgraph/how-tos/visualization/"
   ]
  },
  {
   "cell_type": "markdown",
   "id": "ae838345-d82c-4750-8f2c-7a385d9b8268",
   "metadata": {},
   "source": [
    "<div align=center><img src=\"https://muyu001.oss-cn-beijing.aliyuncs.com/img/image-20241022191827626.png\" width=90%></div>"
   ]
  },
  {
   "cell_type": "markdown",
   "id": "bf53e737-9dd6-499c-9c02-f8b5591d3316",
   "metadata": {},
   "source": [
    "&emsp;&emsp;如果是`Linux`操作系统，建议使用`Graphviz`工具。而`Windows`系统建议使用`Mermaid + Pyppeteer`方法，因为在`Windwos`中`Graphviz`并不能直接通过 `pip install`的形式安装，编译安装的方法较为复杂。这里我们就使用`Mermaid + Pyppeteer`来进行图的可视化操作。首先，在当前的虚拟环境中安装依赖包，执行如下代码："
   ]
  },
  {
   "cell_type": "code",
   "execution_count": 25,
   "id": "8d43db7e-7f4d-4fd7-8ace-4fc0508ab340",
   "metadata": {},
   "outputs": [],
   "source": [
    "# ! pip install pyppeteer ipython"
   ]
  },
  {
   "cell_type": "markdown",
   "id": "60dd801b-2b6a-4020-98b8-c764a273b107",
   "metadata": {},
   "source": [
    "&emsp;&emsp;生成图结构的可视化非常直接，只需一行代码即可完成。具体代码如下：\n"
   ]
  },
  {
   "cell_type": "code",
   "execution_count": 46,
   "id": "797ed7e2-ace8-4a67-a259-440ac551efc2",
   "metadata": {},
   "outputs": [
    {
     "data": {
      "image/jpeg": "[encoded data removed]",
      "text/plain": [
       "<IPython.core.display.Image object>"
      ]
     },
     "metadata": {},
     "output_type": "display_data"
    }
   ],
   "source": [
    "from IPython.display import Image, display\n",
    "\n",
    "display(Image(graph.get_graph(xray=True).draw_mermaid_png()))"
   ]
  },
  {
   "cell_type": "markdown",
   "id": "2ff009fc-cae6-4043-8599-e98139801e4c",
   "metadata": {},
   "source": [
    "&emsp;&emsp;当通过 `builder.compile()` 方法编译图后，编译后的 `graph` 对象提供了 `invoke` 方法，该方法用于启动图的执行。我们可以通过 `invoke` 方法传递一个初始状态（如 `initial_state = {\"x\": 10}`），这个状态将作为图执行的起始输入。代码如下："
   ]
  },
  {
   "cell_type": "code",
   "execution_count": 33,
   "id": "f84afb4b-c14e-44d8-8394-35f17ee423a2",
   "metadata": {},
   "outputs": [
    {
     "name": "stdout",
     "output_type": "stream",
     "text": [
      "{'x': 10}\n",
      "{'x': 11}\n"
     ]
    },
    {
     "data": {
      "text/plain": [
       "{'y': 9}"
      ]
     },
     "execution_count": 33,
     "metadata": {},
     "output_type": "execute_result"
    }
   ],
   "source": [
    "# 定义一个初始化的状态\n",
    "initial_state = {\"x\":10}\n",
    "\n",
    "graph.invoke(initial_state)"
   ]
  },
  {
   "cell_type": "markdown",
   "id": "ce3ee7e2-da8e-4407-b59b-e9d01cd54527",
   "metadata": {},
   "source": [
    "&emsp;&emsp;在图的执行过程中，每个节点的函数会被调用，并且接收到前一个节点返回的状态作为输入。每个函数处理完状态后，会输出一个新的状态，传递给下一个节点。这里需要注意的一个关键信息是：**节点函数不需要返回整个状态，而是仅返回它们更新的部分。**也就是说：在每个节点的函数内部逻辑中，需要使用和更新哪些`State`中的参数中，只需要在`return`的时候指定即可，不必担心未在当前节点处理的State中的其他值会丢失，因为LangGraph的内部机制已经自动处理了状态的合并和维护。"
   ]
  },
  {
   "cell_type": "markdown",
   "id": "b89d7c14-9f79-40ca-8f4b-694e25b182f6",
   "metadata": {},
   "source": [
    "&emsp;&emsp;上述代码执行过程中图的运行状态如下图所示：👇"
   ]
  },
  {
   "cell_type": "markdown",
   "id": "237472e5-c1ad-4e90-b80b-d2c2d764cc59",
   "metadata": {},
   "source": [
    "<div align=center><img src=\"https://muyu001.oss-cn-beijing.aliyuncs.com/img/202410220010.png\" width=100%></div>"
   ]
  },
  {
   "cell_type": "markdown",
   "id": "3f5acb9d-2705-4016-8d44-b7560688296d",
   "metadata": {},
   "source": [
    "&emsp;&emsp;总体来看，该图设置了一个简单的工作流程。其中值首先在第一个节点通过加法函数增加，然后在第二个节点通过减法函数减少。这一流程展示了节点如何通过图中的共享状态进行交互。需要注意的是，**状态在任何给定时间只包含来自一个节点的更新信息。这意味着当节点处理状态时，它只能访问与其特定操作直接相关的数据，从而确保每个节点的逻辑是隔离和集中的。**使用字典作为状态模式非常简单，**由于缺乏预定义的模式，节点可以在没有严格类型约束的情况下自由地读取和写入状态，这样的灵活性有利于动态数据处理。**然而，这也要求开发者在整个图的执行过程中保持对键和值的一致性管理。因为如果在任何节点中尝试访问`State`中不存在的键，会直接中断整个图的运行状态。"
   ]
  },
  {
   "cell_type": "markdown",
   "id": "b8c5296b-a28f-4b6e-b389-3bf8fd4ddef1",
   "metadata": {},
   "source": [
    "&emsp;&emsp;到此为止，我们可以来思考一个问题：既然所有节点都会向状态（State）发出更新，为什么仅通过返回需要更新的键值，就能实现状态的全局共享呢？除此之外，如果我们需要对状态进行更复杂的操作，如新增、删除或修改等，应该如何构造这些操作呢？这就引出了我们需要深入理解的概念——在 `LangGraph` 中如何利用 `Reducer` 函数来精细控制状态的变化。"
   ]
  },
  {
   "cell_type": "markdown",
   "id": "1ab41d71-1a90-4378-bc49-103062c4b9a0",
   "metadata": {},
   "source": [
    "## 1.2 Reducer函数的机制"
   ]
  },
  {
   "cell_type": "markdown",
   "id": "3e61c6e6-2c34-4f96-b122-73458cada64e",
   "metadata": {},
   "source": [
    "&emsp;&emsp;`LangGraph`内部**原理是：`State`中的每个`key`都有自己独立的`Reducer`函数，通过指定的`reducer`函数应用状态值的更新。**\n",
    "\n",
    "&emsp;&emsp;`Reducer` 函数用来根据当前的状态（state）和一个操作（action）来计算并返回新的状态。它是一种设计模式，用于将业务逻辑与状态变更解耦，使得状态的变更预测性更强并且容易追踪。这样的函数通常接收两个参数：当前的状态（state）和一个描述应用了什么操作的对象（action）， 根据 `action` 类型来决定如何修改状态。比如，在一个购物车应用中，可能会有添加商品、删除商品、修改商品数量等操作。返回一个新的状态对象，而不是修改原始状态对象。**简单理解，`Reducer`函数做的就是根据给定的输入（当前状态和操作）生成新的状态。**"
   ]
  },
  {
   "cell_type": "markdown",
   "id": "e28466a3-1d0b-43f3-851c-5d149ab1d7da",
   "metadata": {},
   "source": [
    "> LangGraph Update State 源码：https://langchain-ai.github.io/langgraph/reference/graphs/#langgraph.graph.graph.CompiledGraph.update_state"
   ]
  },
  {
   "cell_type": "markdown",
   "id": "c48a420c-e9c0-4016-9f54-eab69c0f9406",
   "metadata": {},
   "source": [
    "&emsp;&emsp;`LangGraph`中，如果没有显示的指定，则对该键的所有更新都执行的是覆盖操作。我们看一下下面这段代码："
   ]
  },
  {
   "cell_type": "code",
   "execution_count": 59,
   "id": "aa1afb76-1b82-4484-8e42-eb96615481c4",
   "metadata": {},
   "outputs": [
    {
     "name": "stdout",
     "output_type": "stream",
     "text": [
      "{'x': 10}\n",
      "{'x': 11}\n"
     ]
    },
    {
     "data": {
      "text/plain": [
       "{'x': 11, 'y': 9}"
      ]
     },
     "execution_count": 59,
     "metadata": {},
     "output_type": "execute_result"
    }
   ],
   "source": [
    "from typing_extensions import TypedDict\n",
    "from langgraph.graph import START, StateGraph, END\n",
    "\n",
    "def addition(state):\n",
    "    print(state)\n",
    "    return {\"x\": state[\"x\"] + 1}\n",
    "\n",
    "def subtraction(state):\n",
    "    print(state)\n",
    "    return {\"y\": state[\"x\"] - 2}\n",
    "\n",
    "class State(TypedDict):\n",
    "    x: int\n",
    "    y: int\n",
    "\n",
    "\n",
    "# 构建图\n",
    "builder = StateGraph(State) \n",
    "\n",
    "# 向图中添加两个节点\n",
    "builder.add_node(\"addition\", addition)\n",
    "builder.add_node(\"subtraction\", subtraction)\n",
    "\n",
    "# 构建节点之间的边\n",
    "builder.add_edge(START, \"addition\")\n",
    "builder.add_edge(\"addition\", \"subtraction\")\n",
    "builder.add_edge(\"subtraction\", END)\n",
    "\n",
    "graph = builder.compile()\n",
    "\n",
    "# 定义一个初始化的状态\n",
    "initial_state = {\"x\":10}\n",
    "\n",
    "graph.invoke(initial_state)"
   ]
  },
  {
   "cell_type": "markdown",
   "id": "cbb58666-e5f8-4ab4-b9ae-38ff38bb15a8",
   "metadata": {},
   "source": [
    "&emsp;&emsp;在这里，我们通过使用 `TypedDict` 来定义 `State` 的模式，从而精确控制图结构中状态信息的格式和类型。与上面所使用的传统字典类型相比，`TypedDict` 允许我们明确指定每个键的类型，有助于防止在状态管理过程中出现类型错误。我们强烈建议在开发过程中采用这种方式来定义和管理状态，特别是在涉及复杂状态逻辑和多个状态依赖的应用中。"
   ]
  },
  {
   "cell_type": "markdown",
   "id": "46ed58fa-7bde-42a5-9390-5f5eb1613456",
   "metadata": {},
   "source": [
    "&emsp;&emsp;接下来 我们再看另一种情况：在下面的图中，`State`还是一个结构化字典，其中包含一个名为 messages 的键，该键保存一个字符串列表。我们用这个状态管理节点在执行期间将处理的数据。状态的模式是使用`TypedDict`定义，它指定消息是带注释的字符串列表。该注释包括`operator.add`，表示可以通过使用添加操作将新消息与现有消息组合来更新列表。代码如下："
   ]
  },
  {
   "cell_type": "code",
   "execution_count": 63,
   "id": "141824cd-ba5b-489d-a5b2-d2829a2c36e5",
   "metadata": {},
   "outputs": [],
   "source": [
    "import operator\n",
    "from typing import Annotated, TypedDict, List\n",
    "\n",
    "class State(TypedDict):\n",
    "    messages: Annotated[List[str], operator.add]"
   ]
  },
  {
   "cell_type": "markdown",
   "id": "405fec46-2dcc-4abd-83ed-5e43ab832882",
   "metadata": {},
   "source": [
    "> Annotated 是 `Python` 的一个类型提示工具，属于 typing 模块。它被用来添加额外的信息或元数据到类型提示上。这些信息可以是关于如何使用该类型的指示，或者提供给静态类型检查器、框架和库的其他元数据。"
   ]
  },
  {
   "cell_type": "markdown",
   "id": "214fa4d7-b1b5-4a6f-ba70-c89c9b5d8373",
   "metadata": {},
   "source": [
    "&emsp;&emsp;当定义状态模式的结构发生了变化以后，在节点函数中的读取和存储逻辑也要发生相应的变化。流程图如下："
   ]
  },
  {
   "cell_type": "markdown",
   "id": "e20820cd-84f9-4546-8d0e-a0a8f616c4fb",
   "metadata": {},
   "source": [
    "<div align=center><img src=\"https://muyu001.oss-cn-beijing.aliyuncs.com/img/20241022006.png\" width=100%></div>"
   ]
  },
  {
   "cell_type": "markdown",
   "id": "517b7a91-f244-48ea-8bf6-412d80c83d19",
   "metadata": {},
   "source": [
    "&emsp;&emsp;上图中的完整代码复现如下："
   ]
  },
  {
   "cell_type": "code",
   "execution_count": 90,
   "id": "9e3ca757-19bb-4eaf-80a6-164d4eeec7fa",
   "metadata": {},
   "outputs": [],
   "source": [
    "def addition(state):\n",
    "    print(state)\n",
    "    msg = state['messages'][-1]\n",
    "    response = {\"x\": msg[\"x\"] + 1}\n",
    "    return {\"messages\": [response]}\n",
    "\n",
    "def subtraction(state):\n",
    "    print(state)\n",
    "    msg = state['messages'][-1]\n",
    "    response = {\"x\": msg[\"x\"] - 2}\n",
    "    return {\"messages\": [response]}"
   ]
  },
  {
   "cell_type": "code",
   "execution_count": 92,
   "id": "e99607a4-00ec-4899-a4f4-d948ebd12179",
   "metadata": {},
   "outputs": [],
   "source": [
    "# 构建图\n",
    "builder = StateGraph(State) \n",
    "\n",
    "# 向图中添加两个节点\n",
    "builder.add_node(\"node1\", addition)\n",
    "builder.add_node(\"node2\", subtraction)\n",
    "\n",
    "# 构建节点之间的边\n",
    "builder.add_edge(START, \"node1\")\n",
    "builder.add_edge(\"node1\", \"node2\")\n",
    "builder.add_edge(\"node2\", END)\n",
    "\n",
    "graph = builder.compile()"
   ]
  },
  {
   "cell_type": "code",
   "execution_count": 94,
   "id": "0cbdaabf-2f36-4a8f-9101-1686a179aeab",
   "metadata": {},
   "outputs": [
    {
     "data": {
      "image/jpeg": "[encoded data removed]",
      "text/plain": [
       "<IPython.core.display.Image object>"
      ]
     },
     "metadata": {},
     "output_type": "display_data"
    }
   ],
   "source": [
    "from IPython.display import Image, display\n",
    "\n",
    "display(Image(graph.get_graph(xray=True).draw_mermaid_png()))"
   ]
  },
  {
   "cell_type": "code",
   "execution_count": 95,
   "id": "46b04bde-6e11-4dbc-af28-d8a6c30bac89",
   "metadata": {},
   "outputs": [
    {
     "name": "stdout",
     "output_type": "stream",
     "text": [
      "{'messages': [{'x': 10}]}\n",
      "{'messages': [{'x': 10}, {'x': 11}]}\n"
     ]
    },
    {
     "data": {
      "text/plain": [
       "{'messages': [{'x': 10}, {'x': 11}, {'x': 9}]}"
      ]
     },
     "execution_count": 95,
     "metadata": {},
     "output_type": "execute_result"
    }
   ],
   "source": [
    "input_state = {'messages': [{\"x\": 10}]}\n",
    "\n",
    "graph.invoke(input_state)"
   ]
  },
  {
   "cell_type": "code",
   "execution_count": 96,
   "id": "e2cf009a-baa4-4198-974d-5f8a4b156e90",
   "metadata": {},
   "outputs": [
    {
     "name": "stdout",
     "output_type": "stream",
     "text": [
      "{'messages': [{'x': 32}]}\n",
      "{'messages': [{'x': 32}, {'x': 33}]}\n"
     ]
    },
    {
     "data": {
      "text/plain": [
       "{'messages': [{'x': 32}, {'x': 33}, {'x': 31}]}"
      ]
     },
     "execution_count": 96,
     "metadata": {},
     "output_type": "execute_result"
    }
   ],
   "source": [
    "graph.invoke({'messages': [{\"x\": 32}]})"
   ]
  },
  {
   "cell_type": "code",
   "execution_count": 97,
   "id": "38999f9e-374d-4abf-89d2-46d796652abf",
   "metadata": {},
   "outputs": [
    {
     "name": "stdout",
     "output_type": "stream",
     "text": [
      "{'messages': [{'x': 44}]}\n",
      "{'messages': [{'x': 44}, {'x': 45}]}\n"
     ]
    },
    {
     "data": {
      "text/plain": [
       "{'messages': [{'x': 44}, {'x': 45}, {'x': 43}]}"
      ]
     },
     "execution_count": 97,
     "metadata": {},
     "output_type": "execute_result"
    }
   ],
   "source": [
    "graph.invoke({'messages': [{\"x\": 44}]})"
   ]
  },
  {
   "cell_type": "markdown",
   "id": "d3ef5889-e533-475e-98d3-51371a7f518b",
   "metadata": {},
   "source": [
    "&emsp;&emsp;通过这样的例子我们可以理解：`Reducers` 的目的是在`LangGraph`框架中的状态管理系统中，允许更灵活地定义状态如何根据各种操作更新。通过指定不同的 `reducer` 函数，我们可以控制状态的每个部分应如何响应特定的更新。"
   ]
  },
  {
   "cell_type": "markdown",
   "id": "0adb88eb-a5d3-4492-abf8-84cfceb0dedd",
   "metadata": {},
   "source": [
    "## 1.3 在图状态中处理消息的思路"
   ]
  },
  {
   "cell_type": "markdown",
   "id": "51714a9e-49d3-4568-b24f-9ad727760dd7",
   "metadata": {},
   "source": [
    "&emsp;&emsp;`Reducer`机制的一个现实意义是：我们可以基于这种方式去构建历史对话记录。因为目前大多数大模型应用都是接受消息列表作为输入。 就像`LangChain`中的`Chat Model`，需要接收`Message`对象列表作为输入。这些消息有多种形式，例如HumanMessage （用户输入）或AIMessage （ 大模型响应）。"
   ]
  },
  {
   "cell_type": "markdown",
   "id": "ed732ddd-c5f3-4a47-be6f-e2f770f17680",
   "metadata": {},
   "source": [
    "&emsp;&emsp;下面这个示例，我们进一步将大模型接入到 `LangGraph` 工作流程中，并允许动态消息处理以及与模型的交互。其余组件与先前定义的图中的组件相同。在这里，第一个节点调用大模型并生成一个输出，该输出是一个`AIMessage`对象类型，然后，第二个节点直接将前一个节点的 `AIMessage` 提取为具体的`JSON`格式，完整代码如下："
   ]
  },
  {
   "cell_type": "code",
   "execution_count": 103,
   "id": "a1e32445-5c45-417e-83c0-9462140a4b24",
   "metadata": {},
   "outputs": [],
   "source": [
    "import getpass\n",
    "import os\n",
    "from langchain_openai import ChatOpenAI\n",
    "from langchain_core.prompts import ChatPromptTemplate\n",
    "import operator\n",
    "from typing import Annotated, TypedDict, List\n",
    "from langgraph.graph import StateGraph,  END\n",
    "from IPython.display import Image, display\n",
    "from langchain_core.messages import SystemMessage, HumanMessage, AIMessage\n",
    "\n",
    "\n",
    "if not os.environ.get(\"OPENAI_API_KEY\"):\n",
    "    os.environ[\"OPENAI_API_KEY\"] = getpass.getpass(\"Enter your OpenAI API key: \")\n",
    "\n",
    "\n",
    "llm = ChatOpenAI(model='gpt-4o')\n",
    "\n",
    "\n",
    "# 定义图的状态模式\n",
    "class State(TypedDict):\n",
    "    messages: Annotated[List[str], operator.add]\n",
    "\n",
    "# 创建图的实例\n",
    "builder = StateGraph(State)\n",
    "\n",
    "def chat_with_model(state):\n",
    "    print(state)\n",
    "    print(\"-----------------\")\n",
    "    messages = state['messages']\n",
    "    response = llm.invoke(messages)\n",
    "    return {\"messages\": [response]}\n",
    "\n",
    "def convert_messages(state):\n",
    "    # \"您是一位数据提取专家，负责从文本中检索关键信息。请为所提供的文本提取相关信息，并以 JSON 格式输出。概述所提取的关键数据点。\"\n",
    "    EXTRACTION_PROMPT = \"\"\"\n",
    "    You are a data extraction specialist tasked with retrieving key information from a text.\n",
    "    Extract such information for the provided text and output it in JSON format. Outline the key data points extracted.\n",
    "    \"\"\"\n",
    "    print(state)\n",
    "    print(\"-----------------\")\n",
    "    messages = state['messages']\n",
    "    messages = messages[-1] \n",
    "\n",
    "    messages = [\n",
    "        SystemMessage(content=EXTRACTION_PROMPT),\n",
    "        HumanMessage(content=state['messages'][-1].content)\n",
    "    ]\n",
    "    \n",
    "    response = llm.invoke(messages)\n",
    "    return {\"messages\": [response]}\n",
    "\n",
    "# 添加节点\n",
    "builder.add_node(\"chat_with_model\", chat_with_model)\n",
    "builder.add_node(\"convert_messages\", convert_messages)\n",
    "\n",
    "# 设置启动点\n",
    "builder.set_entry_point(\"chat_with_model\")\n",
    "\n",
    "# 添加边\n",
    "builder.add_edge(\"chat_with_model\", \"convert_messages\")\n",
    "builder.add_edge(\"convert_messages\", END)\n",
    "\n",
    "# 编译图\n",
    "graph = builder.compile()"
   ]
  },
  {
   "cell_type": "code",
   "execution_count": 105,
   "id": "14faea13-8f89-4668-a3ce-f783363f1973",
   "metadata": {},
   "outputs": [
    {
     "data": {
      "image/jpeg": "[encoded data removed]",
      "text/plain": [
       "<IPython.core.display.Image object>"
      ]
     },
     "metadata": {},
     "output_type": "display_data"
    }
   ],
   "source": [
    "display(Image(graph.get_graph(xray=True).draw_mermaid_png()))"
   ]
  },
  {
   "cell_type": "code",
   "execution_count": 107,
   "id": "879d2c26-8076-4d4e-85db-f0ce50e32b87",
   "metadata": {},
   "outputs": [
    {
     "name": "stdout",
     "output_type": "stream",
     "text": [
      "{'messages': [HumanMessage(content='你好，请你介绍一下你自己', additional_kwargs={}, response_metadata={})]}\n",
      "-----------------\n",
      "{'messages': [HumanMessage(content='你好，请你介绍一下你自己', additional_kwargs={}, response_metadata={}), AIMessage(content='你好！我是一个大型语言模型，由OpenAI开发，名为ChatGPT。我设计的目的是帮助回答各种问题，提供信息和协助解决问题。我的知识基于截至2021年9月之前的广泛数据，因此我可以回答许多关于历史、科学、文化、技术等方面的问题。不过，我没有个人经历或情感，因为我只是一个程序。如果你有什么问题或需要帮助，随时告诉我！', additional_kwargs={'refusal': None}, response_metadata={'token_usage': {'completion_tokens': 92, 'prompt_tokens': 14, 'total_tokens': 106, 'prompt_tokens_details': {'cached_tokens': 0}, 'completion_tokens_details': {'reasoning_tokens': 0}}, 'model_name': 'gpt-4o-2024-08-06', 'system_fingerprint': 'fp_a7d06e42a7', 'finish_reason': 'stop', 'logprobs': None}, id='run-3787c3fd-c249-497a-a753-4eca34da80c5-0', usage_metadata={'input_tokens': 14, 'output_tokens': 92, 'total_tokens': 106, 'input_token_details': {'cache_read': 0}, 'output_token_details': {'reasoning': 0}})]}\n",
      "-----------------\n",
      "{'messages': [HumanMessage(content='你好，请你介绍一下你自己', additional_kwargs={}, response_metadata={}), AIMessage(content='你好！我是一个大型语言模型，由OpenAI开发，名为ChatGPT。我设计的目的是帮助回答各种问题，提供信息和协助解决问题。我的知识基于截至2021年9月之前的广泛数据，因此我可以回答许多关于历史、科学、文化、技术等方面的问题。不过，我没有个人经历或情感，因为我只是一个程序。如果你有什么问题或需要帮助，随时告诉我！', additional_kwargs={'refusal': None}, response_metadata={'token_usage': {'completion_tokens': 92, 'prompt_tokens': 14, 'total_tokens': 106, 'prompt_tokens_details': {'cached_tokens': 0}, 'completion_tokens_details': {'reasoning_tokens': 0}}, 'model_name': 'gpt-4o-2024-08-06', 'system_fingerprint': 'fp_a7d06e42a7', 'finish_reason': 'stop', 'logprobs': None}, id='run-3787c3fd-c249-497a-a753-4eca34da80c5-0', usage_metadata={'input_tokens': 14, 'output_tokens': 92, 'total_tokens': 106, 'input_token_details': {'cache_read': 0}, 'output_token_details': {'reasoning': 0}}), AIMessage(content='```json\\n{\\n  \"language_model\": {\\n    \"name\": \"ChatGPT\",\\n    \"developer\": \"OpenAI\",\\n    \"purpose\": [\\n      \"Answering questions\",\\n      \"Providing information\",\\n      \"Assisting with problem-solving\"\\n    ],\\n    \"knowledge_cutoff\": \"September 2021\",\\n    \"areas_of_knowledge\": [\\n      \"History\",\\n      \"Science\",\\n      \"Culture\",\\n      \"Technology\"\\n    ],\\n    \"attributes\": [\\n      \"No personal experiences\",\\n      \"No emotions\",\\n      \"Program-based\"\\n    ]\\n  }\\n}\\n```', additional_kwargs={'refusal': None}, response_metadata={'token_usage': {'completion_tokens': 117, 'prompt_tokens': 143, 'total_tokens': 260, 'prompt_tokens_details': {'cached_tokens': 0}, 'completion_tokens_details': {'reasoning_tokens': 0}}, 'model_name': 'gpt-4o-2024-08-06', 'system_fingerprint': 'fp_a7d06e42a7', 'finish_reason': 'stop', 'logprobs': None}, id='run-e1210221-cc58-4335-97f8-a672ec3dbc5f-0', usage_metadata={'input_tokens': 143, 'output_tokens': 117, 'total_tokens': 260, 'input_token_details': {'cache_read': 0}, 'output_token_details': {'reasoning': 0}})]}\n"
     ]
    }
   ],
   "source": [
    "query=\"你好，请你介绍一下你自己\"\n",
    "input_message = {\"messages\": [HumanMessage(content=query)]}\n",
    "\n",
    "result = graph.invoke(input_message)\n",
    "\n",
    "print(result)"
   ]
  },
  {
   "cell_type": "code",
   "execution_count": 109,
   "id": "12e20f7e-f3e4-4c64-8b5a-0aecbeefe840",
   "metadata": {},
   "outputs": [
    {
     "name": "stdout",
     "output_type": "stream",
     "text": [
      "```json\n",
      "{\n",
      "  \"language_model\": {\n",
      "    \"name\": \"ChatGPT\",\n",
      "    \"developer\": \"OpenAI\",\n",
      "    \"purpose\": [\n",
      "      \"Answering questions\",\n",
      "      \"Providing information\",\n",
      "      \"Assisting with problem-solving\"\n",
      "    ],\n",
      "    \"knowledge_cutoff\": \"September 2021\",\n",
      "    \"areas_of_knowledge\": [\n",
      "      \"History\",\n",
      "      \"Science\",\n",
      "      \"Culture\",\n",
      "      \"Technology\"\n",
      "    ],\n",
      "    \"attributes\": [\n",
      "      \"No personal experiences\",\n",
      "      \"No emotions\",\n",
      "      \"Program-based\"\n",
      "    ]\n",
      "  }\n",
      "}\n",
      "```\n"
     ]
    }
   ],
   "source": [
    "print(result[\"messages\"][-1].content)"
   ]
  },
  {
   "cell_type": "markdown",
   "id": "9b2b6743-7850-4b26-9bf3-a9bbadd070a4",
   "metadata": {},
   "source": [
    "&emsp;&emsp;如上所示，在许多现实开发情况下，将先前的对话历史记录存储为图形状态中的消息列表是必须要做的。而实现这一功能，在`LangGraph`框架中可以向存储`Message`对象列表的图状态添加一个键（通道），并使用`Reducer`函数对其进行注释，从而告诉图在每次状态更新时（例如，当节点发送更新时）更新状态中的`Message`对象列表。如上所演示的案例中，简单地将消息追加到现有列表中，就是通过`operator.add`实现。"
   ]
  },
  {
   "cell_type": "markdown",
   "id": "8c51f87c-bf83-43f8-94ac-1e27838b66d0",
   "metadata": {},
   "source": [
    "## 1.4 MessageGraph源码功能解析"
   ]
  },
  {
   "cell_type": "markdown",
   "id": "7fdac237-b47a-472a-bd73-43f907f2d71f",
   "metadata": {},
   "source": [
    "&emsp;&emsp;更复杂一点的，如果我们还想手动更新图形状态中的消息（例如人机交互），**使用`operator.add`能做到的功能极限是：发送到图表的手动状态更新将被附加到现有的消息列表中，而不是更新现有的消息。**为了避免这种情况，我们则需要一个可以跟踪消息 ID 并覆盖现有消息（如果更新）的`Reducer`函数。为此，就引出了`LangGraph`预构建的`add_messages`函数，这个更高级的`Reducer`所实现的是：**对于全新的消息，它会附加到现有列表，但它也会正确处理现有消息的更新。如何理解这句话呢？我们接下来就从源码角度进行详细解析。**"
   ]
  },
  {
   "cell_type": "markdown",
   "id": "2ec35904-3b37-488f-935a-d00b3bd4a025",
   "metadata": {},
   "source": [
    "&emsp;&emsp;上节课程中我们分析过`LangGraph` 中的 `StateGraph`类，这个类允许我们创建图，其节点通过读取和写入共享状态进行通信。 `StateGraph` 类由开发者定义的 `State` 对象进行参数化，该对象表示图中的节点将通过其进行通信的共享数据结构。\n",
    "\n",
    "&emsp;&emsp;`MessageGraph` 是 `StateGraph` 的一个子类，使用了 `Annotated[list[AnyMessage], add_messages]` 来初始化其基类 `StateGraph`。这里的 `list[AnyMessage]` 指明了 `MessageGraph` 的状态由消息列表组成，而这个列表类型是一个可以不断添加消息的结构（因为列表是可变的数据类型），`MessageGraph` 中的每个节点都将消息列表作为输入，并返回零个或多个消息作为输出。`add_messages`函数用于将每个节点的输出消息合并进图的状态中已存在的消息列表。其源码定义如下："
   ]
  },
  {
   "cell_type": "markdown",
   "id": "8add1552-1c26-48ba-a636-55e54b3aae6d",
   "metadata": {},
   "source": [
    "> MessageGraph 源码：https://github.com/langchain-ai/langgraph/blob/e3ef9adac7395e5c0943c22bbc8a4a856b103aa3/libs/langgraph/langgraph/graph/message.py#L150"
   ]
  },
  {
   "cell_type": "markdown",
   "id": "ce0f28bc-ffde-4713-998f-e06ca71d248d",
   "metadata": {},
   "source": [
    "```python\n",
    "class MessageGraph(StateGraph):\n",
    "    def __init__(self) -> None:\r\n",
    "        super().__init__(Annotated[list[AnyMessage], add_messages]])\n",
    "```"
   ]
  },
  {
   "cell_type": "markdown",
   "id": "4aae853f-0204-46d5-8ce6-6d6cb8ba58a4",
   "metadata": {},
   "source": [
    "&emsp;&emsp;`Messages`图可以单独构建，如下代码所示："
   ]
  },
  {
   "cell_type": "code",
   "execution_count": 111,
   "id": "53ea17af-09ca-434e-8427-0a058b0766a2",
   "metadata": {},
   "outputs": [],
   "source": [
    "import getpass\n",
    "import os\n",
    "from langchain_openai import ChatOpenAI\n",
    "from langchain_core.prompts import ChatPromptTemplate\n",
    "\n",
    "if not os.environ.get(\"OPENAI_API_KEY\"):\n",
    "    os.environ[\"OPENAI_API_KEY\"] = getpass.getpass(\"Enter your OpenAI API key: \")\n",
    "\n",
    "\n",
    "llm = ChatOpenAI(model=\"gpt-4o\")\n",
    "\n",
    "def chatbot(state: State):\n",
    "    print(state)\n",
    "    return {\"messages\": [llm.invoke(state[\"messages\"])]}"
   ]
  },
  {
   "cell_type": "code",
   "execution_count": 113,
   "id": "2e648a1b-f929-4a06-b947-94364ba205fc",
   "metadata": {},
   "outputs": [],
   "source": [
    "from langgraph.graph.message import MessageGraph\n",
    "\n",
    "builder = MessageGraph()\n",
    "\n",
    "builder.add_node(\"chatbot\", lambda state: [(\"assistant\", \"你好，最帅气的人！\")])\n",
    "\n",
    "builder.set_entry_point(\"chatbot\")\n",
    "\n",
    "builder.set_finish_point(\"chatbot\")\n",
    "\n",
    "graph = builder.compile()"
   ]
  },
  {
   "cell_type": "code",
   "execution_count": 115,
   "id": "1b6e27b9-d784-4780-88f2-82e29f06b218",
   "metadata": {},
   "outputs": [
    {
     "data": {
      "text/plain": [
       "[HumanMessage(content='你好，请你介绍一下你自己.', additional_kwargs={}, response_metadata={}, id='362af5dc-338e-4c53-81e0-3836ac83b3d5'),\n",
       " AIMessage(content='你好，最帅气的人！', additional_kwargs={}, response_metadata={}, id='9d631688-af5f-4daa-b00b-4362392f6730')]"
      ]
     },
     "execution_count": 115,
     "metadata": {},
     "output_type": "execute_result"
    }
   ],
   "source": [
    "graph.invoke([(\"user\", \"你好，请你介绍一下你自己.\")])"
   ]
  },
  {
   "cell_type": "code",
   "execution_count": 117,
   "id": "997a9359-8778-4ac1-98db-51b60d731bc2",
   "metadata": {},
   "outputs": [
    {
     "data": {
      "text/plain": [
       "[HumanMessage(content='Hi 3213.', additional_kwargs={}, response_metadata={}, id='b4ef7019-7074-4029-8177-75ed28b2957c'),\n",
       " AIMessage(content='你好，最帅气的人！', additional_kwargs={}, response_metadata={}, id='8968e345-1d04-4138-998d-65b66cabb107')]"
      ]
     },
     "execution_count": 117,
     "metadata": {},
     "output_type": "execute_result"
    }
   ],
   "source": [
    "graph.invoke([(\"user\", \"Hi 3213.\")])"
   ]
  },
  {
   "cell_type": "markdown",
   "id": "4f5ac49d-f74c-4197-a503-929c74d27f06",
   "metadata": {},
   "source": [
    "&emsp;&emsp;MessageGraph通过使用单个仅附加消息列表作为其整个状态来管理状态，其中每个节点处理该列表并可以返回其他消息。这种设计特别适合对话式应用程序，可以轻松跟踪对话历史和交互。"
   ]
  },
  {
   "cell_type": "markdown",
   "id": "5058d6f7-a282-4aa7-bf27-6aebbf36cb36",
   "metadata": {},
   "source": [
    "&emsp;&emsp;继而进一步来看`add_messages`这个`Reducer`函数的定义情况："
   ]
  },
  {
   "cell_type": "markdown",
   "id": "495e2a36-e9a8-4631-8531-5c79d6db4591",
   "metadata": {},
   "source": [
    "```python\n",
    "\n",
    "class MessagesState(TypedDict):\n",
    "    messages: Annotated[list[AnyMessage], add_messages]\n",
    "\n",
    "\n",
    "def add_messages(left: Messages, right: Messages) -> Messages:\r\n",
    "    \"\"\"Merges two lists of messages, updating existing messages by ID.\r\n",
    "\r\n",
    "    By default, this ensures the state is \"append-only\", unless the\r\n",
    "    new message has the same ID as an existing message.\r\n",
    "\r\n",
    "    Args:\r\n",
    "        left: The base list of messages.\r\n",
    "        right: The list of messages (or single message) to merge\r\n",
    "            into the base list.\r\n",
    "\r\n",
    "    Returns:\r\n",
    "        A new list of messages with the messages from `right` merged into `left`.\r\n",
    "        If a message in `right` has the same ID as a message in `left`, the\r\n",
    "        message from `right` will replace the messagage(content='Hello', id=...)]}\r\n",
    "        ```\r\n",
    "\r\n",
    "    \"\"\"\r\n",
    "    # coerce to list\r\n",
    "    if not isinstance(left, list):\r\n",
    "        left = [left]  # type: ignore[assignment]\r\n",
    "    if not isinstance(right, list):\r\n",
    "        right = [right]  # type: ignore[assignment]\r\n",
    "    # coerce to message\r\n",
    "    left = [\r\n",
    "        message_chunk_to_message(cast(BaseMessageChunk, m))\r\n",
    "        for m in convert_to_messages(left)\r\n",
    "    ]\r\n",
    "    right = [\r\n",
    "        message_chunk_to_message(cast(BaseMessageChunk, m))\r\n",
    "        for m in convert_to_messages(right)\r\n",
    "    ]\r\n",
    "    # assign missing ids\r\n",
    "    for m in left:\r\n",
    "        if m.id is None:\r\n",
    "            m.id = str(uuid.uuid4())\r\n",
    "    for m in right:\r\n",
    "        if m.id is None:\r\n",
    "            m.id = str(uuid.uuid4())\r\n",
    "    # merge\r\n",
    "    left_idx_by_id = {m.id: i for i, m in enumerate(left)}\r\n",
    "    merged = left.copy()\r\n",
    "    ids_to_remove = set()\r\n",
    "    for m in right:\r\n",
    "        if (existing_idx := left_idx_by_id.get(m.id)) is not None:\r\n",
    "            if isinstance(m, RemoveMessage):\r\n",
    "                ids_to_remove.add(m.id)\r\n",
    "            else:\r\n",
    "                merged[existing_idx] = m\r\n",
    "        else:\r\n",
    "            if isinstance(m, RemoveMessage):\r\n",
    "                raise ValueError(\r\n",
    "                    f\"Attempting to delete a message with an ID that doesn't exist ('{m.id}')\"\r\n",
    "                )\r\n",
    "\r\n",
    "            merged.append(m)\r\n",
    "    merged = [m for m in merged if m.id not in ids_to_remove]\r\n",
    "    return merged\n",
    "```"
   ]
  },
  {
   "cell_type": "markdown",
   "id": "7492fc2f-366b-4ba3-b327-b103b3f4e57b",
   "metadata": {},
   "source": [
    "> LangGraph add_messages：https://langchain-ai.github.io/langgraph/reference/graphs/#langgraph.graph.message.add_messages"
   ]
  },
  {
   "cell_type": "markdown",
   "id": "c76487bb-302b-41d1-ab2a-35c4055ee21f",
   "metadata": {},
   "source": [
    "&emsp;&emsp;`add_messages`整体的核心逻辑是合并两个消息列表，按 `ID` 更新现有消息。默认情况下，状态为“仅附加”，当新消息与现有消息具有相同的 ID时，进行更新。具体参数是：\n",
    "- left （ Messages ） – 消息的基本列表。\n",
    "- right （ Messages ） – 要合并到基本列表中的消息列表（或单个消息）。\n",
    "\n",
    "&emsp;&emsp;而返回值是一个消息列表，其中的合并逻辑则是：如果right的消息与left的消息具有相同的 ID，则right的消息将替换left的消息，否则作为一条新的消息进行追加。"
   ]
  },
  {
   "cell_type": "code",
   "execution_count": 120,
   "id": "22049001-7ae8-4b97-9436-f3616a07a7dd",
   "metadata": {},
   "outputs": [
    {
     "data": {
      "text/plain": [
       "[HumanMessage(content='你好。', additional_kwargs={}, response_metadata={}, id='1'),\n",
       " AIMessage(content='你好，很高兴认识你。', additional_kwargs={}, response_metadata={}, id='2')]"
      ]
     },
     "execution_count": 120,
     "metadata": {},
     "output_type": "execute_result"
    }
   ],
   "source": [
    "from langgraph.graph.message import add_messages\n",
    "from langchain_core.messages import AIMessage, HumanMessage\n",
    "\n",
    "msgs1 = [HumanMessage(content=\"你好。\", id=\"1\")]\n",
    "msgs2 = [AIMessage(content=\"你好，很高兴认识你。\", id=\"2\")]\n",
    "\n",
    "add_messages(msgs1, msgs2)"
   ]
  },
  {
   "cell_type": "code",
   "execution_count": 122,
   "id": "504217a5-1494-41c4-a37c-edfec596acb8",
   "metadata": {},
   "outputs": [
    {
     "data": {
      "text/plain": [
       "[HumanMessage(content='你好呀。', additional_kwargs={}, response_metadata={}, id='1')]"
      ]
     },
     "execution_count": 122,
     "metadata": {},
     "output_type": "execute_result"
    }
   ],
   "source": [
    "msgs1 = [HumanMessage(content=\"你好。\", id=\"1\")]\n",
    "msgs2 = [HumanMessage(content=\"你好呀。\", id=\"1\")]\n",
    "\n",
    "add_messages(msgs1, msgs2)"
   ]
  },
  {
   "cell_type": "markdown",
   "id": "8122d7a4-2a79-4b66-8e18-47fc55939dbc",
   "metadata": {},
   "source": [
    "&emsp;&emsp;消息状态管理不仅可以在`MessageGraph`中定义，还可以在`StateGraph`中定义。相比之下， `StateGraph`允许更复杂的状态结构，其中状态可以是任何 Python 类型（如 TypedDict 或 Pydantic 模型），并且可以通过各种方式更新。 `StateGraph` 中的每个节点都会接收当前状态并返回更新后的状态，从而实现除消息处理之外的更复杂的数据操作和工作流程。因此，`MessageGraph` 专门用于以消息为中心的工作流程，而 `StateGraph` 则更通用，适用于更广泛的应用程序。"
   ]
  },
  {
   "cell_type": "markdown",
   "id": "7ba982ad-9a54-4836-bd5a-ac64b6c7ac39",
   "metadata": {},
   "source": [
    "&emsp;&emsp;所以，对于人机交互的程序，在`LangGraph`的开发流程中，我们一般会首先创建一个`StateGraph` , `StateGraph`对象将应用程序的结构定义为“状态机”，比如下面的这个接入大模型的聊天机器人："
   ]
  },
  {
   "cell_type": "code",
   "execution_count": 124,
   "id": "ceed4893-7795-426d-b70d-d9169c3ad56b",
   "metadata": {},
   "outputs": [],
   "source": [
    "from typing import Annotated\n",
    "\n",
    "from typing_extensions import TypedDict\n",
    "\n",
    "from langgraph.graph import StateGraph, START, END\n",
    "from langgraph.graph.message import add_messages\n",
    "\n",
    "class State(TypedDict):\n",
    "    messages: Annotated[list, add_messages]\n",
    "\n",
    "graph_builder = StateGraph(State)"
   ]
  },
  {
   "cell_type": "markdown",
   "id": "d052c219-d059-4fe0-bfbe-bb508ffe738f",
   "metadata": {},
   "source": [
    "&emsp;&emsp;`State`是一个带有单个键的`TypedDict` ： `messages` 。 `messages`键使用`add_messages`作为`Reducer`函数告诉 `LangGraph` 将新消息追加到现有列表中，而不是覆盖它。"
   ]
  },
  {
   "cell_type": "code",
   "execution_count": 128,
   "id": "40626bb5-cef3-481b-8624-f2a95c272f11",
   "metadata": {},
   "outputs": [],
   "source": [
    "import getpass\n",
    "import os\n",
    "from langchain_openai import ChatOpenAI\n",
    "from langchain_core.prompts import ChatPromptTemplate\n",
    "\n",
    "if not os.environ.get(\"OPENAI_API_KEY\"):\n",
    "    os.environ[\"OPENAI_API_KEY\"] = getpass.getpass(\"Enter your OpenAI API key: \")\n",
    "\n",
    "\n",
    "llm = ChatOpenAI(model=\"gpt-4o\")\n",
    "\n",
    "def chatbot(state: State):\n",
    "    # print(state)\n",
    "    return {\"messages\": [llm.invoke(state[\"messages\"])]}"
   ]
  },
  {
   "cell_type": "markdown",
   "id": "5148393c-89ce-4be3-ad8f-77076841b623",
   "metadata": {},
   "source": [
    "&emsp;&emsp;接下来，添加一个`chatbot`节点，将当前`State`作为输入并返回一个字典，该字典中更新了`messages`中的状态信息。"
   ]
  },
  {
   "cell_type": "code",
   "execution_count": 131,
   "id": "63e9ec03-c239-4d04-98f3-6277b989385a",
   "metadata": {},
   "outputs": [
    {
     "data": {
      "text/plain": [
       "<langgraph.graph.state.StateGraph at 0x1d019b93910>"
      ]
     },
     "execution_count": 131,
     "metadata": {},
     "output_type": "execute_result"
    }
   ],
   "source": [
    "graph_builder.add_node(\"chatbot\", chatbot)"
   ]
  },
  {
   "cell_type": "code",
   "execution_count": 133,
   "id": "e8f7ae5d-7c59-4bd4-baee-c5a536b2c44b",
   "metadata": {},
   "outputs": [],
   "source": [
    "graph_builder.add_edge(START, \"chatbot\")\n",
    "graph_builder.add_edge(\"chatbot\", END)\n",
    "\n",
    "graph = graph_builder.compile()"
   ]
  },
  {
   "cell_type": "code",
   "execution_count": 135,
   "id": "24a85f1d-c6f0-4d82-a05a-4737f99d08c1",
   "metadata": {},
   "outputs": [
    {
     "data": {
      "image/jpeg": "[encoded data removed]",
      "text/plain": [
       "<IPython.core.display.Image object>"
      ]
     },
     "metadata": {},
     "output_type": "display_data"
    }
   ],
   "source": [
    "display(Image(graph.get_graph(xray=True).draw_mermaid_png()))"
   ]
  },
  {
   "cell_type": "markdown",
   "id": "147f9bfb-6bfc-4b6f-8c4c-3c747ae88b08",
   "metadata": {},
   "source": [
    "&emsp;&emsp;通过一个程序构建可交互式的聊天机器人。完整代码如下："
   ]
  },
  {
   "cell_type": "code",
   "execution_count": 139,
   "id": "7ded9d96-1faa-4414-8712-7d7268e56b1f",
   "metadata": {},
   "outputs": [
    {
     "name": "stdin",
     "output_type": "stream",
     "text": [
      "用户提问:  你好，请你介绍一下你自己\n"
     ]
    },
    {
     "name": "stdout",
     "output_type": "stream",
     "text": [
      "模型回复: 你好！我是一个大型语言模型助手，由OpenAI开发，旨在帮助回答问题、提供信息和协助解决各种任务。我可以处理广泛的主题，包括科学、历史、技术、文化等等。无论你有什么问题，尽管问，我会尽力提供准确和有用的回答。\n"
     ]
    },
    {
     "name": "stdin",
     "output_type": "stream",
     "text": [
      "用户提问:  你都能做什么呀\n"
     ]
    },
    {
     "name": "stdout",
     "output_type": "stream",
     "text": [
      "模型回复: 我可以帮助你回答各种问题、提供信息、协助解决问题、给出建议、翻译文本、进行语言练习、甚至闲聊等。如果你有任何具体的问题或任务，请随时告诉我！\n"
     ]
    },
    {
     "name": "stdin",
     "output_type": "stream",
     "text": [
      "用户提问:  退出\n"
     ]
    },
    {
     "name": "stdout",
     "output_type": "stream",
     "text": [
      "下次再见！\n"
     ]
    }
   ],
   "source": [
    "def stream_graph_updates(user_input: str):  \n",
    "    for event in graph.stream({\"messages\": [(\"user\", user_input)]}):\n",
    "        for value in event.values():\n",
    "            print(\"模型回复:\", value[\"messages\"][-1].content)\n",
    "\n",
    "\n",
    "while True:\n",
    "    try:\n",
    "        user_input = input(\"用户提问: \")\n",
    "        if user_input.lower() in [\"退出\"]:\n",
    "            print(\"下次再见！\")\n",
    "            break\n",
    "\n",
    "        stream_graph_updates(user_input)\n",
    "    except:\n",
    "        break"
   ]
  },
  {
   "cell_type": "markdown",
   "id": "e9cd23a6-5ee2-4916-b3c4-1ff27e699c8f",
   "metadata": {},
   "source": [
    "&emsp;&emsp;掌握`State`的定义模式和消息传递是`LangGraph`中最关键，也是构建应用最核心的部分，所有的高阶功能，如工具调用、上下文记忆，人机交互等依赖`State`的管理和使用，所以大家务必理解并掌握上述相关内容。这一部分我们在下一节课中展开详细的介绍，接下来我们先给大家介绍一个实用的开发工具：LangSmith。"
   ]
  },
  {
   "cell_type": "markdown",
   "id": "42023040-f41b-4a03-bc9b-97554a3c01a8",
   "metadata": {},
   "source": [
    "# 2. LangSmith基础使用入门"
   ]
  },
  {
   "cell_type": "markdown",
   "id": "752cc186-e558-4369-a48e-fd909735db7e",
   "metadata": {},
   "source": [
    "&emsp;&emsp;大模型具有不确定性，尤其是构建复杂`AI Agent`应用程序中，中间会涉及非常多的子步骤，如果想要了解每一步的运行状态和结果，一方面可以通过`Debug`来进行实时控制，而另一方面可以借助一些工具来观察和调试中间的交互流程。`Langsmith`就是这样一个工具平台， 由​​ `LangChain` 和 `LangGraph` 背后的团队创建，**主要作用是：为基于大语言模型构建的应用程序提供全面的监控、调试和可观察性。提供强大的跟踪、日志记录和实时分析功能。**\n"
   ]
  },
  {
   "cell_type": "markdown",
   "id": "1068381d-c886-426d-b02c-66c9851351d6",
   "metadata": {},
   "source": [
    "> LangSmith：https://smith.langchain.com/"
   ]
  },
  {
   "cell_type": "markdown",
   "id": "3aa7e86a-7816-4c95-b6f5-5d1337943806",
   "metadata": {},
   "source": [
    "&emsp;&emsp;通常，对于一个项目而言，可以是单个应用程序或服务。该项目将包含多个跟踪，每个跟踪都是运行的集合 - 一个运行代表应用程序中的一个基本操作，例如对 OpenAI 的 API 调用，或检索操作。如下图所示："
   ]
  },
  {
   "cell_type": "markdown",
   "id": "9a72adc8-50f4-42ff-8a1e-15baa865970a",
   "metadata": {},
   "source": [
    "<div align=center><img src=\"https://muyu001.oss-cn-beijing.aliyuncs.com/img/image-20241022164041124.png\" width=100%></div>"
   ]
  },
  {
   "cell_type": "markdown",
   "id": "4f2fb2ac-b56e-4daf-97cc-9f975d056df0",
   "metadata": {},
   "source": [
    "- **Project (项目)：**蓝色方块代表整个项目，可能是一个单独的应用程序或服务。\n",
    "- **Traces (轨迹)：**绿色方块代表项目在不同条件或配置下的执行路径。每个轨迹可以是一个特定的用户会话、一个功能的执行，或者应用在特定输入下的行为。\n",
    "- **Runs (运行)：**每个轨迹下的黄色方块表示特定轨迹的单次执行。这些是执行的实例，每个实例都是轨迹在特定条件下的实际运行。\n",
    "- **Feedback, Tags, Metadata (反馈、标签、元数据)：**这部分显示了系统如何利用用户或自动化工具生成的反馈、标签和元数据来增强轨迹的管理和过滤。反馈可以用于改进未来的运行，标签和元数据可用于分类和筛选特定的轨迹或运行，以便在LangSmith的用户界面中更容易地管理和审查"
   ]
  },
  {
   "cell_type": "markdown",
   "id": "18428e0c-b4b7-4a6a-b1e6-0055c5a32086",
   "metadata": {},
   "source": [
    "&emsp;&emsp;我们使用当前的简单 `LangGraph` 作为示例："
   ]
  },
  {
   "cell_type": "code",
   "execution_count": 214,
   "id": "02ecdca7-29e1-4ea0-a43d-bf804fcad95e",
   "metadata": {},
   "outputs": [
    {
     "data": {
      "image/jpeg": "[encoded data removed]",
      "text/plain": [
       "<IPython.core.display.Image object>"
      ]
     },
     "metadata": {},
     "output_type": "display_data"
    }
   ],
   "source": [
    "display(Image(graph.get_graph(xray=True).draw_mermaid_png()))"
   ]
  },
  {
   "cell_type": "markdown",
   "id": "926087a2-7a0a-423a-a7f1-571bb37eaa28",
   "metadata": {},
   "source": [
    "&emsp;&emsp;跟踪是请求通过图逻辑的步骤的详细记录。将其视为显示从开始到结束的确切顺序的路线图，在当前的设置中，`LangGraph` 很简单：\n",
    "- 它以__start__节点开始\n",
    "- 穿过 AI 生成回复的response节点\n",
    "- 结束于__end__节点。"
   ]
  },
  {
   "cell_type": "markdown",
   "id": "d9aa5d06-ae75-4c81-b47f-4a768536a38d",
   "metadata": {},
   "source": [
    "&emsp;&emsp;每次用户与程序进行交互时，该图都会展开，并且此过程中的每个步骤都会记录为跟踪的一部分。借助 `Langsmith`，我们可以实时可视化和分析这些痕迹。设置 `Langsmith`并不复杂，我们需要依次执行如下操作步骤。"
   ]
  },
  {
   "cell_type": "markdown",
   "id": "36967db6-ca6a-4119-b17d-bc48b2627329",
   "metadata": {},
   "source": [
    "- **Step 1. 创建一个 LangSmith 帐户**"
   ]
  },
  {
   "cell_type": "markdown",
   "id": "cea9afc8-d8b1-4d24-b0e1-4a5ad0116d66",
   "metadata": {},
   "source": [
    "&emsp;&emsp;要开始使用 `LangSmith`，我们需要创建一个帐户。可以在这里注册一个免费帐户进入`LangSmith`登录页面： https://smith.langchain.com/， 支持使用 Google、GitHub、Discord 和电子邮件登录。"
   ]
  },
  {
   "cell_type": "markdown",
   "id": "409285c3-9abf-4ea2-895a-612c967d8f22",
   "metadata": {},
   "source": [
    "<div align=center><img src=\"https://muyu001.oss-cn-beijing.aliyuncs.com/img/image-20241022165215709.png\" width=100%></div>"
   ]
  },
  {
   "cell_type": "markdown",
   "id": "c3941b72-50bf-4848-83f9-42f11cc0f44f",
   "metadata": {},
   "source": [
    "&emsp;&emsp;注册并等登录后，可以直接查看到仪表板："
   ]
  },
  {
   "cell_type": "markdown",
   "id": "c9f50574-6118-4dfe-89c6-62125a8228d5",
   "metadata": {},
   "source": [
    "<div align=center><img src=\"https://muyu001.oss-cn-beijing.aliyuncs.com/img/image-20241022165247933.png\" width=100%></div>"
   ]
  },
  {
   "cell_type": "markdown",
   "id": "088850a1-63da-402a-aafe-12561f416588",
   "metadata": {},
   "source": [
    "&emsp;&emsp;在构建程序跟踪前，首先需要创建一个 `API` 密钥，该密钥将允许我们的项目开始向 `Langsmith` 发送跟踪数据。"
   ]
  },
  {
   "cell_type": "markdown",
   "id": "fb1de70d-b967-4db3-a68a-08ff49db3dbe",
   "metadata": {},
   "source": [
    "- **Step 2. 创建 API 密钥**"
   ]
  },
  {
   "cell_type": "markdown",
   "id": "a56d7e82-4dfe-4574-82ca-878958f95eb3",
   "metadata": {},
   "source": [
    "&emsp;&emsp;单击 `Langsmith` 仪表板左侧菜单中的“设置”图标。"
   ]
  },
  {
   "cell_type": "markdown",
   "id": "32200e05-4e52-4fe5-bc6f-0f4373b6da20",
   "metadata": {},
   "source": [
    "<div align=center><img src=\"https://muyu001.oss-cn-beijing.aliyuncs.com/img/image-20241022165343038.png\" width=100%></div>"
   ]
  },
  {
   "cell_type": "markdown",
   "id": "cb6cbbe9-b58f-475d-af12-fb7e6afdd507",
   "metadata": {},
   "source": [
    "&emsp;&emsp;导航至“API 密钥”部分，然后单击“创建 API 密钥” 。"
   ]
  },
  {
   "cell_type": "markdown",
   "id": "55ba7a13-232d-467f-8a4d-a560083d93bd",
   "metadata": {},
   "source": [
    "<div align=center><img src=\"https://muyu001.oss-cn-beijing.aliyuncs.com/img/image-20241022165421182.png\" width=100%></div>"
   ]
  },
  {
   "cell_type": "markdown",
   "id": "d2a2a141-c6bd-4a23-b762-974418ba8d66",
   "metadata": {},
   "source": [
    "&emsp;&emsp;`LangSmith` 支持两种类型的 API 密钥：服务密钥和个人访问令牌。两种类型的令牌都可用于验证对 `LangSmith API` 的请求，但它们有不同的用例。这里选择“密钥类型令牌的个人访问” ，因为我们将使用此密钥作为用户进行个人访问。"
   ]
  },
  {
   "cell_type": "markdown",
   "id": "d4c37bdc-4dd5-4df8-bd08-4e04c2dd6f5b",
   "metadata": {},
   "source": [
    "<div align=center><img src=\"https://muyu001.oss-cn-beijing.aliyuncs.com/img/image-20241022165455845.png\" width=100%></div>"
   ]
  },
  {
   "cell_type": "markdown",
   "id": "1b2fc246-77a9-490b-91e0-dd09d31c4154",
   "metadata": {},
   "source": [
    "&emsp;&emsp;单击“创建 API 密钥” ，复制并确认已保存。这和`OpenAI`的`API`密钥一样，一旦创建完成，则不允许再次复制。"
   ]
  },
  {
   "cell_type": "markdown",
   "id": "d7262a36-a866-42e2-bb3c-58f2a66e83cd",
   "metadata": {},
   "source": [
    "<div align=center><img src=\"https://muyu001.oss-cn-beijing.aliyuncs.com/img/image-20241022165542782.png\" width=100%></div>"
   ]
  },
  {
   "cell_type": "markdown",
   "id": "029fcb32-98c6-45c6-9781-40388310a5bc",
   "metadata": {},
   "source": [
    "<div align=center><img src=\"https://muyu001.oss-cn-beijing.aliyuncs.com/img/image-20241022165638427.png\" width=100%></div>"
   ]
  },
  {
   "cell_type": "markdown",
   "id": "7d923f2e-196b-4f58-90e2-fe9666451b0b",
   "metadata": {},
   "source": [
    "&emsp;&emsp;现在，就可以将其集成到我们的项目中了。"
   ]
  },
  {
   "cell_type": "markdown",
   "id": "e79be00c-2b1f-4455-88d2-af6f0645900d",
   "metadata": {},
   "source": [
    "- **Step 3. 创建环境变量**"
   ]
  },
  {
   "cell_type": "markdown",
   "id": "5d7da8a1-9219-478f-b587-831089d6e714",
   "metadata": {},
   "source": [
    "&emsp;&emsp;将`LANGCHAIN_API_KEY`替换为我们刚刚创建的 `API` 密钥。"
   ]
  },
  {
   "cell_type": "code",
   "execution_count": 1,
   "id": "cf60de76-1251-48aa-bb13-80dd35e589f7",
   "metadata": {},
   "outputs": [
    {
     "name": "stdout",
     "output_type": "stream",
     "text": [
      "true\n",
      "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\n"
     ]
    }
   ],
   "source": [
    "import os\n",
    "\n",
    "# 设置环境变量\n",
    "os.environ[\"LANGCHAIN_TRACING_V2\"] = \"true\"\n",
    "os.environ[\"LANGCHAIN_API_KEY\"] = \"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\"\n",
    "\n",
    "# 验证环境变量是否设置成功\n",
    "print(os.getenv(\"LANGCHAIN_TRACING_V2\"))\n",
    "print(os.getenv(\"LANGCHAIN_API_KEY\"))"
   ]
  },
  {
   "cell_type": "markdown",
   "id": "f6431114-f5f3-40ee-9bfe-59410a088729",
   "metadata": {},
   "source": [
    "&emsp;&emsp;在环境变量中设置以后，我们的代码不需要做任何的改变，即可构建`LangSmith`的消息跟踪。"
   ]
  },
  {
   "cell_type": "code",
   "execution_count": 3,
   "id": "d8d04c0c-bb81-4781-9cbc-22f11702fd35",
   "metadata": {},
   "outputs": [],
   "source": [
    "from typing import Annotated\n",
    "from typing_extensions import TypedDict\n",
    "from langgraph.graph import StateGraph, START, END\n",
    "from langgraph.graph.message import add_messages\n",
    "import getpass\n",
    "import os\n",
    "from langchain_openai import ChatOpenAI\n",
    "from langchain_core.prompts import ChatPromptTemplate\n",
    "\n",
    "\n",
    "class State(TypedDict):\n",
    "    messages: Annotated[list, add_messages]\n",
    "\n",
    "graph_builder = StateGraph(State)\n",
    "\n",
    "\n",
    "if not os.environ.get(\"OPENAI_API_KEY\"):\n",
    "    os.environ[\"OPENAI_API_KEY\"] = getpass.getpass(\"Enter your OpenAI API key: \")\n",
    "\n",
    "\n",
    "llm = ChatOpenAI(model=\"gpt-4o\")\n",
    "\n",
    "def chatbot(state: State):\n",
    "    # print(state)\n",
    "    return {\"messages\": [llm.invoke(state[\"messages\"])]}\n",
    "\n",
    "\n",
    "graph_builder.add_node(\"chatbot\", chatbot)\n",
    "\n",
    "graph_builder.add_edge(START, \"chatbot\")\n",
    "graph_builder.add_edge(\"chatbot\", END)\n",
    "\n",
    "graph = graph_builder.compile()"
   ]
  },
  {
   "cell_type": "code",
   "execution_count": 5,
   "id": "a167ad25-2e70-437b-8e60-fa09f50be12c",
   "metadata": {},
   "outputs": [
    {
     "name": "stdin",
     "output_type": "stream",
     "text": [
      "用户提问:  你好\n"
     ]
    },
    {
     "name": "stdout",
     "output_type": "stream",
     "text": [
      "模型回复: 你好！有什么我可以帮助你的吗？\n"
     ]
    },
    {
     "name": "stdin",
     "output_type": "stream",
     "text": [
      "用户提问:  请你介绍一下你自己\n"
     ]
    },
    {
     "name": "stdout",
     "output_type": "stream",
     "text": [
      "模型回复: 当然可以！我是一个大型语言模型，由OpenAI开发，名为ChatGPT。我是基于人工智能技术的对话系统，设计的目的是与人类进行自然语言交流。我可以帮助回答问题，提供信息，协助解决问题，并进行各种主题的讨论。我的知识库涵盖了广泛的主题，包括科学、技术、历史、文化等，但请注意，我的知识更新到2023年10月，因此对于之后发生的事件或发布的信息可能不了解。如果你有任何问题或需要帮助，随时可以问我！\n"
     ]
    },
    {
     "name": "stdin",
     "output_type": "stream",
     "text": [
      "用户提问:  退出\n"
     ]
    },
    {
     "name": "stdout",
     "output_type": "stream",
     "text": [
      "下次再见！\n"
     ]
    }
   ],
   "source": [
    "def stream_graph_updates(user_input: str):  \n",
    "    for event in graph.stream({\"messages\": [(\"user\", user_input)]}):\n",
    "        for value in event.values():\n",
    "            print(\"模型回复:\", value[\"messages\"][-1].content)\n",
    "\n",
    "\n",
    "while True:\n",
    "    try:\n",
    "        user_input = input(\"用户提问: \")\n",
    "        if user_input.lower() in [\"退出\"]:\n",
    "            print(\"下次再见！\")\n",
    "            break\n",
    "\n",
    "        stream_graph_updates(user_input)\n",
    "    except:\n",
    "        # fallback if input() is not available  \n",
    "        user_input = \"What do you know about LangGraph?\"\n",
    "        print(\"User: \" + user_input)\n",
    "        stream_graph_updates(user_input)\n",
    "        break"
   ]
  },
  {
   "cell_type": "markdown",
   "id": "d93f6c3c-6f0e-4754-a55b-5217b8de56cb",
   "metadata": {},
   "source": [
    "&emsp;&emsp;然后即可在控制面板上实时查看到该应用程序执行过程中各个状态的输入和输出情况。"
   ]
  },
  {
   "cell_type": "markdown",
   "id": "570da33e-0a2f-4cef-b899-1af453d25e29",
   "metadata": {},
   "source": [
    "<div align=center><img src=\"https://muyu001.oss-cn-beijing.aliyuncs.com/img/image-20241023151932199.png\" width=100%></div>"
   ]
  },
  {
   "cell_type": "markdown",
   "id": "cda78046-e4af-42d5-8450-d825dcafe42f",
   "metadata": {},
   "source": [
    "&emsp;&emsp;至此，大家已经可以运行起`LangSmith`应用工具。在初次构建AI应用程序时，建议从最简单的工作流实现开始，结合 `LangSmith` 这样的评估工具是能够极大程度上帮助大家理解其中间过程。而随着构建应用程序的越来越复杂，其中间状态也会变得越来越多。在接下来的课程中，我们会随着新功能点的讲解，再展开对`LangSmith`使用方法和各项指标的具体说明。"
   ]
  }
 ],
 "metadata": {
  "kernelspec": {
   "display_name": "agent",
   "language": "python",
   "name": "agent"
  },
  "language_info": {
   "codemirror_mode": {
    "name": "ipython",
    "version": 3
   },
   "file_extension": ".py",
   "mimetype": "text/x-python",
   "name": "python",
   "nbconvert_exporter": "python",
   "pygments_lexer": "ipython3",
   "version": "3.11.0"
  }
 },
 "nbformat": 4,
 "nbformat_minor": 5
}
