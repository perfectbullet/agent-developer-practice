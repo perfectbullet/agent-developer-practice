{
 "cells": [
  {
   "cell_type": "markdown",
   "id": "0a1fe822-c2c6-440d-a477-ea77f1b4f8b4",
   "metadata": {},
   "source": [
    "# <center>大模型 AI Agent 开发实战"
   ]
  },
  {
   "cell_type": "markdown",
   "id": "2c2e841b-5de2-4696-8138-a24452505e44",
   "metadata": {
    "tags": []
   },
   "source": [
    "## <center>Ch.2 AI Agent应用类型及Function Calling开发实战"
   ]
  },
  {
   "cell_type": "markdown",
   "id": "34d887ee-dc1a-489a-b226-0315bcf47c67",
   "metadata": {},
   "source": [
    "&emsp;&emsp;在上一节课中，我们介绍了近两年大模型技术的迅速发展及其技术演进，这包括从大模型自身的能力持续突破（原生能力和涌现能力），基本的函数调用功能，到引入 RAG（检索增强生成）技术，再到当前的 AI Agent（代理）技术。如果说 2023 年是检索增强生成年，那么 2024 年毫无疑问就是代理年。全球各地的公司都在探索使用机器人代理。究其原因还是在于虽然大模型结合RAG技术已经突破了语言生成的可能性界限，但是其存在着极大的局限性。"
   ]
  },
  {
   "cell_type": "markdown",
   "id": "6d0f740b-0fab-4e0e-8e5d-93445782990d",
   "metadata": {},
   "source": [
    "&emsp;&emsp;首先我们来看大语言模型自身的特性。它能够类似于人类大脑那样处理和生成语言，其功能可以就像一个庞大的信息库，里面存储着丰富的语言知识和数据。这使得大模型不仅能理解复杂的语言结构，还能创造出流畅的文本输出。 👇"
   ]
  },
  {
   "cell_type": "markdown",
   "id": "e797a079-542a-4bea-ba59-fef9c94ca59b",
   "metadata": {},
   "source": [
    "<div align=center><img src=\"https://muyu001.oss-cn-beijing.aliyuncs.com/img/005.png\" width=60%></div>"
   ]
  },
  {
   "cell_type": "markdown",
   "id": "59ddbb03-99e3-4396-8bbb-6a6a3b5ad199",
   "metadata": {},
   "source": [
    "&emsp;&emsp;如上图所示展示了一个神经网络的简化示意图。输入词`how`和`are`通过多层神经网络，其中的每个节点代表神经网络中的一个`神经元`，而连接线代表不同神经元之间的连接。这些连接（权重）会根据训练数据进行调整，以便大模型能够更好地预测输出。其终点指出大模型的输出是“you?”，这是在给定输入“how are”后，大模型预测的下一个最可能的词。"
   ]
  },
  {
   "cell_type": "markdown",
   "id": "0a1a9598-f1eb-48c9-9d51-8a5a38050e4f",
   "metadata": {},
   "source": [
    "&emsp;&emsp;RAG技术通过查找相关信息来改进大模型的输出，使其能够根据特定的信息进行响应生成。👇"
   ]
  },
  {
   "cell_type": "markdown",
   "id": "58791070-72b6-4e4f-849c-6593302a91e0",
   "metadata": {},
   "source": [
    "<div align=center><img src=\"https://muyu001.oss-cn-beijing.aliyuncs.com/img/006.png\" width=80%></div>"
   ]
  },
  {
   "cell_type": "markdown",
   "id": "578fc896-7efe-4d3a-b908-7a388d7c6602",
   "metadata": {},
   "source": [
    "&emsp;&emsp;可以看到，当大模型和RAG技术组合在一起，重点仍然是**知识和文本生成**。它们侧重于根据训练数据中的模式生成类似人类的文本，主要处理单个输入并据此提供响应，这就导致了这样的架构组合，一定是**缺乏以灵活、明智的方式设定和追求特定目标的能力。**人工智能代理的一个重要方面是它们的学习和适应能力。通过集成大语言模型和RAG等技术，它们在交互的基础上不断提高性能，随着时间的推移演变成更复杂、更智能的助手。通过不同场景的对比分析可以非常明确的感受到：\n",
    "\n",
    "- **面向目标的行为**：大模型 和 RAG 模型主要通过模仿训练数据中的模式来生成类似人类的文本。然而，它们通常缺乏以灵活且明智的方式设定和追求具体目标的能力。与之相比，人工智能代理能被设计来拥有明确的目标，并通过计划及行动来实现这些目标。\n",
    "- **记忆和状态跟踪**：大多数现有的大语言模型不具备持久记忆或状态跟踪能力，通常将每个输入视为孤立事件处理。相反，人工智能代理能维持记忆状态，随时间积累知识，并利用这些状态信息支持未来的决策和行动。\n",
    "- **与环境的交互**：大模型仅在文本层面上操作，与物理世界无直接互动。人工智能代理则能感知并与其所处的环境互动，无论是在数字领域、机器人系统，还是通过传感器和执行器的物理环境中。\n",
    "- **迁移和泛化能力**：尽管大模型 在处理与训练数据相似的语言任务方面表现出色，它们往往难以将所学知识迁移到全新的领域或任务上。人工智能代理则展现了在新情况下学习、推理和计划的能力，可能更有效地迁移和泛化。\n",
    "- **持续学习**：大部分大语言模型在训练完成后便固定下来，不再更新。而人工智能代理能够在与新环境和情况交互时持续学习和调整，不断优化其知识和技能。\n",
    "- **多任务能力**：大模型 通常专注于特定的语言处理任务。而人工智能代理被设计为能处理多种任务的通用系统，可以整合语言处理、推理、感知和控制等多方面技能，以解决复杂的问题。"
   ]
  },
  {
   "cell_type": "markdown",
   "id": "0c5704e4-9a84-4f7c-841d-2ae35017bfea",
   "metadata": {},
   "source": [
    "&emsp;&emsp;**通过上述对比分析，相信大家已经对大模型、RAG 和 AI Agent 三者在大模型的应用技术领域中的不同之处有了初步的认识。而接下来，我们将探讨这三者之间的紧密联系和相互作用。**"
   ]
  },
  {
   "cell_type": "markdown",
   "id": "ea270f2b-3689-4fc2-b1be-50bddd97a14d",
   "metadata": {},
   "source": [
    "# 1. 聊天机器人"
   ]
  },
  {
   "cell_type": "markdown",
   "id": "6d17161c-44b0-40a5-b321-5999fb50042d",
   "metadata": {},
   "source": [
    "&emsp;&emsp;我们在【Ch.1 大模型应用发展及Agent前沿技术趋势】的最后一部分内容中，借助 [AI Agent 代理框架汇总](https://e2b.dev/ai-agents/open-source) 介绍了目前多元化的AI Agent 构建框架，除了单独的开源项目，`LangGraph` 和 `LlamaIndex Workflows` 等框架也正在帮助世界各地的开发人员构建结构化代理。但**目前的现状是：尽管智能体很受欢迎，但它们尚未在人工智能生态系统之外引起轰动**。很少有成熟的代理能够在消费者或企业用户中取得成功。团队如何驾驭新框架和新代理方向？有哪些工具可用，我们应该使用哪些工具来构建应用程序？"
   ]
  },
  {
   "cell_type": "markdown",
   "id": "d94975af-fb22-4dcc-8ad2-8fca0b5c9a7c",
   "metadata": {},
   "source": [
    "&emsp;&emsp;思考这个问题很关键，因为`AI Agent`是一个涵盖范围极广的概念。从简单的智能问答，到复杂的工作流程，均可被归类为 `AI Agent`，但不同的场景需求，它们背后所依赖的技术和框架可能相差甚远。我们可以像定义人工智能发展阶段的方式一样来区分狭义和广义的 `AI Agent`。但无论采用何种称呼，大家非常容易陷入的误区就是：**简单任务、复杂实现**。目前市面上的大模型智能应用产品，如 `ChatGPT`、`智谱清言` 和 `Coze`等，如果从背后技术栈的角度来看，可以被分为三类：**聊天机器人、人工智能助手和人工智能代理**。这三类应用代表着不同的技术应用体系，也是最容易导致大家出现**简单任务复杂化**的主要原因。例如，有时候仅需大模型加上 RAG 就能解决的问题，却非要引入外部函数调用；或者在函数调用足以应对的场景中，却过度构建代理框架。这种现象的根本原因在于对这三种应用类别的理解不够透彻，或对各种技术栈的潜在效能理解不清。所以，在深入探讨构建 AI Agent 的不同开发框架之前，我们将通过三个实际案例，在介绍AI Agent必须掌握的基础知识的同时，分别来实际的构建**聊天机器人、人工智能助手和人工智能代理**三个场景，**让大家深入理解这些概念，同时帮助大家在接收到实际的开发任务时，能够迅速做出最正确的的技术选型。**"
   ]
  },
  {
   "cell_type": "markdown",
   "id": "48f3830c-27bb-4669-a644-c31ca7614755",
   "metadata": {},
   "source": [
    "&emsp;&emsp;首先，我们从用户的角度直观的感受这三种智能应用带给我们的使用体验：\n",
    "\n",
    "- 聊天机器人主要设计用于进行对话，回答简单问题或提供客户服务。这些机器人有的非常基础，仅依靠预设的回复；而更先进的聊天机器人可以靠RAG等技术来提升对话质量，尽管如此，它们处理的问题范围通常相对有限。\n",
    "\n",
    "- 人工智能助手，这些工具的功能更为全面和复杂。它们不仅能搜索信息和生成内容，还能管理家中的智能设备等。通过使用人工智能理解上下文和用户偏好，这些助手就像个人定制的私人助理。\n",
    "\n",
    "- 人工智能代理，这些系统是所有智能应用中功能最强大的。它们被设计来自主执行多种任务、做出决策和解决问题，并且能够与现实世界互动。例如，它们能为您预订航班、在线购物，甚至在合同谈判中代表您行事。"
   ]
  },
  {
   "cell_type": "markdown",
   "id": "39537116-032f-48ae-8c1b-96fe55352154",
   "metadata": {},
   "source": [
    "&emsp;&emsp;在这里，大家可能会有疑问：**像`ChatGPT`这样的应用，在对话过程中也能执行搜索信息等任务，为什么它们还是被认为是聊天机器人？**这正是我们接下来要解释的问题。事实上，**这些应用具备人工智能助手的功能，只不过是通过聊天机器人的形式为我们提供服务**。通过即将展示的案例，大家将能更深刻地理解这一点。接下来，我们就以`ChatGPT`应用为例来进行第一个案例：聊天机器人的实现。"
   ]
  },
  {
   "cell_type": "markdown",
   "id": "4aa5c7c9-1119-45b4-84e9-ed8123a9931a",
   "metadata": {},
   "source": [
    "&emsp;&emsp;`ChatGPT` 于 2022 年 11 月推出，建立在 OpenAI 的 GPT-3（最初是 GPT-3.5模型 ）大语言模型系列之上，并使用监督学习和强化学习技术进行微调。此后，`ChatGPT` 引发了人工智能热潮，推出仅两个月就拥有 1 亿用户。除了使用其官方提供的应用服务（ChatGPT），对于开发人员来说，我们可以通过底层的开发语言将大模型集成到我们个人的应用程序中。这里我们选择使用 Python 进行演示。"
   ]
  },
  {
   "cell_type": "markdown",
   "id": "61df57d6-edb2-43f1-89d2-794ad463ebe6",
   "metadata": {},
   "source": [
    "> 对于OpenAI GPT模型的API调用的基本介绍，大家可以参考我们之前课程的内容，在《大模型技术实战课》的 Ch 1 至 Ch 8 中有详细的解析。"
   ]
  },
  {
   "cell_type": "markdown",
   "id": "43b82ef1-7fb4-44b7-a2f7-60e2dee56e43",
   "metadata": {},
   "source": [
    "&emsp;&emsp;当我们通过大模型的API进行会话交互时，数据交换的格式如下图所示 👇"
   ]
  },
  {
   "cell_type": "markdown",
   "id": "28394c4c-5dba-457a-a5b2-e070e016959e",
   "metadata": {},
   "source": [
    "<div align=center><img src=\"https://muyu001.oss-cn-beijing.aliyuncs.com/img/010.png\" width=65%></div>"
   ]
  },
  {
   "cell_type": "markdown",
   "id": "468af353-7de6-4597-942a-58b00c1c6017",
   "metadata": {},
   "source": [
    "&emsp;&emsp;上图中展示的`JSON`结构是API交互中常用的数据格式。不仅仅是`OpenAI`的`GPT`模型，其他在线模型或者开源模型均遵循这种规范。在这个例子中，我们看到有一个对象包含两个键值对：\"role\": \"user\"和\"content\": \"your question\"。这表示交互中用户的角色被标识为\"user\"，并且用户的输入内容为\"your question\"。这种格式化的数据结构允许API清晰地解析出发送者的角色和对话内容，从而进行有效的处理和响应。"
   ]
  },
  {
   "cell_type": "markdown",
   "id": "a2335005-d840-4d71-928b-3f2698c1371b",
   "metadata": {},
   "source": [
    "&emsp;&emsp;要发送到 `GPT` 模型的问题必须包含在字典列表中。我们使用OpenAI的Python客户端库来调用GPT模型以获取聊天回复，来看代码实现："
   ]
  },
  {
   "cell_type": "code",
   "execution_count": 3,
   "id": "97cec412-5b44-473a-9e34-bd85803a1985",
   "metadata": {},
   "outputs": [],
   "source": [
    "from openai import OpenAI\n",
    "client = OpenAI(\n",
    "    api_key=\"sk-kWNCLmUaSjsr2iUq7LZ2fEgCxSFyr4YWKUjjjoIW5HsNzhGo\", # 在这里将 MOONSHOT_API_KEY 替换为你从 Kimi 开放平台申请的 API Key\n",
    "    base_url=\"https://api.moonshot.cn/v1\",\n",
    ")\n",
    "\n",
    "response = client.chat.completions.create(\n",
    "  model=\"moonshot-v1-8k\",\n",
    "  messages=[\n",
    "    {\"role\": \"user\", \"content\": \"请你详细的介绍一下：什么是人工智能？\"},\n",
    "  ]\n",
    ")"
   ]
  },
  {
   "cell_type": "markdown",
   "id": "c2f9a714-8e35-44f1-8b94-ff0c6035ecf4",
   "metadata": {},
   "source": [
    "&emsp;&emsp;当大模型处理完用户的输入，它会返回一个响应对象。此时我们便可以从响应体中大提取模型生成的消息内容。"
   ]
  },
  {
   "cell_type": "code",
   "execution_count": 4,
   "id": "6fb1ffbe-f267-4733-837a-9e36a1081b02",
   "metadata": {
    "scrolled": true
   },
   "outputs": [
    {
     "data": {
      "text/plain": [
       "ChatCompletionMessage(content='人工智能（Artificial Intelligence，简称AI）是计算机科学的一个分支，它试图理解智能的实质，并生产出一种新的能以人类智能相似方式做出反应的智能机器。人工智能的研究包括机器人、语言识别、图像识别、自然语言处理和专家系统等。\\n\\n人工智能可以被分为几个类别：\\n\\n1. **弱人工智能**：专注于在特定领域内模仿人类智能的机器，例如语音识别或棋类游戏。\\n\\n2. **强人工智能**：指的是能够理解、学习和应用知识在任何领域内做出人类智能相似反应的机器。\\n\\n3. **通用人工智能**：指的是能够执行任何智能任务的机器。\\n\\n人工智能的发展经历了几个阶段：\\n\\n1. **规则驱动的AI**：早期的AI系统依赖于硬编码的规则来模拟智能行为。\\n\\n2. **机器学习**：现代AI系统使用算法从数据中学习，而不是依赖于硬编码的规则。\\n\\n3. **深度学习**：一种特殊的机器学习方法，使用多层神经网络来模拟人脑处理信息的方式。\\n\\n人工智能的应用非常广泛，包括但不限于：\\n\\n- **医疗诊断**：通过分析医学图像和患者数据来辅助医生做出诊断。\\n- **自动驾驶汽车**：使用传感器和算法来导航和控制车辆。\\n- **语音助手**：如Siri、Alexa等，能够理解和响应用户的语音命令。\\n- **推荐系统**：在电商网站和流媒体服务中，根据用户的历史行为推荐商品或内容。\\n- **自然语言处理**：使机器能够理解和生成人类语言，用于翻译、摘要生成等。\\n\\n人工智能的发展也带来了一些挑战，包括就业影响、隐私问题、伦理问题以及对决策过程的控制等。随着技术的进步，这些问题需要社会各界共同努力，以确保人工智能的健康发展。', refusal=None, role='assistant', function_call=None, tool_calls=None)"
      ]
     },
     "execution_count": 4,
     "metadata": {},
     "output_type": "execute_result"
    }
   ],
   "source": [
    "response.choices[0].message"
   ]
  },
  {
   "cell_type": "code",
   "execution_count": 5,
   "id": "35d02705-7300-4c3c-a059-19535c3dab25",
   "metadata": {},
   "outputs": [
    {
     "name": "stdout",
     "output_type": "stream",
     "text": [
      "人工智能（Artificial Intelligence，简称AI）是计算机科学的一个分支，它试图理解智能的实质，并生产出一种新的能以人类智能相似方式做出反应的智能机器。人工智能的研究包括机器人、语言识别、图像识别、自然语言处理和专家系统等。\n",
      "\n",
      "人工智能可以被分为几个类别：\n",
      "\n",
      "1. **弱人工智能**：专注于在特定领域内模仿人类智能的机器，例如语音识别或棋类游戏。\n",
      "\n",
      "2. **强人工智能**：指的是能够理解、学习和应用知识在任何领域内做出人类智能相似反应的机器。\n",
      "\n",
      "3. **通用人工智能**：指的是能够执行任何智能任务的机器。\n",
      "\n",
      "人工智能的发展经历了几个阶段：\n",
      "\n",
      "1. **规则驱动的AI**：早期的AI系统依赖于硬编码的规则来模拟智能行为。\n",
      "\n",
      "2. **机器学习**：现代AI系统使用算法从数据中学习，而不是依赖于硬编码的规则。\n",
      "\n",
      "3. **深度学习**：一种特殊的机器学习方法，使用多层神经网络来模拟人脑处理信息的方式。\n",
      "\n",
      "人工智能的应用非常广泛，包括但不限于：\n",
      "\n",
      "- **医疗诊断**：通过分析医学图像和患者数据来辅助医生做出诊断。\n",
      "- **自动驾驶汽车**：使用传感器和算法来导航和控制车辆。\n",
      "- **语音助手**：如Siri、Alexa等，能够理解和响应用户的语音命令。\n",
      "- **推荐系统**：在电商网站和流媒体服务中，根据用户的历史行为推荐商品或内容。\n",
      "- **自然语言处理**：使机器能够理解和生成人类语言，用于翻译、摘要生成等。\n",
      "\n",
      "人工智能的发展也带来了一些挑战，包括就业影响、隐私问题、伦理问题以及对决策过程的控制等。随着技术的进步，这些问题需要社会各界共同努力，以确保人工智能的健康发展。\n"
     ]
    }
   ],
   "source": [
    "print(response.choices[0].message.content)"
   ]
  },
  {
   "cell_type": "markdown",
   "id": "61db925f-5799-4043-a5aa-035ee06b76e7",
   "metadata": {},
   "source": [
    "&emsp;&emsp;上述的交互过程如下图所示 👇"
   ]
  },
  {
   "cell_type": "markdown",
   "id": "71a657db-794a-4a40-8571-69250472b959",
   "metadata": {},
   "source": [
    "<div align=center><img src=\"https://muyu001.oss-cn-beijing.aliyuncs.com/img/011.png\" width=65%></div>"
   ]
  },
  {
   "cell_type": "markdown",
   "id": "da5e7f6e-ceb2-409e-8987-512dcafd75c5",
   "metadata": {},
   "source": [
    "&emsp;&emsp;接下来，围绕这种一问一答的逻辑，我们就可以构建非常简单的While循环来生成一个持续对话的交互程序，代码如下所示："
   ]
  },
  {
   "cell_type": "code",
   "execution_count": 6,
   "id": "07b16e00-3e94-4407-941e-2cc420b4e568",
   "metadata": {},
   "outputs": [
    {
     "name": "stdin",
     "output_type": "stream",
     "text": [
      "\n",
      "用户提问： 退出\n"
     ]
    }
   ],
   "source": [
    "from openai import OpenAI\n",
    "client = OpenAI(\n",
    "    api_key=\"sk-kWNCLmUaSjsr2iUq7LZ2fEgCxSFyr4YWKUjjjoIW5HsNzhGo\", # 在这里将 MOONSHOT_API_KEY 替换为你从 Kimi 开放平台申请的 API Key\n",
    "    base_url=\"https://api.moonshot.cn/v1\",\n",
    ")\n",
    "\n",
    "while True:\n",
    "    prompt = input('\\n用户提问：')\n",
    "    if prompt == \"退出\":\n",
    "        break  # 如果输入的是“退出”，则结束循环\n",
    "    completion = client.chat.completions.create(\n",
    "        model=\"moonshot-v1-8k\",\n",
    "        messages=[{\"role\": \"user\", \"content\": prompt}],\n",
    "        max_tokens=1024,\n",
    "        temperature=0.8)\n",
    "    message = completion.choices[0].message.content\n",
    "    print(f\"模型回复:{message}\")"
   ]
  },
  {
   "cell_type": "markdown",
   "id": "97028f54-c544-445c-8f10-185f77f26ad8",
   "metadata": {},
   "source": [
    "&emsp;&emsp;如上所示的例子：正如我们之前所讨论的，单个大模型并不具备记忆和状态跟踪的能力，它仅将每个输入视为一个独立的事件来处理。这在多轮对话中带来的实际的问题就是：**大模型无法根据先前的对话内容进行综合性的回应。**以这个例子来说，我在一轮对话中告诉模型我的名字是木羽，然后在下一轮询问我的名字，模型却无法记起这一信息。这种缺乏连贯性的表现与我们日常的交互方式明显不符。因此，为了与大模型进行有意义的对话，我们需要做的是：将对话记录不断地反馈给大模型，也就是如下所述的形式 👇"
   ]
  },
  {
   "cell_type": "markdown",
   "id": "17fd40b1-167d-429f-bd5a-d229be452b36",
   "metadata": {},
   "source": [
    "<div align=center><img src=\"https://muyu001.oss-cn-beijing.aliyuncs.com/img/012.png\" width=65%></div>"
   ]
  },
  {
   "cell_type": "markdown",
   "id": "695cc8c6-eba7-45d0-ba5b-547359485caa",
   "metadata": {},
   "source": [
    "&emsp;&emsp;如上图所示，我们需要将每次的对话和大模型的回复， 不断地追加到传递给 API 的消息字典列表中。这样，大模型就能够知道我们之前提出的问题及其提供的答复。所以代码更新如下："
   ]
  },
  {
   "cell_type": "code",
   "execution_count": 9,
   "id": "04612820-6398-4afc-9857-7b74603e70d9",
   "metadata": {},
   "outputs": [
    {
     "name": "stdin",
     "output_type": "stream",
     "text": [
      "\n",
      "用户提问：  退出\n"
     ]
    }
   ],
   "source": [
    "from openai import OpenAI\n",
    "client = OpenAI(\n",
    "    api_key=\"sk-kWNCLmUaSjsr2iUq7LZ2fEgCxSFyr4YWKUjjjoIW5HsNzhGo\", # 在这里将 MOONSHOT_API_KEY 替换为你从 Kimi 开放平台申请的 API Key\n",
    "    base_url=\"https://api.moonshot.cn/v1\",\n",
    ")\n",
    "\n",
    "# 创建一个会话列表来不断地追加历史对话纪律\n",
    "messages = []   \n",
    "\n",
    "while True:\n",
    "    prompt = input('\\n用户提问： ')\n",
    "    if prompt == \"退出\":\n",
    "        break  # 如果输入的是“退出”，则结束循环\n",
    "    messages.append(\n",
    "        {\n",
    "            'role':'user',\n",
    "            'content':prompt\n",
    "        })    \n",
    "    completion = client.chat.completions.create(\n",
    "        model=\"moonshot-v1-8k\",\n",
    "        messages = messages)\n",
    "    \n",
    "    response = completion.choices[0].message.content\n",
    "    print(f\"模型回复:{response}\")   \n",
    "    messages.append(\n",
    "        {\n",
    "            'role':'assistant',\n",
    "            'content':response\n",
    "        })"
   ]
  },
  {
   "cell_type": "code",
   "execution_count": 16,
   "id": "b44cdb1e-df61-467a-a338-f8f2fc383c19",
   "metadata": {
    "scrolled": true
   },
   "outputs": [
    {
     "data": {
      "text/plain": [
       "[{'role': 'user', 'content': '你好，请你介绍一下你自己'},\n",
       " {'role': 'assistant',\n",
       "  'content': '你好！我是一款由OpenAI开发的人工智能语言模型，旨在回答问题、提供信息、协助撰写文本和进行多种语言的互动。我可以帮助你寻找知识、解决问题、提供创意建议等。如果你有任何具体问题或者需要帮助的地方，随时问我！'},\n",
       " {'role': 'user', 'content': '我是木羽，很高兴认识你'},\n",
       " {'role': 'assistant', 'content': '你好，木羽！很高兴认识你！如果你有什么想聊的或需要帮助的地方，尽管告诉我！'},\n",
       " {'role': 'user', 'content': '请问我叫什么'},\n",
       " {'role': 'assistant',\n",
       "  'content': '你刚刚告诉我你叫木羽。如果我理解错了，请告诉我。 你有什么想讨论的或者需要帮助的地方吗？'}]"
      ]
     },
     "execution_count": 16,
     "metadata": {},
     "output_type": "execute_result"
    }
   ],
   "source": [
    "messages"
   ]
  },
  {
   "cell_type": "markdown",
   "id": "78085060-9574-44c1-9cd2-6b2ce1ea649f",
   "metadata": {},
   "source": [
    "&emsp;&emsp;如上案例所示，**大模型可以通过不断追加会话消息列表来模拟记忆功能，这是聊天机器人应用的一种常见实践。**借助于大模型的处理能力和这种短期记忆机制，构造出来的问答系统能够与用户进行交互并帮助解答问题。当然，为了解决大模型知识的局限性问题，我们经常采用RAG技术来增强其信息检索能力。但需要明确的是，**尽管结合了RAG技术，LLM和RAG的组合主要还是用于知识问答。**因此，如果没有其他技术的结合，这种系统还是属于聊天机器人的范畴。所以，如果大家需求仅限于让大模型回答问题或者基于本地数据提供回复，那么只需要大模型和RAG技术栈，并不涉及任何更复杂的代理（Agent）相关技术。"
   ]
  },
  {
   "cell_type": "markdown",
   "id": "abb10912-f6a1-446d-a25c-796967b7aa0e",
   "metadata": {},
   "source": [
    "> 关于LLMs + RAG 复杂聊天机器人的实现，大家可以参考我们课程的内容：《大模型RAG技术企业项目实战》 Week1 ~ Week3 的内容。"
   ]
  },
  {
   "cell_type": "markdown",
   "id": "20eaac23-b2c5-44ce-9f57-78dcf1676231",
   "metadata": {},
   "source": [
    "让我们先回顾一下聊天机器人、人工智能助手和人工智能代理之间的区别，以便您清楚地了解：\n",
    "\n",
    "\n",
    "聊天机器人是那些基本上被设计用来进行对话、回答小问题或提供客户服务帮助的小朋友。有些非常简单，有些则通过机器学习更先进，但它们的范围是有限的。\n",
    "\n",
    "然后我们还有人工智能助手，这完全是另一回事了。这些小工具可以处理大量不同的任务，例如搜索信息、生成内容，甚至管理家中的智能设备。他们使用人工智能来了解上下文并了解您的偏好，就像您的小私人助理一样！\n",
    "\n",
    "但真正成为炸弹的是人工智能特工。这些才是真正的交易。它们旨在自主执行各种任务、做出决策、解决问题，最重要的是与现实世界互动！想象一下他们为您预订航班、购物，甚至谈判合同。"
   ]
  },
  {
   "cell_type": "markdown",
   "id": "8ffa4ffa-3881-4e4c-926b-9609ff0f27d6",
   "metadata": {},
   "source": [
    "## 1.1 聊天机器人"
   ]
  },
  {
   "cell_type": "markdown",
   "id": "db11aff9-1421-4c84-9341-0c2bd5a6c9d7",
   "metadata": {},
   "source": [
    "在你应该已经听说过ChatGPT（ Chat Generative Pre-trained Transformer ）——一个由OpenAI开发的聊天机器人。 ChatGPT 于 2022 年 11 月推出，建立在 OpenAI 的 GPT-3（特别是GPT-3.5 ）大型语言模型 ( LLMs ) 系列之上，并使用监督学习和强化学习技术进行微调。此后，ChatGPT 引发了人工智能热潮，推出仅两个月就拥有 1 亿用户。"
   ]
  },
  {
   "cell_type": "markdown",
   "id": "85627fc8-9ae1-452b-8621-f3d3f7eed857",
   "metadata": {},
   "source": [
    "作为一名开发人员，我没有在https://chat.openai.com/chat上尝试 ChatGPT，而是发现能够将其集成到我的应用程序中更令人兴奋。因此，在本文中，我将向您展示如何使用 Python 与 ChatGPT 进行交互。"
   ]
  },
  {
   "cell_type": "markdown",
   "id": "764afa0b-71fc-4d86-8350-61061246fb5c",
   "metadata": {},
   "source": [
    "<div align=center><img src=\"https://muyu001.oss-cn-beijing.aliyuncs.com/img/image-20240910135328645.png\" width=60%></div>"
   ]
  },
  {
   "cell_type": "code",
   "execution_count": 1,
   "id": "49527c32",
   "metadata": {},
   "outputs": [],
   "source": [
    "from openai import OpenAI\n",
    "client = OpenAI(\n",
    "    api_key=\"sk-kWNCLmUaSjsr2iUq7LZ2fEgCxSFyr4YWKUjjjoIW5HsNzhGo\", # 在这里将 MOONSHOT_API_KEY 替换为你从 Kimi 开放平台申请的 API Key\n",
    "    base_url=\"https://api.moonshot.cn/v1\",\n",
    ")\n",
    "\n",
    "response = client.chat.completions.create(\n",
    "  model=\"moonshot-v1-8k\",\n",
    "  messages=[\n",
    "    {\"role\": \"system\", \"content\": \"你是一位乐于助人的智能助理\"},\n",
    "    {\"role\": \"user\", \"content\": \"帮我介绍一下什么是人工智能\"},\n",
    "  ]\n",
    ")"
   ]
  },
  {
   "cell_type": "code",
   "execution_count": null,
   "id": "f535f150",
   "metadata": {},
   "outputs": [],
   "source": [
    "response.choices[0].message"
   ]
  },
  {
   "cell_type": "code",
   "execution_count": null,
   "id": "38d5fbab",
   "metadata": {},
   "outputs": [],
   "source": []
  },
  {
   "cell_type": "markdown",
   "id": "aaa9c743-2259-4352-ad31-3862e3dff59f",
   "metadata": {},
   "source": [
    "要发送到 ChatGPT 的问题必须包含在字典列表中。例如，上述问题按照以下格式发送到ChatGPT："
   ]
  },
  {
   "cell_type": "code",
   "execution_count": null,
   "id": "8bb4f03e",
   "metadata": {},
   "outputs": [],
   "source": [
    "while True:\n",
    "    prompt = input('\\n提出一个问题：')\n",
    "    if prompt == \"退出\":\n",
    "        break  # 如果输入的是“退出”，则结束循环\n",
    "    completion = client.chat.completions.create(\n",
    "        model=\"moonshot-v1-8k\",\n",
    "        messages=[{\"role\": \"user\", \"content\": prompt}],\n",
    "        max_tokens=1024,\n",
    "        temperature=0.8)\n",
    "    message = completion.choices[0].message.content\n",
    "    print(message)"
   ]
  },
  {
   "cell_type": "markdown",
   "id": "394e116f-b78f-45a6-92b8-ff02e2d08c50",
   "metadata": {},
   "source": [
    "ChatGPT 不记得您之前的问题。因此，为了与它进行有意义的对话，您需要将对话反馈给 API。还记得需要传递给 API 的字典列表吗？"
   ]
  },
  {
   "cell_type": "markdown",
   "id": "86159015-9ae8-4aa0-8888-c78edc8a56f1",
   "metadata": {},
   "source": [
    "要将之前的对话反馈给 ChatGPT，您首先将 ChatGPT 的回复附加到列表中："
   ]
  },
  {
   "cell_type": "markdown",
   "id": "83d75306-e52c-45f6-bc61-c5ba9fa22491",
   "metadata": {},
   "source": [
    "<div align=center><img src=\"https://muyu001.oss-cn-beijing.aliyuncs.com/img/image-20240910135430962.png\" width=60%></div>"
   ]
  },
  {
   "cell_type": "markdown",
   "id": "974acb28-d789-4071-8ff8-e0fd86a9973d",
   "metadata": {},
   "source": [
    "这样，ChatGPT 就能够知道您之前提出的问题及其提供的答复。以下是更新后的代码，允许用户与 ChatGPT 进行有意义的对话："
   ]
  },
  {
   "cell_type": "code",
   "execution_count": null,
   "id": "85142805",
   "metadata": {},
   "outputs": [],
   "source": [
    "messages = []   \n",
    "\n",
    "while True:\n",
    "    prompt = input('\\n提出一个问题： ')\n",
    "    if prompt == \"退出\":\n",
    "        break  # 如果输入的是“退出”，则结束循环\n",
    "    messages.append(\n",
    "        {\n",
    "            'role':'user',\n",
    "            'content':prompt\n",
    "        })    \n",
    "    completion = client.chat.completions.create(\n",
    "        model=\"moonshot-v1-8k\",\n",
    "        messages = messages)\n",
    "    \n",
    "    response = completion.choices[0].message.content\n",
    "    print(response)    \n",
    "    messages.append(\n",
    "        {\n",
    "            'role':'assistant',\n",
    "            'content':response\n",
    "        })"
   ]
  },
  {
   "cell_type": "markdown",
   "id": "05aa88dc-89df-4572-a865-ea9e0d7a3602",
   "metadata": {},
   "source": [
    "存在的问题是： 输出 无法给到下游！！！！！！！ 要解决的根本两点问题就是：\n",
    "\n",
    "1. 如何让 大模型产生结构化的输出\n",
    "2. 如何让 大模型在一次对话中，自动执行多个步骤。"
   ]
  },
  {
   "cell_type": "markdown",
   "id": "94f20c59-0b4e-497b-bae1-4957a4269a31",
   "metadata": {},
   "source": [
    "这就提出了 函数调用功能。为什么要这么说，我们来看下面的这个例子："
   ]
  },
  {
   "cell_type": "markdown",
   "id": "669169d2-8805-4837-946b-781b18b3a6c7",
   "metadata": {},
   "source": [
    "# 2. 人工智能助手"
   ]
  },
  {
   "cell_type": "markdown",
   "id": "19a7ca37-6463-4fdf-886c-ea453dd2db52",
   "metadata": {},
   "source": [
    "&emsp;&emsp;第二类智能应用是人工智能助手。这类应用不仅能生成内容，还具备搜索信息、管理设备等能力。可以理解上下文和用户偏好，它们表现得就像个人定制的私人助理，能够帮助我们实际的完成一些需要人工接入的既定工作。起到的**主要作用是替代手工执行特定的任务。**比如这样的一个智能客服助手的案例：电商平台上，用户经常有关于商品信息查询和优惠政策提问的需求。一个智能客服系统可以自动化这些流程，提高响应速度和准确性，这种场景下智能助手具体要做的是：\n",
    "- 功能：用户询问特定商品时，如“你们家有没有XX商品？”智能助手可以自动在商品数据库中查询并回复是否有货、价格等信息。\n",
    "- 实现：大模型接收到商品查询请求后，从内置的商品数据表中检索信息，并以文本形式向用户提供反馈。\n",
    "- 功能：当用户提出关于购买时某些商品的实时优惠政策等问题时，智能助手能从预设的非结构化文本中提取相关信息并回答。\n",
    "- 实现：模型利用预先设定的关键词和语境从非结构化数据（如优惠政策的手册或厂家的API返回的文本）中提取答案。"
   ]
  },
  {
   "cell_type": "markdown",
   "id": "e8c7de6a-5c7c-4df3-bae2-14760ec09161",
   "metadata": {},
   "source": [
    "&emsp;&emsp;这样复杂一点的场景在第一个聊天机器人的案例中很难实现，其主要存在的问题是：**类似智能客服的整个问答流程涉及两个阶段，第一阶段是接收用户的输入，去查询数据库。第二阶段是根据数据库返回的结果，结合用户的问题，生成最终的答案。而这样的阶段性操作，其根本要解决的两点问题是：**\n",
    "1. 如何让 大模型产生结构化的输出\n",
    "2. 如何让 大模型在一次对话中，自动执行多个步骤。"
   ]
  },
  {
   "cell_type": "markdown",
   "id": "f04bb91e-4e69-4aa7-aa2f-b14efd4cd99a",
   "metadata": {},
   "source": [
    "&emsp;&emsp;由此才有了 函数调用（Function Calling）的技术应用。为什么要这么说，我们来看下面的这个例子：当用户询问`你们家都卖哪些产品`时，人工智能助手需要在它可以生成对用户的响应之前，先从内部系统获取最新的商家数据，就变成了下面这样："
   ]
  },
  {
   "cell_type": "markdown",
   "id": "02cbc9a9-e41f-4fc0-ab07-e04edd954450",
   "metadata": {},
   "source": [
    "<div align=center><img src=\"https://muyu001.oss-cn-beijing.aliyuncs.com/img/013.png\" width=60%></div>"
   ]
  },
  {
   "cell_type": "markdown",
   "id": "72bdc937-7e9e-4f42-b8ee-6ed6cedd7f20",
   "metadata": {},
   "source": [
    "&emsp;&emsp;**人工智能助手的核心技术就是函数调用**，因为它是借助函数调用的功能，通过提示（Prompt）告诉大模型确定应该调用哪些函数来满足用户的需求。其生命周期如下图所示："
   ]
  },
  {
   "cell_type": "markdown",
   "id": "fd009066-3673-44c5-98aa-82642dc9b38d",
   "metadata": {},
   "source": [
    "<div align=center><img src=\"https://muyu001.oss-cn-beijing.aliyuncs.com/img/image-20240909180539880.png\" width=60%></div>"
   ]
  },
  {
   "cell_type": "markdown",
   "id": "b6b9f2ff-3f21-4d7b-8ea1-681bdafb897f",
   "metadata": {},
   "source": [
    "&emsp;&emsp;如上图所示，描述了使用大语言模型（LLM）通过API进行功能调用的完整生命周期。具体过程如下：\n",
    "\n",
    "1. **API调用**：应用程序向API发送调用请求，附带具体的提示信息和可供LLM调用的函数定义。\n",
    "\n",
    "2. **模型决策**：LLM评估接收到的输入，并决定是否直接回应用户，或是需要调用一个或多个外部函数以提供更合适的回答。\n",
    "\n",
    "3. **API响应**：API向应用程序返回响应，指明需要执行的函数以及执行这些函数所需的参数。\n",
    "\n",
    "4. **执行函数**：应用程序根据API的指示执行指定的函数，使用提供的参数。\n",
    "\n",
    "5. **调用结果处理**：完成函数执行后，应用程序再次调用API，传递先前的提示信息和函数执行的结果，以便LLM可以利用这些新数据生成最终的用户响应。"
   ]
  },
  {
   "cell_type": "markdown",
   "id": "bb58703e-2b76-4fab-9c83-18b2eb6c1eb1",
   "metadata": {},
   "source": [
    "&emsp;&emsp;可以看到，当涉及到函数调用的时候，其生命周期相较于直接让大模型生成响应回复，需要额外增加的操作是：其一：我们要给它配备对应的外部工具；其二：我们要执行外部工具，得到外部工具的返回结果；其三：把工具的执行结果拼接到用户的原始输入中，从而得到最终的回复。其过程如下图所示："
   ]
  },
  {
   "cell_type": "markdown",
   "id": "83d279e5-d723-4b64-a05a-fa1cb7746973",
   "metadata": {},
   "source": [
    "<div align=center><img src=\"https://muyu001.oss-cn-beijing.aliyuncs.com/img/03.png\" width=60%></div>"
   ]
  },
  {
   "cell_type": "markdown",
   "id": "d293dd14-0a9a-4b63-858b-ccedc15e9c59",
   "metadata": {},
   "source": [
    "&emsp;&emsp;为了帮助大家更好的理解通过函数调用（function calling）实现人工智能助手的过程，我们实操一个智能客服的案例来详细介绍中间环节的详细处理流程。"
   ]
  },
  {
   "cell_type": "markdown",
   "id": "817b64c8-aeaa-4e25-ae28-b4b79ee7fbdd",
   "metadata": {},
   "source": [
    "&emsp;&emsp;首先，我们先构造一个商家后台商品信息的模拟数据。这里使用 `Python` 连接 `sqlite3`库进行存储。代码如下所示："
   ]
  },
  {
   "cell_type": "code",
   "execution_count": 9,
   "id": "68920849-5362-4bb2-90e2-381ff07bf2e4",
   "metadata": {
    "scrolled": true
   },
   "outputs": [
    {
     "data": {
      "text/plain": [
       "[('001',\n",
       "  '足球',\n",
       "  '高品质职业比赛用球，符合国际标准',\n",
       "  '圆形，直径22 cm',\n",
       "  '职业比赛、学校体育课',\n",
       "  '耐克',\n",
       "  120.0,\n",
       "  50),\n",
       " ('002',\n",
       "  '羽毛球拍',\n",
       "  '轻量级，适合初中级选手，提供优秀的击球感受',\n",
       "  '碳纤维材质，重量85 g',\n",
       "  '业余比赛、家庭娱乐',\n",
       "  '尤尼克斯',\n",
       "  300.0,\n",
       "  30),\n",
       " ('003',\n",
       "  '篮球',\n",
       "  '室内外可用，耐磨耐用，适合各种天气条件',\n",
       "  '皮质，标准7号球',\n",
       "  '学校、社区运动场',\n",
       "  '斯伯丁',\n",
       "  200.0,\n",
       "  40),\n",
       " ('004',\n",
       "  '跑步鞋',\n",
       "  '适合长距离跑步，舒适透气，提供良好的足弓支撑',\n",
       "  '多种尺码，透气网布',\n",
       "  '长跑、日常训练',\n",
       "  '阿迪达斯',\n",
       "  500.0,\n",
       "  20),\n",
       " ('005',\n",
       "  '瑜伽垫',\n",
       "  '防滑材料，厚度适中，易于携带和清洗',\n",
       "  '长180cm，宽60cm，厚5mm',\n",
       "  '瑜伽、普拉提',\n",
       "  '曼达卡',\n",
       "  150.0,\n",
       "  25),\n",
       " ('006',\n",
       "  '速干运动衫',\n",
       "  '吸汗快干，适合各种户外运动，持久舒适',\n",
       "  'S/M/L/XL，多色可选',\n",
       "  '运动、徒步、旅游',\n",
       "  '诺斯脸',\n",
       "  180.0,\n",
       "  60),\n",
       " ('007',\n",
       "  '电子计步器',\n",
       "  '精确计步，带心率监测功能，蓝牙连接手机应用',\n",
       "  '可充电，续航7天',\n",
       "  '日常健康管理、运动',\n",
       "  'Fitbit',\n",
       "  250.0,\n",
       "  15),\n",
       " ('008',\n",
       "  '乒乓球拍套装',\n",
       "  '包括两只拍子和三个球，适合家庭娱乐和业余训练',\n",
       "  '标准尺寸，拍面防滑处理',\n",
       "  '家庭、社区',\n",
       "  '双鱼',\n",
       "  160.0,\n",
       "  35),\n",
       " ('009',\n",
       "  '健身手套',\n",
       "  '抗滑耐磨，保护手部，适合各种健身活动',\n",
       "  '多种尺码，通风设计',\n",
       "  '健身房、户外运动',\n",
       "  'Under Armour',\n",
       "  120.0,\n",
       "  50),\n",
       " ('010',\n",
       "  '膝盖护具',\n",
       "  '减少运动伤害，提供良好的支撑和保护，适合篮球和足球运动',\n",
       "  '弹性织物，可调节紧度',\n",
       "  '篮球、足球及其他运动',\n",
       "  '麦克戴维',\n",
       "  220.0,\n",
       "  40)]"
      ]
     },
     "execution_count": 9,
     "metadata": {},
     "output_type": "execute_result"
    }
   ],
   "source": [
    "import sqlite3\n",
    "\n",
    "def create_and_populate_database():\n",
    "    # 连接到本地数据库文件\n",
    "    conn = sqlite3.connect('SportsEquipment.db')  # 指定文件名来保存数据库\n",
    "    cursor = conn.cursor()\n",
    "\n",
    "    # 检查是否存在名为 'products' 的表，如果不存在则创建\n",
    "    cursor.execute(\"SELECT name FROM sqlite_master WHERE type='table' AND name='products';\")\n",
    "    if cursor.fetchone() is None:\n",
    "        # 创建表\n",
    "        cursor.execute('''\n",
    "        CREATE TABLE products (\n",
    "            product_id TEXT,\n",
    "            product_name TEXT,\n",
    "            description TEXT,\n",
    "            specifications TEXT,\n",
    "            usage TEXT,\n",
    "            brand TEXT,\n",
    "            price REAL,\n",
    "            stock_quantity INTEGER\n",
    "        )\n",
    "        ''')\n",
    "        # 数据列表，用于插入表中\n",
    "        products = [\n",
    "            ('001', '足球', '高品质职业比赛用球，符合国际标准', '圆形，直径22 cm', '职业比赛、学校体育课', '耐克', 120, 50),\n",
    "            ('002', '羽毛球拍', '轻量级，适合初中级选手，提供优秀的击球感受', '碳纤维材质，重量85 g', '业余比赛、家庭娱乐', '尤尼克斯', 300, 30),\n",
    "            ('003', '篮球', '室内外可用，耐磨耐用，适合各种天气条件', '皮质，标准7号球', '学校、社区运动场', '斯伯丁', 200, 40),\n",
    "            ('004', '跑步鞋', '适合长距离跑步，舒适透气，提供良好的足弓支撑', '多种尺码，透气网布', '长跑、日常训练', '阿迪达斯', 500, 20),\n",
    "            ('005', '瑜伽垫', '防滑材料，厚度适中，易于携带和清洗', '长180cm，宽60cm，厚5mm', '瑜伽、普拉提', '曼达卡', 150, 25),\n",
    "            ('006', '速干运动衫', '吸汗快干，适合各种户外运动，持久舒适', 'S/M/L/XL，多色可选', '运动、徒步、旅游', '诺斯脸', 180, 60),\n",
    "            ('007', '电子计步器', '精确计步，带心率监测功能，蓝牙连接手机应用', '可充电，续航7天', '日常健康管理、运动', 'Fitbit', 250, 15),\n",
    "            ('008', '乒乓球拍套装', '包括两只拍子和三个球，适合家庭娱乐和业余训练', '标准尺寸，拍面防滑处理', '家庭、社区', '双鱼', 160, 35),\n",
    "            ('009', '健身手套', '抗滑耐磨，保护手部，适合各种健身活动', '多种尺码，通风设计', '健身房、户外运动', 'Under Armour', 120, 50),\n",
    "            ('010', '膝盖护具', '减少运动伤害，提供良好的支撑和保护，适合篮球和足球运动', '弹性织物，可调节紧度', '篮球、足球及其他运动', '麦克戴维', 220, 40)\n",
    "        ]\n",
    "\n",
    "        # 插入数据到表中\n",
    "        cursor.executemany('''\n",
    "        INSERT INTO products (product_id, product_name, description, specifications, usage, brand, price, stock_quantity)\n",
    "        VALUES (?, ?, ?, ?, ?, ?, ?, ?)\n",
    "        ''', products)\n",
    "\n",
    "        # 提交更改以确保数据被保存在文件中\n",
    "        conn.commit()\n",
    "\n",
    "    # 检索并打印所有记录以验证插入\n",
    "    cursor.execute('SELECT * FROM products')\n",
    "    all_rows = cursor.fetchall()\n",
    "    \n",
    "    conn.close()  # 关闭连接以释放资源\n",
    "\n",
    "    return all_rows\n",
    "\n",
    "# 执行函数并打印结果\n",
    "create_and_populate_database()"
   ]
  },
  {
   "cell_type": "markdown",
   "id": "2dfe34ae-1f05-46ec-a963-7787cb2a73ee",
   "metadata": {},
   "source": [
    "&emsp;&emsp;执行完上述函数后，会在本地的当前路径下生成一个`SportsEquipment.db`文件，这个表有多个字段，包括产品ID、名称、描述、规格、用途、品牌、价格和库存数量。"
   ]
  },
  {
   "cell_type": "markdown",
   "id": "a1c6caf0-7a51-4218-a66f-66736a57efbb",
   "metadata": {},
   "source": [
    "- **第一步：构建大模型能够调用的函数**"
   ]
  },
  {
   "cell_type": "markdown",
   "id": "f6ee41e1-02d8-4f8e-9a62-731bc57fe5b6",
   "metadata": {},
   "source": [
    "&emsp;&emsp;对于电商智能客服这个场景，如果我们希望它能够在回答用户的问题之前，先去查询上述创建的商品后台数据库，那么就需要出创建一个函数来做这件事。比如用户输入：`你们家都有什么球在卖`？ 那么理想的状态是这个函数可以根据 `球` 这个关键字向后台数据库执行查询操作。所以我们构建了如下所示的`query_by_product_name`函数："
   ]
  },
  {
   "cell_type": "code",
   "execution_count": 2,
   "id": "f9f63cc0-7804-4464-8307-08efbacd7182",
   "metadata": {},
   "outputs": [],
   "source": [
    "import sqlite3\n",
    "\n",
    "def query_by_product_name(product_name):\n",
    "    # 连接 SQLite 数据库\n",
    "    conn = sqlite3.connect('SportsEquipment.db')\n",
    "    cursor = conn.cursor()\n",
    "\n",
    "    # 使用SQL查询按名称查找产品。'%'符号允许部分匹配。\n",
    "    cursor.execute(\"SELECT * FROM products WHERE product_name LIKE ?\", ('%' + product_name + '%',))\n",
    "\n",
    "    # 获取所有查询到的数据\n",
    "    rows = cursor.fetchall()\n",
    "\n",
    "    # 关闭连接\n",
    "    conn.close()  \n",
    "\n",
    "    return rows"
   ]
  },
  {
   "cell_type": "markdown",
   "id": "b59c6556-8460-4881-994a-a34a2bd63f42",
   "metadata": {},
   "source": [
    "&emsp;&emsp;测试一下函数功能："
   ]
  },
  {
   "cell_type": "code",
   "execution_count": 3,
   "id": "0680b88d-347a-4598-a173-502485e658f6",
   "metadata": {},
   "outputs": [
    {
     "name": "stdout",
     "output_type": "stream",
     "text": [
      "Matching Products:\n",
      "('001', '足球', '高品质职业比赛用球，符合国际标准', '圆形，直径22 cm', '职业比赛、学校体育课', '耐克', 120.0, 50)\n",
      "('002', '羽毛球拍', '轻量级，适合初中级选手，提供优秀的击球感受', '碳纤维材质，重量85 g', '业余比赛、家庭娱乐', '尤尼克斯', 300.0, 30)\n",
      "('003', '篮球', '室内外可用，耐磨耐用，适合各种天气条件', '皮质，标准7号球', '学校、社区运动场', '斯伯丁', 200.0, 40)\n",
      "('008', '乒乓球拍套装', '包括两只拍子和三个球，适合家庭娱乐和业余训练', '标准尺寸，拍面防滑处理', '家庭、社区', '双鱼', 160.0, 35)\n"
     ]
    }
   ],
   "source": [
    "matching_products = query_by_product_name('球')\n",
    "\n",
    "print(\"Matching Products:\")\n",
    "\n",
    "for product in matching_products:\n",
    "    print(product)"
   ]
  },
  {
   "cell_type": "markdown",
   "id": "bc670e3f-31d2-4e21-85f9-1cb8ececfc89",
   "metadata": {},
   "source": [
    "- **第 二 步：向大模型描述这个函数，以便大模型知道如何调用它，以及在什么情况下需要调用它**"
   ]
  },
  {
   "cell_type": "markdown",
   "id": "ba4fc1fe-7540-4600-b376-5ed309ce457b",
   "metadata": {},
   "source": [
    "&emsp;&emsp;根据场景设计，我们能够明确的是我们允许大模型调用什么函数，但是大模型什么时候去调用它，如何调用它，则需要我们进一步创建一个“函数定义”来向模型描述该函数。该定义描述了该函数的作用（以及可能何时调用该函数）以及调用该函数需要哪些参数。而函数定义的`parameters`部分应使用 `JSON` 架构进行描述。一旦模型生成函数调用，它将使用此信息根据提供的要求生成参数。"
   ]
  },
  {
   "cell_type": "markdown",
   "id": "acfdebed-3223-43fb-a584-37aa323ca865",
   "metadata": {},
   "source": [
    "> 对于Json Schema 结构的详细介绍，大家可以参考我们之前课程的内容，在《大模型技术实战课》的 Ch 8 课程。"
   ]
  },
  {
   "cell_type": "markdown",
   "id": "1533f765-e8a2-4ad1-9092-67639b6ffe29",
   "metadata": {},
   "source": [
    "```json\n",
    "{\n",
    "    \"name\": \"query_by_product_name\",\n",
    "    \"description\": \"Query the database to retrieve a list of products that match or contain the specified product name. This function can be used to assist customers in finding products by name via an online platform or customer support interface.\",   # 查询数据库以检索匹配或包含指定产品名称的产品列表。此功能可用于帮助客户通过在线平台或客户支持界面按名称查找产品。\n",
    "    \"parameters\": {\n",
    "        \"type\": \"object\",\n",
    "        \"properties\": {\n",
    "            \"product_name\": {\n",
    "                \"type\": \"string\",\n",
    "                \"description\": \"The name of the product to search for. The search is case-insensitive and allows partial matches.\"\n",
    "            }\n",
    "        },\n",
    "        \"required\": [\"product_name\"]\n",
    "    }\n",
    "}\n",
    "```"
   ]
  },
  {
   "cell_type": "markdown",
   "id": "b94ec568-c797-4e6b-ab04-6e0fe3850d7a",
   "metadata": {},
   "source": [
    "&emsp;&emsp;这段`Json Schema` 描述的关键要素如下：\n",
    "1. **name 字段**：明确指示大模型需要调用的具体函数名称。\n",
    "2. **description 字段**：向大模型说明在哪些用户需求下应当触发这个函数，即在何种场景下调用。\n",
    "3. **parameters**：详细描述函数所接受的参数，使大模型能够从类似“你家都卖什么球”的自然语言查询中提取出“球”作为关键搜索词。其中的`required`字段指明哪些参数是必需的，确保函数能在缺少这些参数时提示或防止执行。\n",
    "\n",
    "这种表述不仅清晰地阐明了各字段的作用，也帮助理解如何结构化这些信息以便模型能够有效地解析和响应用户的具体需求。"
   ]
  },
  {
   "cell_type": "markdown",
   "id": "a17ce2fe-6730-4f55-8ad8-3dd741c3d6ae",
   "metadata": {},
   "source": [
    "- **第 三 步：将函数定义作为可用工具以及消息传递给大模型**"
   ]
  },
  {
   "cell_type": "markdown",
   "id": "5b6a7b28-e6b1-46d1-a91e-b628a4242c44",
   "metadata": {},
   "source": [
    "&emsp;接下来，当涉及到函数调用的时候，我们需要在调用聊天完成 API 时，额外的传递一个 `tools`参数，以告知大模型：你在当前的会话过程中，可以调用`query_by_product_name`参数。"
   ]
  },
  {
   "cell_type": "code",
   "execution_count": 4,
   "id": "1974b21c-2a4d-4333-9682-196b4281617d",
   "metadata": {},
   "outputs": [],
   "source": [
    "tools = [\n",
    "    {\n",
    "        \"type\": \"function\",\n",
    "        \"function\": {\n",
    "            \"name\": \"query_by_product_name\",\n",
    "            \"description\": \"Query the database to retrieve a list of products that match or contain the specified product name. This function can be used to assist customers in finding products by name via an online platform or customer support interface.\",\n",
    "            \"parameters\": {\n",
    "                \"type\": \"object\",\n",
    "                \"properties\": {\n",
    "                    \"product_name\": {\n",
    "                        \"type\": \"string\",\n",
    "                        \"description\": \"The name of the product to search for. The search is case-insensitive and allows partial matches.\"\n",
    "                    }\n",
    "                },\n",
    "                \"required\": [\"product_name\"]\n",
    "            }\n",
    "        }\n",
    "\n",
    "    }\n",
    "]\n"
   ]
  },
  {
   "cell_type": "code",
   "execution_count": 5,
   "id": "39ea2355-5176-48b4-8806-1d40086da740",
   "metadata": {},
   "outputs": [],
   "source": [
    "messages = [\n",
    "    {\"role\": \"user\", \"content\": \"老板，在吗\"}\n",
    "]"
   ]
  },
  {
   "cell_type": "markdown",
   "id": "564d57dd-5472-4275-a756-f5fa921a94ac",
   "metadata": {},
   "source": [
    "&emsp;&emsp;注意：这里通过`tools`参数进行工具传递。"
   ]
  },
  {
   "cell_type": "code",
   "execution_count": 6,
   "id": "f734c345-a262-4d62-923f-2b0fde6389b0",
   "metadata": {},
   "outputs": [],
   "source": [
    "from openai import OpenAI\n",
    "client = OpenAI()\n",
    "\n",
    "response = client.chat.completions.create(\n",
    "    model=\"moonshot-v1-8k\",\n",
    "    messages=messages,\n",
    "    tools=tools,  # 这里是添加\n",
    ")"
   ]
  },
  {
   "cell_type": "markdown",
   "id": "8abd1f49-6161-4379-86ec-0f83334a68ec",
   "metadata": {},
   "source": [
    "- **第 四 步 ：接收并处理大模型响应**"
   ]
  },
  {
   "cell_type": "markdown",
   "id": "efe41e78-d33c-4033-83e6-6d05b2fffb56",
   "metadata": {},
   "source": [
    "&emsp;&emsp;这里需要注意的是：**尽管传递了 `tools`工具，但并不意味着大模型一定会进行调用**，我们之前提到了：对每个工具我们会提供`description`描述，它的意义在于如果大模型判断用户的输入并没有这方面的意图，则会像`聊天机器人`应用一样直接进行响应。\n",
    "如果模型不生成函数调用，则响应将包含以聊天完成的正常方式直接回复用户。例如，在这种情况下 chat_response.choices[0].message 可能包含："
   ]
  },
  {
   "cell_type": "code",
   "execution_count": 38,
   "id": "889691e2-ad4d-4ddb-9a71-1b81425602a5",
   "metadata": {},
   "outputs": [
    {
     "data": {
      "text/plain": [
       "ChatCompletion(id='chatcmpl-67ba8fae2f35584ccc0fee04', choices=[Choice(finish_reason='stop', index=0, logprobs=None, message=ChatCompletionMessage(content='您好，以下是我们销售的球类相关产品：\\n\\n1. **足球**：高品质职业比赛用球，符合国际标准，圆形，直径22 cm，适用于职业比赛和学校体育课，品牌为耐克，价格为120元，库存50个。\\n\\n2. **羽毛球拍**：轻量级，适合初中级选手，提供优秀的击球感受，碳纤维材质，重量85 g，适用于业余比赛和家庭娱乐，品牌为尤尼克斯，价格为300元，库存30个。\\n\\n3. **篮球**：室内外可用，耐磨耐用，适合各种天气条件，皮质，标准7号球，适用于学校和社区运动场，品牌为斯伯丁，价格为200元，库存40个。\\n\\n4. **乒乓球拍套装**：包括两只拍子和三个球，适合家庭娱乐和业余训练，标准尺寸，拍面防滑处理，适用于家庭和社区，品牌为双鱼，价格为160元，库存35个。\\n\\n如果您对以上产品感兴趣或需要更多信息，请随时联系我们。', refusal=None, role='assistant', function_call=None, tool_calls=None))], created=1740279726, model='moonshot-v1-8k', object='chat.completion', service_tier=None, system_fingerprint=None, usage=CompletionUsage(completion_tokens=219, prompt_tokens=399, total_tokens=618, completion_tokens_details=None))"
      ]
     },
     "execution_count": 38,
     "metadata": {},
     "output_type": "execute_result"
    }
   ],
   "source": [
    "response"
   ]
  },
  {
   "cell_type": "code",
   "execution_count": 39,
   "id": "e86d9c20-99fa-4614-a79c-25666f8daebf",
   "metadata": {
    "scrolled": true
   },
   "outputs": [
    {
     "data": {
      "text/plain": [
       "'您好，以下是我们销售的球类相关产品：\\n\\n1. **足球**：高品质职业比赛用球，符合国际标准，圆形，直径22 cm，适用于职业比赛和学校体育课，品牌为耐克，价格为120元，库存50个。\\n\\n2. **羽毛球拍**：轻量级，适合初中级选手，提供优秀的击球感受，碳纤维材质，重量85 g，适用于业余比赛和家庭娱乐，品牌为尤尼克斯，价格为300元，库存30个。\\n\\n3. **篮球**：室内外可用，耐磨耐用，适合各种天气条件，皮质，标准7号球，适用于学校和社区运动场，品牌为斯伯丁，价格为200元，库存40个。\\n\\n4. **乒乓球拍套装**：包括两只拍子和三个球，适合家庭娱乐和业余训练，标准尺寸，拍面防滑处理，适用于家庭和社区，品牌为双鱼，价格为160元，库存35个。\\n\\n如果您对以上产品感兴趣或需要更多信息，请随时联系我们。'"
      ]
     },
     "execution_count": 39,
     "metadata": {},
     "output_type": "execute_result"
    }
   ],
   "source": [
    "response.choices[0].message.content"
   ]
  },
  {
   "cell_type": "markdown",
   "id": "77f44701-c7b3-4bc3-8c14-9fd66c090351",
   "metadata": {},
   "source": [
    "&emsp;&emsp;而假设用户的问题中提及了关于商品的提问，才会触发工具调用的流程："
   ]
  },
  {
   "cell_type": "code",
   "execution_count": 40,
   "id": "354a6fff-e32e-4a2b-a8d0-1e2c65bb890d",
   "metadata": {},
   "outputs": [],
   "source": [
    "messages = [\n",
    "    {\"role\": \"user\", \"content\": \"你好，你家都卖什么球？\"}\n",
    "]"
   ]
  },
  {
   "cell_type": "code",
   "execution_count": 41,
   "id": "137e6a43-130f-4fe1-9d85-bc9d72b99e88",
   "metadata": {},
   "outputs": [],
   "source": [
    "response = client.chat.completions.create(\n",
    "    model=\"moonshot-v1-8k\",\n",
    "    messages=messages,\n",
    "    tools=tools,\n",
    ")"
   ]
  },
  {
   "cell_type": "markdown",
   "id": "73c95a41-8569-41a3-a154-85e395a121a3",
   "metadata": {},
   "source": [
    "&emsp;&emsp;如果模型生成函数调用，它将生成调用的参数（基于我们提供的parameters定义）。其响应体如下所示："
   ]
  },
  {
   "cell_type": "code",
   "execution_count": 42,
   "id": "744e0bbb-2cec-4fd4-98f5-5988a01faca5",
   "metadata": {},
   "outputs": [
    {
     "data": {
      "text/plain": [
       "ChatCompletion(id='chatcmpl-67ba8fbc4639c35580161eb8', choices=[Choice(finish_reason='tool_calls', index=0, logprobs=None, message=ChatCompletionMessage(content='', refusal=None, role='assistant', function_call=None, tool_calls=[ChatCompletionMessageToolCall(id='query_by_product_name:0', function=Function(arguments='{\\n  \"product_name\": \"球\"\\n}', name='query_by_product_name'), type='function', index=0)]))], created=1740279740, model='moonshot-v1-8k', object='chat.completion', service_tier=None, system_fingerprint=None, usage=CompletionUsage(completion_tokens=23, prompt_tokens=114, total_tokens=137, completion_tokens_details=None))"
      ]
     },
     "execution_count": 42,
     "metadata": {},
     "output_type": "execute_result"
    }
   ],
   "source": [
    "response"
   ]
  },
  {
   "cell_type": "markdown",
   "id": "4fb522b6-1df7-4749-828a-59e0e1b5966a",
   "metadata": {},
   "source": [
    "&emsp;&emsp;这里的区别是：当触发函数调用，content字段的对应的值将会是None，而tool_calls字段中的内容，将会按照我们对`query_by_product_name`的Json Schema描述中 `required`字段的要求来返回值。如上所示为：arguments='{\"product_name\":\"球\"}', name='query_by_product_name')。当拿到这样的参数后，按照我们期望的逻辑应该是把`球`作为关键词，执行数据库查询，拿到商品的详细信息，如下图所示："
   ]
  },
  {
   "cell_type": "code",
   "execution_count": 43,
   "id": "e716a64f-da65-4518-83b2-744f4d30d8f5",
   "metadata": {},
   "outputs": [
    {
     "data": {
      "text/plain": [
       "ChatCompletionMessageToolCall(id='query_by_product_name:0', function=Function(arguments='{\\n  \"product_name\": \"球\"\\n}', name='query_by_product_name'), type='function', index=0)"
      ]
     },
     "execution_count": 43,
     "metadata": {},
     "output_type": "execute_result"
    }
   ],
   "source": [
    "tool_call = response.choices[0].message.tool_calls[0]\n",
    "tool_call"
   ]
  },
  {
   "cell_type": "code",
   "execution_count": 44,
   "id": "db532601-ea0d-4dd0-949a-0c8d090b79f4",
   "metadata": {},
   "outputs": [
    {
     "data": {
      "text/plain": [
       "{'product_name': '球'}"
      ]
     },
     "execution_count": 44,
     "metadata": {},
     "output_type": "execute_result"
    }
   ],
   "source": [
    "import json\n",
    "\n",
    "arguments = json.loads(tool_call.function.arguments)\n",
    "arguments"
   ]
  },
  {
   "cell_type": "code",
   "execution_count": 45,
   "id": "5d550247-1ee8-466b-bbbe-7e2999591570",
   "metadata": {},
   "outputs": [
    {
     "data": {
      "text/plain": [
       "'球'"
      ]
     },
     "execution_count": 45,
     "metadata": {},
     "output_type": "execute_result"
    }
   ],
   "source": [
    "product_name = arguments.get('product_name')\n",
    "product_name"
   ]
  },
  {
   "cell_type": "code",
   "execution_count": 46,
   "id": "6e49ae9c-e385-479c-8c14-6ccc092eacae",
   "metadata": {},
   "outputs": [
    {
     "data": {
      "text/plain": [
       "[('001',\n",
       "  '足球',\n",
       "  '高品质职业比赛用球，符合国际标准',\n",
       "  '圆形，直径22 cm',\n",
       "  '职业比赛、学校体育课',\n",
       "  '耐克',\n",
       "  120.0,\n",
       "  50),\n",
       " ('002',\n",
       "  '羽毛球拍',\n",
       "  '轻量级，适合初中级选手，提供优秀的击球感受',\n",
       "  '碳纤维材质，重量85 g',\n",
       "  '业余比赛、家庭娱乐',\n",
       "  '尤尼克斯',\n",
       "  300.0,\n",
       "  30),\n",
       " ('003',\n",
       "  '篮球',\n",
       "  '室内外可用，耐磨耐用，适合各种天气条件',\n",
       "  '皮质，标准7号球',\n",
       "  '学校、社区运动场',\n",
       "  '斯伯丁',\n",
       "  200.0,\n",
       "  40),\n",
       " ('008',\n",
       "  '乒乓球拍套装',\n",
       "  '包括两只拍子和三个球，适合家庭娱乐和业余训练',\n",
       "  '标准尺寸，拍面防滑处理',\n",
       "  '家庭、社区',\n",
       "  '双鱼',\n",
       "  160.0,\n",
       "  35)]"
      ]
     },
     "execution_count": 46,
     "metadata": {},
     "output_type": "execute_result"
    }
   ],
   "source": [
    "final_res = query_by_product_name(product_name)\n",
    "final_res"
   ]
  },
  {
   "cell_type": "markdown",
   "id": "a03bd733-c90c-4cee-92e1-14a80f4054d1",
   "metadata": {},
   "source": [
    "- **第 五 步：将函数调用结果提供回大模型**"
   ]
  },
  {
   "cell_type": "markdown",
   "id": "dccbd04a-c146-4d6f-985c-8e4b91702e7b",
   "metadata": {},
   "source": [
    "&emsp;&emsp;经过上面的手动流程，现在我们已经在本地执行了函数调用，我们需要将此函数调用的结果提供回聊天 API，以便大模型可以生成用户应该看到的实际响应。参考`聊天机器人`案例中构建大模型记忆的过程，我们只需要维护一个 message 列表，把函数调用的信息追加进去即可。整个过程如下所示："
   ]
  },
  {
   "cell_type": "code",
   "execution_count": 34,
   "id": "d82fa541-0c0a-403f-8d83-9f9b8799e56f",
   "metadata": {},
   "outputs": [
    {
     "data": {
      "text/plain": [
       "ChatCompletion(id='chatcmpl-67ba86dbb2571d692fd1f472', choices=[Choice(finish_reason='tool_calls', index=0, logprobs=None, message=ChatCompletionMessage(content='', refusal=None, role='assistant', function_call=None, tool_calls=[ChatCompletionMessageToolCall(id='query_by_product_name:0', function=Function(arguments='{\\n  \"product_name\": \"球\"\\n}', name='query_by_product_name'), type='function', index=0)]))], created=1740277468, model='moonshot-v1-8k', object='chat.completion', service_tier=None, system_fingerprint=None, usage=CompletionUsage(completion_tokens=23, prompt_tokens=114, total_tokens=137, completion_tokens_details=None))"
      ]
     },
     "execution_count": 34,
     "metadata": {},
     "output_type": "execute_result"
    }
   ],
   "source": [
    "response"
   ]
  },
  {
   "cell_type": "markdown",
   "id": "dfd90399-938c-4200-acc2-1786783997f0",
   "metadata": {},
   "source": [
    "&emsp;&emsp;这里我们需要在使用 `json.dumps()` 添加 ensure_ascii=False 参数。这样，JSON 库就会保留中文字符而不是将它们转换为 Unicode 转义序列，如下所示："
   ]
  },
  {
   "cell_type": "code",
   "execution_count": 35,
   "id": "b6784976-bd3b-4f6a-90a0-9294966d5f32",
   "metadata": {},
   "outputs": [],
   "source": [
    "content = json.dumps({\n",
    "    \"product_name\": product_name,\n",
    "    \"query_by_product_name\":final_res\n",
    "}, ensure_ascii=False)"
   ]
  },
  {
   "cell_type": "code",
   "execution_count": 36,
   "id": "9444fd39-37f1-4399-ac68-0b1d1f66db7e",
   "metadata": {},
   "outputs": [
    {
     "data": {
      "text/plain": [
       "'{\"product_name\": \"球\", \"query_by_product_name\": [[\"001\", \"足球\", \"高品质职业比赛用球，符合国际标准\", \"圆形，直径22 cm\", \"职业比赛、学校体育课\", \"耐克\", 120.0, 50], [\"002\", \"羽毛球拍\", \"轻量级，适合初中级选手，提供优秀的击球感受\", \"碳纤维材质，重量85 g\", \"业余比赛、家庭娱乐\", \"尤尼克斯\", 300.0, 30], [\"003\", \"篮球\", \"室内外可用，耐磨耐用，适合各种天气条件\", \"皮质，标准7号球\", \"学校、社区运动场\", \"斯伯丁\", 200.0, 40], [\"008\", \"乒乓球拍套装\", \"包括两只拍子和三个球，适合家庭娱乐和业余训练\", \"标准尺寸，拍面防滑处理\", \"家庭、社区\", \"双鱼\", 160.0, 35]]}'"
      ]
     },
     "execution_count": 36,
     "metadata": {},
     "output_type": "execute_result"
    }
   ],
   "source": [
    "content"
   ]
  },
  {
   "cell_type": "code",
   "execution_count": 28,
   "id": "6a645450-b279-4d2b-8cf7-44d368f5bef7",
   "metadata": {},
   "outputs": [
    {
     "data": {
      "text/plain": [
       "'query_by_product_name:0'"
      ]
     },
     "execution_count": 28,
     "metadata": {},
     "output_type": "execute_result"
    }
   ],
   "source": [
    "response.choices[0].message.tool_calls[0].id"
   ]
  },
  {
   "cell_type": "markdown",
   "id": "770980d1-39cf-421d-8412-36bb6c48b939",
   "metadata": {},
   "source": [
    "&emsp;&emsp;这里有一点需要注意的是：除了像常规的会话信息提供 'role' 和 'content'外，函数调用产生的信息还需要传递`tool_call_id`字段："
   ]
  },
  {
   "cell_type": "code",
   "execution_count": 47,
   "id": "0e2f32db-6c69-4758-b9f3-e4d311a49abb",
   "metadata": {},
   "outputs": [],
   "source": [
    "# 创建 function calling 结果的消息历史\n",
    "function_call_result_message = {\"role\": \"tool\", \"content\": str(content), \"tool_call_id\": response.choices[0].message.tool_calls[0].id}"
   ]
  },
  {
   "cell_type": "code",
   "execution_count": 48,
   "id": "71b5e822-ab96-44b1-b1d6-56e66fef4ec1",
   "metadata": {
    "scrolled": true
   },
   "outputs": [
    {
     "data": {
      "text/plain": [
       "{'role': 'tool',\n",
       " 'content': '{\"product_name\": \"球\", \"query_by_product_name\": [[\"001\", \"足球\", \"高品质职业比赛用球，符合国际标准\", \"圆形，直径22 cm\", \"职业比赛、学校体育课\", \"耐克\", 120.0, 50], [\"002\", \"羽毛球拍\", \"轻量级，适合初中级选手，提供优秀的击球感受\", \"碳纤维材质，重量85 g\", \"业余比赛、家庭娱乐\", \"尤尼克斯\", 300.0, 30], [\"003\", \"篮球\", \"室内外可用，耐磨耐用，适合各种天气条件\", \"皮质，标准7号球\", \"学校、社区运动场\", \"斯伯丁\", 200.0, 40], [\"008\", \"乒乓球拍套装\", \"包括两只拍子和三个球，适合家庭娱乐和业余训练\", \"标准尺寸，拍面防滑处理\", \"家庭、社区\", \"双鱼\", 160.0, 35]]}',\n",
       " 'tool_call_id': 'query_by_product_name:0'}"
      ]
     },
     "execution_count": 48,
     "metadata": {},
     "output_type": "execute_result"
    }
   ],
   "source": [
    "function_call_result_message"
   ]
  },
  {
   "cell_type": "markdown",
   "id": "0b3383d3-240c-4685-9fce-28ed1cc587ff",
   "metadata": {},
   "source": [
    "&emsp;&emsp;同时，必须把 response.choices[0].message 添加进来，因为标记为 'tool' 角色的消息都必须是对之前的 'tool_calls' 角色消息的响应。这是因为在使用API或系统内部消息传递机制时，其中一个工具（如某种类型的API调用）必须基于之前的调用结果来执行。"
   ]
  },
  {
   "cell_type": "code",
   "execution_count": 49,
   "id": "3df1de7f-f298-4151-9bf5-27dd6aabae8f",
   "metadata": {
    "scrolled": true
   },
   "outputs": [
    {
     "data": {
      "text/plain": [
       "ChatCompletionMessage(content='', refusal=None, role='assistant', function_call=None, tool_calls=[ChatCompletionMessageToolCall(id='query_by_product_name:0', function=Function(arguments='{\\n  \"product_name\": \"球\"\\n}', name='query_by_product_name'), type='function', index=0)])"
      ]
     },
     "execution_count": 49,
     "metadata": {},
     "output_type": "execute_result"
    }
   ],
   "source": [
    "response.choices[0].message"
   ]
  },
  {
   "cell_type": "markdown",
   "id": "07688d35-7d7b-4a4e-935a-07185f13466a",
   "metadata": {},
   "source": [
    "&emsp;&emsp;构建完整的Messages："
   ]
  },
  {
   "cell_type": "code",
   "execution_count": 50,
   "id": "b50c1120-401a-4332-bafc-052c1a0a2f92",
   "metadata": {},
   "outputs": [],
   "source": [
    "messages = [\n",
    "    {\"role\": \"user\", \"content\": \"你好，你家都卖什么球？\"},\n",
    "    response.choices[0].message,\n",
    "    function_call_result_message\n",
    "]"
   ]
  },
  {
   "cell_type": "code",
   "execution_count": 51,
   "id": "5a9a715f-2688-46a6-8875-8d9351353d1b",
   "metadata": {
    "scrolled": true
   },
   "outputs": [
    {
     "data": {
      "text/plain": [
       "[{'role': 'user', 'content': '你好，你家都卖什么球？'},\n",
       " ChatCompletionMessage(content='', refusal=None, role='assistant', function_call=None, tool_calls=[ChatCompletionMessageToolCall(id='query_by_product_name:0', function=Function(arguments='{\\n  \"product_name\": \"球\"\\n}', name='query_by_product_name'), type='function', index=0)]),\n",
       " {'role': 'tool',\n",
       "  'content': '{\"product_name\": \"球\", \"query_by_product_name\": [[\"001\", \"足球\", \"高品质职业比赛用球，符合国际标准\", \"圆形，直径22 cm\", \"职业比赛、学校体育课\", \"耐克\", 120.0, 50], [\"002\", \"羽毛球拍\", \"轻量级，适合初中级选手，提供优秀的击球感受\", \"碳纤维材质，重量85 g\", \"业余比赛、家庭娱乐\", \"尤尼克斯\", 300.0, 30], [\"003\", \"篮球\", \"室内外可用，耐磨耐用，适合各种天气条件\", \"皮质，标准7号球\", \"学校、社区运动场\", \"斯伯丁\", 200.0, 40], [\"008\", \"乒乓球拍套装\", \"包括两只拍子和三个球，适合家庭娱乐和业余训练\", \"标准尺寸，拍面防滑处理\", \"家庭、社区\", \"双鱼\", 160.0, 35]]}',\n",
       "  'tool_call_id': 'query_by_product_name:0'}]"
      ]
     },
     "execution_count": 51,
     "metadata": {},
     "output_type": "execute_result"
    }
   ],
   "source": [
    "messages"
   ]
  },
  {
   "cell_type": "markdown",
   "id": "6ed36f89-84d7-46c8-afbc-45694f57bc47",
   "metadata": {},
   "source": [
    "&emsp;&emsp;再次进行调用："
   ]
  },
  {
   "cell_type": "code",
   "execution_count": 52,
   "id": "67b6c407-2091-4f33-8722-e36337b52c27",
   "metadata": {},
   "outputs": [],
   "source": [
    "response = client.chat.completions.create(\n",
    "    model=\"moonshot-v1-8k\",\n",
    "    messages=messages,\n",
    ")"
   ]
  },
  {
   "cell_type": "code",
   "execution_count": 87,
   "id": "dcb368d8-6c5f-4bae-a69c-577ea1186b38",
   "metadata": {
    "scrolled": true
   },
   "outputs": [
    {
     "name": "stdout",
     "output_type": "stream",
     "text": [
      "我们家主要出售以下几种球：\n",
      "\n",
      "1. **足球**\n",
      "   - 描述：高品质职业比赛用球，符合国际标准\n",
      "   - 尺寸：圆形，直径22 cm\n",
      "   - 用途：职业比赛、学校体育课\n",
      "   - 品牌：耐克\n",
      "   - 价格：120元\n",
      "\n",
      "2. **羽毛球拍**\n",
      "   - 描述：轻量级，适合初中级选手，提供优秀的击球感受\n",
      "   - 材质：碳纤维，重量85 g\n",
      "   - 用途：业余比赛、家庭娱乐\n",
      "   - 品牌：尤尼克斯\n",
      "   - 价格：300元\n",
      "\n",
      "3. **篮球**\n",
      "   - 描述：室内外可用，耐磨耐用，适合各种天气条件\n",
      "   - 材质：皮质，标准7号球\n",
      "   - 用途：学校、社区运动场\n",
      "   - 品牌：斯伯丁\n",
      "   - 价格：200元\n",
      "\n",
      "4. **乒乓球拍套装**\n",
      "   - 描述：包括两只拍子和三个球，适合家庭娱乐和业余训练\n",
      "   - 尺寸：标准尺寸，拍面防滑处理\n",
      "   - 用途：家庭、社区\n",
      "   - 品牌：双鱼\n",
      "   - 价格：160元\n",
      "\n",
      "如果你对某一款产品感兴趣或者需要更多信息，可以询问我！\n"
     ]
    }
   ],
   "source": [
    "# 打印结果\n",
    "print(response.choices[0].message.content)"
   ]
  },
  {
   "cell_type": "markdown",
   "id": "c5469b12-6ef3-444c-b631-d659b6a6fdde",
   "metadata": {},
   "source": [
    "&emsp;&emsp;接下来，我们把这个能够调用外部工具的助手，再次以`聊天机器人`的形式来实现。"
   ]
  },
  {
   "cell_type": "code",
   "execution_count": 56,
   "id": "479f3e27-cb4b-4365-95fc-dfeaf7d5d784",
   "metadata": {},
   "outputs": [],
   "source": [
    "available_functions = {\"query_by_product_name\": query_by_product_name}"
   ]
  },
  {
   "cell_type": "code",
   "execution_count": 92,
   "id": "949e15b9-d45f-4615-a5bd-23c3a4122039",
   "metadata": {},
   "outputs": [],
   "source": [
    "messages = [\n",
    "    {\"role\": \"user\", \"content\": \"你好，你家都卖什么球？\"}\n",
    "]"
   ]
  },
  {
   "cell_type": "code",
   "execution_count": 94,
   "id": "dae63e06-c4af-4420-bc38-9d78f2d9b77c",
   "metadata": {},
   "outputs": [],
   "source": [
    "response = client.chat.completions.create(\n",
    "    model=\"gpt-4o-mini\",\n",
    "    messages=messages,\n",
    "    tools=tools,\n",
    ")"
   ]
  },
  {
   "cell_type": "code",
   "execution_count": 95,
   "id": "62948008-6ff7-4fe0-973b-474afb1ff8b7",
   "metadata": {},
   "outputs": [
    {
     "data": {
      "text/plain": [
       "Choice(finish_reason='tool_calls', index=0, logprobs=None, message=ChatCompletionMessage(content=None, refusal=None, role='assistant', function_call=None, tool_calls=[ChatCompletionMessageToolCall(id='call_Ksxrqxryc9wqYvGBheNepN5R', function=Function(arguments='{\"product_name\":\"球\"}', name='query_by_product_name'), type='function')]))"
      ]
     },
     "execution_count": 95,
     "metadata": {},
     "output_type": "execute_result"
    }
   ],
   "source": [
    "response.choices[0]"
   ]
  },
  {
   "cell_type": "code",
   "execution_count": 98,
   "id": "b226b65c-60fa-4ccb-81be-be71d77c71b3",
   "metadata": {},
   "outputs": [
    {
     "data": {
      "text/plain": [
       "ChatCompletionMessageToolCall(id='call_Ksxrqxryc9wqYvGBheNepN5R', function=Function(arguments='{\"product_name\":\"球\"}', name='query_by_product_name'), type='function')"
      ]
     },
     "execution_count": 98,
     "metadata": {},
     "output_type": "execute_result"
    }
   ],
   "source": [
    "function_call = response.choices[0].message.tool_calls[0]\n",
    "function_call"
   ]
  },
  {
   "cell_type": "code",
   "execution_count": 100,
   "id": "2c7ad5c8-b0ef-4e2c-b643-04768912c0e9",
   "metadata": {},
   "outputs": [
    {
     "data": {
      "text/plain": [
       "'query_by_product_name'"
      ]
     },
     "execution_count": 100,
     "metadata": {},
     "output_type": "execute_result"
    }
   ],
   "source": [
    "function_name = function_call.function.name\n",
    "function_name"
   ]
  },
  {
   "cell_type": "code",
   "execution_count": 102,
   "id": "a95ae755-9953-4098-b570-b18a54db6ff8",
   "metadata": {},
   "outputs": [
    {
     "data": {
      "text/plain": [
       "{'product_name': '球'}"
      ]
     },
     "execution_count": 102,
     "metadata": {},
     "output_type": "execute_result"
    }
   ],
   "source": [
    "function_args = json.loads(function_call.function.arguments)\n",
    "function_args"
   ]
  },
  {
   "cell_type": "markdown",
   "id": "d957a822-ead4-4861-a1c9-b8238c0139e1",
   "metadata": {},
   "source": [
    "&emsp;&emsp;如下代码所示：通过解包操作符 ** 将 function_args 字典中的内容作为参数传递给该函数。这里的 **function_args 使得我们可以将一个字典的键值对直接转换为函数的命名参数。这是Python中的参数解包功能，允许从字典中动态传递参数。"
   ]
  },
  {
   "cell_type": "code",
   "execution_count": 105,
   "id": "9c2fa4e9-f4ef-4075-b344-b6389a5acdb9",
   "metadata": {},
   "outputs": [
    {
     "data": {
      "text/plain": [
       "[('001',\n",
       "  '足球',\n",
       "  '高品质职业比赛用球，符合国际标准',\n",
       "  '圆形，直径22 cm',\n",
       "  '职业比赛、学校体育课',\n",
       "  '耐克',\n",
       "  120.0,\n",
       "  50),\n",
       " ('002',\n",
       "  '羽毛球拍',\n",
       "  '轻量级，适合初中级选手，提供优秀的击球感受',\n",
       "  '碳纤维材质，重量85 g',\n",
       "  '业余比赛、家庭娱乐',\n",
       "  '尤尼克斯',\n",
       "  300.0,\n",
       "  30),\n",
       " ('003',\n",
       "  '篮球',\n",
       "  '室内外可用，耐磨耐用，适合各种天气条件',\n",
       "  '皮质，标准7号球',\n",
       "  '学校、社区运动场',\n",
       "  '斯伯丁',\n",
       "  200.0,\n",
       "  40),\n",
       " ('008',\n",
       "  '乒乓球拍套装',\n",
       "  '包括两只拍子和三个球，适合家庭娱乐和业余训练',\n",
       "  '标准尺寸，拍面防滑处理',\n",
       "  '家庭、社区',\n",
       "  '双鱼',\n",
       "  160.0,\n",
       "  35)]"
      ]
     },
     "execution_count": 105,
     "metadata": {},
     "output_type": "execute_result"
    }
   ],
   "source": [
    "function_to_call = available_functions[function_name]\n",
    "\n",
    "function_response = function_to_call(**function_args)\n",
    "function_response"
   ]
  },
  {
   "cell_type": "markdown",
   "id": "4f18c72a-d5e8-42bf-87ea-fa8d4bde29cf",
   "metadata": {},
   "source": [
    "&emsp;&emsp;因此我们可以把`聊天机器人`的案例代码优化如下："
   ]
  },
  {
   "cell_type": "code",
   "execution_count": 99,
   "id": "d288cb1b-9646-4d40-b1bc-dc98a28a8898",
   "metadata": {
    "scrolled": true
   },
   "outputs": [
    {
     "name": "stdin",
     "output_type": "stream",
     "text": [
      "\n",
      "提出一个问题：  退出\n"
     ]
    }
   ],
   "source": [
    "from openai import OpenAI\n",
    "client = OpenAI()\n",
    "\n",
    "messages = []\n",
    "\n",
    "while True:\n",
    "    prompt = input('\\n提出一个问题： ')\n",
    "    if prompt.lower() == \"退出\":\n",
    "        break  # 如果输入的是“退出”，则结束循环\n",
    "    \n",
    "    # 添加用户的提问到消息列表\n",
    "    messages.append({'role': 'user', 'content': prompt})\n",
    "    \n",
    "    # 检查是否需要调用外部函数\n",
    "    completion = client.chat.completions.create(\n",
    "        model=\"gpt-4o-mini\", \n",
    "        messages=messages,\n",
    "        tools=tools,  \n",
    "        parallel_tool_calls=False  # 这里需要格外注意\n",
    "    )\n",
    "    \n",
    "    # 提取回答内容\n",
    "    response = completion.choices[0].message\n",
    "    tool_calls = completion.choices[0].message.tool_calls\n",
    "    \n",
    "    # 处理外部函数调用\n",
    "    if tool_calls:\n",
    "        function_name = tool_calls[0].function.name\n",
    "        function_args = json.loads(tool_calls[0].function.arguments)\n",
    "        \n",
    "        function_response = available_functions[function_name](**function_args)\n",
    "        \n",
    "        messages.append(response)  \n",
    "       \n",
    "        messages.append(\n",
    "                {\n",
    "                    \"role\": \"tool\",\n",
    "                    \"name\": function_name,\n",
    "                    \"content\": str(function_response),\n",
    "                    \"tool_call_id\": tool_calls[0].id,\n",
    "                }\n",
    "            )  \n",
    "     \n",
    "        second_response = client.chat.completions.create(\n",
    "            model=\"moonshot-v1-8k\", \n",
    "            messages=messages,\n",
    "        )  \n",
    "        # 获取最终结果\n",
    "\n",
    "        final_response = second_response.choices[0].message.content\n",
    "        messages.append({'role': 'assistant', 'content': final_response})\n",
    "        print(final_response)\n",
    "    else:\n",
    "        # 打印响应并添加到消息列表\n",
    "        print(response.content)\n",
    "        messages.append({'role': 'assistant', 'content': response.content})"
   ]
  },
  {
   "cell_type": "code",
   "execution_count": 58,
   "id": "8a940200-6e9f-448c-82e8-8746b737f42e",
   "metadata": {},
   "outputs": [
    {
     "data": {
      "text/plain": [
       "[{'role': 'user', 'content': '你家卖什么球？'},\n",
       " ChatCompletionMessage(content='', refusal=None, role='assistant', function_call=None, tool_calls=[ChatCompletionMessageToolCall(id='query_by_product_name:0', function=Function(arguments='{\\n  \"product_name\": \"球\"\\n}', name='query_by_product_name'), type='function', index=0)]),\n",
       " {'role': 'tool',\n",
       "  'name': 'query_by_product_name',\n",
       "  'content': \"[('001', '足球', '高品质职业比赛用球，符合国际标准', '圆形，直径22 cm', '职业比赛、学校体育课', '耐克', 120.0, 50), ('002', '羽毛球拍', '轻量级，适合初中级选手，提供优秀的击球感受', '碳纤维材质，重量85 g', '业余比赛、家庭娱乐', '尤尼克斯', 300.0, 30), ('003', '篮球', '室内外可用，耐磨耐用，适合各种天气条件', '皮质，标准7号球', '学校、社区运动场', '斯伯丁', 200.0, 40), ('008', '乒乓球拍套装', '包括两只拍子和三个球，适合家庭娱乐和业余训练', '标准尺寸，拍面防滑处理', '家庭、社区', '双鱼', 160.0, 35)]\",\n",
       "  'tool_call_id': 'query_by_product_name:0'},\n",
       " {'role': 'assistant',\n",
       "  'content': '我们商店销售以下球类商品：\\n\\n1. **足球**：高品质职业比赛用球，符合国际标准，圆形，直径22 cm，适用于职业比赛和学校体育课，品牌为耐克，价格120元，库存50个。\\n\\n2. **篮球**：室内外可用，耐磨耐用，适合各种天气条件，皮质，标准7号球，适用于学校和社区运动场，品牌为斯伯丁，价格200元，库存40个。\\n\\n3. **乒乓球拍套装**：包括两只拍子和三个球，适合家庭娱乐和业余训练，标准尺寸，拍面防滑处理，适用于家庭和社区，品牌为双鱼，价格160元，库存35个。\\n\\n以上是我们商店销售的球类商品，欢迎选购。'}]"
      ]
     },
     "execution_count": 58,
     "metadata": {},
     "output_type": "execute_result"
    }
   ],
   "source": [
    "messages"
   ]
  },
  {
   "cell_type": "markdown",
   "id": "76186ca1-2450-4da5-8c49-dc9288845204",
   "metadata": {},
   "source": [
    "&emsp;&emsp;这里：我们要给大家介绍的是：Function Calling 是可以执行并行的，也就是说，一个流程中可以输出多个函数调用。但存在的问题模型输出可能与工具中提供的严格模式不匹配。所以，为了确保程序的正常执行，我们是通过`parallel_tool_calls: false`参数禁用并行函数调用。通过此设置，模型将一次生成一个函数调用。这里是需要大家注意的一点。"
   ]
  },
  {
   "cell_type": "markdown",
   "id": "e201171e-0576-497c-b011-9a7b85376ff2",
   "metadata": {},
   "source": [
    "&emsp;&emsp;接下来我们探讨一下 并行函数调用的情况。"
   ]
  },
  {
   "cell_type": "markdown",
   "id": "c8b0ad33-927f-433f-a4e9-3491feedf227",
   "metadata": {},
   "source": [
    "# 3. 并行函数调用"
   ]
  },
  {
   "cell_type": "markdown",
   "id": "8be04e2e-603b-4e48-801b-ea36d418303a",
   "metadata": {},
   "source": [
    "&emsp;&emsp;默认情况下，在OpenAI 的大模型生态中，2023 年 11 月 6 日或之后发布的任何模型都可能在单个响应中生成多个函数调用，这说明这类模型可以并行调用某个函数。这在一些场景下是非常有用的，比如如果执行给定函数需要很长时间的时候。例如，模型可能会调用函数同时获取 3 个商品信息，但并行调用会在在 tool_calls 数组中产生包含 3 个函数调用的消息。我们来进行如下测试："
   ]
  },
  {
   "cell_type": "code",
   "execution_count": 59,
   "id": "03f31ce0-4c4f-4586-b91e-77b9e0cececa",
   "metadata": {},
   "outputs": [],
   "source": [
    "messages = [\n",
    "    {\"role\": \"user\", \"content\": \"你好，你家都卖什么球，什么衣服，什么鞋？\"}\n",
    "]"
   ]
  },
  {
   "cell_type": "code",
   "execution_count": 60,
   "id": "45879703-0f3a-4fcd-bdbe-6c284b84113d",
   "metadata": {},
   "outputs": [],
   "source": [
    "response = client.chat.completions.create(\n",
    "    model=\"moonshot-v1-8k\",\n",
    "    messages=messages,\n",
    "    tools=tools,\n",
    ")"
   ]
  },
  {
   "cell_type": "code",
   "execution_count": 61,
   "id": "db93c9d3-f21e-4b0d-803f-7ba040e74f15",
   "metadata": {
    "scrolled": true
   },
   "outputs": [
    {
     "data": {
      "text/plain": [
       "ChatCompletion(id='chatcmpl-67ba9b345215edd1085715ff', choices=[Choice(finish_reason='tool_calls', index=0, logprobs=None, message=ChatCompletionMessage(content='', refusal=None, role='assistant', function_call=None, tool_calls=[ChatCompletionMessageToolCall(id='query_by_product_name:0', function=Function(arguments='{\\n  \"product_name\": \"球\"\\n}', name='query_by_product_name'), type='function', index=0), ChatCompletionMessageToolCall(id='query_by_product_name:1', function=Function(arguments='{\\n  \"product_name\": \"衣服\"\\n}', name='query_by_product_name'), type='function', index=1), ChatCompletionMessageToolCall(id='query_by_product_name:2', function=Function(arguments='{\\n  \"product_name\": \"鞋\"\\n}', name='query_by_product_name'), type='function', index=2)]))], created=1740282676, model='moonshot-v1-8k', object='chat.completion', service_tier=None, system_fingerprint=None, usage=CompletionUsage(completion_tokens=65, prompt_tokens=120, total_tokens=185, completion_tokens_details=None))"
      ]
     },
     "execution_count": 61,
     "metadata": {},
     "output_type": "execute_result"
    }
   ],
   "source": [
    "response"
   ]
  },
  {
   "cell_type": "code",
   "execution_count": 62,
   "id": "50022d97-4986-453c-bedd-951041344608",
   "metadata": {},
   "outputs": [
    {
     "name": "stdout",
     "output_type": "stream",
     "text": [
      "ChatCompletionMessageToolCall(id='query_by_product_name:0', function=Function(arguments='{\\n  \"product_name\": \"球\"\\n}', name='query_by_product_name'), type='function', index=0)\n",
      "ChatCompletionMessageToolCall(id='query_by_product_name:1', function=Function(arguments='{\\n  \"product_name\": \"衣服\"\\n}', name='query_by_product_name'), type='function', index=1)\n",
      "ChatCompletionMessageToolCall(id='query_by_product_name:2', function=Function(arguments='{\\n  \"product_name\": \"鞋\"\\n}', name='query_by_product_name'), type='function', index=2)\n"
     ]
    }
   ],
   "source": [
    "for tool_call in response.choices[0].message.tool_calls:\n",
    "    print(tool_call)"
   ]
  },
  {
   "cell_type": "markdown",
   "id": "f9f6fc11-d933-4594-b7f2-e5ecf588899f",
   "metadata": {},
   "source": [
    "&emsp;&emsp;其中，tool_calls 数组中的每个函数调用都有一个唯一的id ："
   ]
  },
  {
   "cell_type": "code",
   "execution_count": 120,
   "id": "1c4476e4-ca47-439f-8e03-7024b6abea6f",
   "metadata": {},
   "outputs": [
    {
     "name": "stdout",
     "output_type": "stream",
     "text": [
      "球: [('001', '足球', '高品质职业比赛用球，符合国际标准', '圆形，直径22 cm', '职业比赛、学校体育课', '耐克', 120.0, 50), ('002', '羽毛球拍', '轻量级，适合初中级选手，提供优秀的击球感受', '碳纤维材质，重量85 g', '业余比赛、家庭娱乐', '尤尼克斯', 300.0, 30), ('003', '篮球', '室内外可用，耐磨耐用，适合各种天气条件', '皮质，标准7号球', '学校、社区运动场', '斯伯丁', 200.0, 40), ('008', '乒乓球拍套装', '包括两只拍子和三个球，适合家庭娱乐和业余训练', '标准尺寸，拍面防滑处理', '家庭、社区', '双鱼', 160.0, 35)] \n",
      "\n",
      "衣服: [] \n",
      "\n",
      "鞋: [('004', '跑步鞋', '适合长距离跑步，舒适透气，提供良好的足弓支撑', '多种尺码，透气网布', '长跑、日常训练', '阿迪达斯', 500.0, 20)] \n",
      "\n"
     ]
    }
   ],
   "source": [
    "# 这里我们迭代的执行结果：\n",
    "for tool_call in response.choices[0].message.tool_calls:\n",
    "    arguments = json.loads(tool_call.function.arguments)\n",
    "    product_name = arguments['product_name']\n",
    "    final_res = query_by_product_name(product_name)\n",
    "    print(f\"{product_name}: {final_res} \\n\")"
   ]
  },
  {
   "cell_type": "markdown",
   "id": "bbb08a46-3f9e-4cfe-b8a3-592d76174f8d",
   "metadata": {},
   "source": [
    "&emsp;&emsp;而如果我们想在单次的对话中记录每个函数调用的结果，就可以通过向每个函数调用的对话添加一条新消息来将结果提供回模型，每条消息都包含一个函数调用的结果，并使用tool_call_id引用来自的id tool_calls ，如下所示："
   ]
  },
  {
   "cell_type": "code",
   "execution_count": 66,
   "id": "bdf2097f-2b2e-4033-8bd2-72417ccb60f2",
   "metadata": {},
   "outputs": [],
   "source": [
    "product_info = {}\n",
    "\n",
    "# 遍历工具调用处理每一个产品名称查询\n",
    "for tool_call in response.choices[0].message.tool_calls:\n",
    "    # 解析调用参数\n",
    "    arguments = json.loads(tool_call.function.arguments)\n",
    "    product_name = arguments['product_name']\n",
    "\n",
    "    # 执行查询并获取结果\n",
    "    query_results = query_by_product_name(product_name)\n",
    "\n",
    "    # 格式化输出到字典， query_results 返回的列表中包含完整的产品信息\n",
    "    # 提取所需信息，假设每个结果包含 'product_name', 'description', 'price' 等字段\n",
    "    if query_results:\n",
    "        for result in query_results:\n",
    "            product_id, name, description, specifications, usage, brand, price, stock = result\n",
    "            product_info[name] = {\n",
    "                \"描述\": description,\n",
    "                \"规格\": specifications,\n",
    "                \"适用场合\": usage,\n",
    "                \"品牌\": brand,\n",
    "                \"价格\": f\"{price}元\",\n",
    "                \"库存数量\": stock\n",
    "            }\n",
    "    else:\n",
    "        product_info[product_name] = \"未找到相关产品数据\""
   ]
  },
  {
   "cell_type": "code",
   "execution_count": 67,
   "id": "1e5713ff-16f7-444f-914f-2257fc4d8f1c",
   "metadata": {
    "scrolled": true
   },
   "outputs": [
    {
     "name": "stdout",
     "output_type": "stream",
     "text": [
      "产品名称：足球\n",
      "描述: 高品质职业比赛用球，符合国际标准\n",
      "规格: 圆形，直径22 cm\n",
      "适用场合: 职业比赛、学校体育课\n",
      "品牌: 耐克\n",
      "价格: 120.0元\n",
      "库存数量: 50\n",
      "\n",
      "产品名称：羽毛球拍\n",
      "描述: 轻量级，适合初中级选手，提供优秀的击球感受\n",
      "规格: 碳纤维材质，重量85 g\n",
      "适用场合: 业余比赛、家庭娱乐\n",
      "品牌: 尤尼克斯\n",
      "价格: 300.0元\n",
      "库存数量: 30\n",
      "\n",
      "产品名称：篮球\n",
      "描述: 室内外可用，耐磨耐用，适合各种天气条件\n",
      "规格: 皮质，标准7号球\n",
      "适用场合: 学校、社区运动场\n",
      "品牌: 斯伯丁\n",
      "价格: 200.0元\n",
      "库存数量: 40\n",
      "\n",
      "产品名称：乒乓球拍套装\n",
      "描述: 包括两只拍子和三个球，适合家庭娱乐和业余训练\n",
      "规格: 标准尺寸，拍面防滑处理\n",
      "适用场合: 家庭、社区\n",
      "品牌: 双鱼\n",
      "价格: 160.0元\n",
      "库存数量: 35\n",
      "\n",
      "产品名称：衣服\n",
      "未找到相关产品数据\n",
      "\n",
      "产品名称：跑步鞋\n",
      "描述: 适合长距离跑步，舒适透气，提供良好的足弓支撑\n",
      "规格: 多种尺码，透气网布\n",
      "适用场合: 长跑、日常训练\n",
      "品牌: 阿迪达斯\n",
      "价格: 500.0元\n",
      "库存数量: 20\n",
      "\n"
     ]
    }
   ],
   "source": [
    "# 打印整理好的产品信息字典\n",
    "for product_name, details in product_info.items():\n",
    "    print(f\"产品名称：{product_name}\")\n",
    "    if isinstance(details, dict):\n",
    "        for detail_key, detail_value in details.items():\n",
    "            print(f\"{detail_key}: {detail_value}\")\n",
    "    else:\n",
    "        print(details)\n",
    "    print()  # 用于在每个产品信息之后添加一个空行以提高可读性"
   ]
  },
  {
   "cell_type": "code",
   "execution_count": 126,
   "id": "d9f2b0d7-cb4c-456a-9caf-7db2416d1338",
   "metadata": {
    "scrolled": true
   },
   "outputs": [
    {
     "data": {
      "text/plain": [
       "{'足球': {'描述': '高品质职业比赛用球，符合国际标准',\n",
       "  '规格': '圆形，直径22 cm',\n",
       "  '适用场合': '职业比赛、学校体育课',\n",
       "  '品牌': '耐克',\n",
       "  '价格': '120.0元',\n",
       "  '库存数量': 50},\n",
       " '羽毛球拍': {'描述': '轻量级，适合初中级选手，提供优秀的击球感受',\n",
       "  '规格': '碳纤维材质，重量85 g',\n",
       "  '适用场合': '业余比赛、家庭娱乐',\n",
       "  '品牌': '尤尼克斯',\n",
       "  '价格': '300.0元',\n",
       "  '库存数量': 30},\n",
       " '篮球': {'描述': '室内外可用，耐磨耐用，适合各种天气条件',\n",
       "  '规格': '皮质，标准7号球',\n",
       "  '适用场合': '学校、社区运动场',\n",
       "  '品牌': '斯伯丁',\n",
       "  '价格': '200.0元',\n",
       "  '库存数量': 40},\n",
       " '乒乓球拍套装': {'描述': '包括两只拍子和三个球，适合家庭娱乐和业余训练',\n",
       "  '规格': '标准尺寸，拍面防滑处理',\n",
       "  '适用场合': '家庭、社区',\n",
       "  '品牌': '双鱼',\n",
       "  '价格': '160.0元',\n",
       "  '库存数量': 35},\n",
       " '衣服': '未找到相关产品数据',\n",
       " '跑步鞋': {'描述': '适合长距离跑步，舒适透气，提供良好的足弓支撑',\n",
       "  '规格': '多种尺码，透气网布',\n",
       "  '适用场合': '长跑、日常训练',\n",
       "  '品牌': '阿迪达斯',\n",
       "  '价格': '500.0元',\n",
       "  '库存数量': 20}}"
      ]
     },
     "execution_count": 126,
     "metadata": {},
     "output_type": "execute_result"
    }
   ],
   "source": [
    "product_info"
   ]
  },
  {
   "cell_type": "markdown",
   "id": "8615ba02-9348-4d4a-b580-cf6e6baa4e39",
   "metadata": {},
   "source": [
    "&emsp;&emsp;这是单次函数调用拼接的：\n",
    "```json\n",
    "final_res = query_by_product_name(product_name)\n",
    "\n",
    "content = json.dumps({\n",
    "    \"product_name\": product_name,\n",
    "    \"query_by_product_name\":final_res\n",
    "}, ensure_ascii=False),\n",
    "\n",
    "function_call_result_message = {\"role\": \"tool\", \"content\": str(content), \"tool_call_id\": response.choices[0].message.tool_calls[0].id}\n",
    "```"
   ]
  },
  {
   "cell_type": "code",
   "execution_count": 68,
   "id": "6734fb06-9f68-4bdc-8c67-3d18e3e6c868",
   "metadata": {},
   "outputs": [
    {
     "data": {
      "text/plain": [
       "ChatCompletionMessage(content='', refusal=None, role='assistant', function_call=None, tool_calls=[ChatCompletionMessageToolCall(id='query_by_product_name:0', function=Function(arguments='{\\n  \"product_name\": \"球\"\\n}', name='query_by_product_name'), type='function', index=0), ChatCompletionMessageToolCall(id='query_by_product_name:1', function=Function(arguments='{\\n  \"product_name\": \"衣服\"\\n}', name='query_by_product_name'), type='function', index=1), ChatCompletionMessageToolCall(id='query_by_product_name:2', function=Function(arguments='{\\n  \"product_name\": \"鞋\"\\n}', name='query_by_product_name'), type='function', index=2)])"
      ]
     },
     "execution_count": 68,
     "metadata": {},
     "output_type": "execute_result"
    }
   ],
   "source": [
    "response.choices[0].message"
   ]
  },
  {
   "cell_type": "code",
   "execution_count": 69,
   "id": "fee370e7-126b-403d-9389-96006194b79a",
   "metadata": {},
   "outputs": [],
   "source": [
    "messages = [\n",
    "    {\"role\": \"user\", \"content\": \"你好，你家都卖什么球，什么衣服，什么鞋？\"},\n",
    "    response.choices[0].message,\n",
    "]"
   ]
  },
  {
   "cell_type": "code",
   "execution_count": 70,
   "id": "7815dad3-842f-4e1f-b75f-b8aec4d0af91",
   "metadata": {},
   "outputs": [
    {
     "data": {
      "text/plain": [
       "[{'role': 'user', 'content': '你好，你家都卖什么球，什么衣服，什么鞋？'},\n",
       " ChatCompletionMessage(content='', refusal=None, role='assistant', function_call=None, tool_calls=[ChatCompletionMessageToolCall(id='query_by_product_name:0', function=Function(arguments='{\\n  \"product_name\": \"球\"\\n}', name='query_by_product_name'), type='function', index=0), ChatCompletionMessageToolCall(id='query_by_product_name:1', function=Function(arguments='{\\n  \"product_name\": \"衣服\"\\n}', name='query_by_product_name'), type='function', index=1), ChatCompletionMessageToolCall(id='query_by_product_name:2', function=Function(arguments='{\\n  \"product_name\": \"鞋\"\\n}', name='query_by_product_name'), type='function', index=2)])]"
      ]
     },
     "execution_count": 70,
     "metadata": {},
     "output_type": "execute_result"
    }
   ],
   "source": [
    "messages"
   ]
  },
  {
   "cell_type": "code",
   "execution_count": 71,
   "id": "80945fa1-3e32-4a60-8c2f-b139bb3797c6",
   "metadata": {},
   "outputs": [],
   "source": [
    "for tool_call in response.choices[0].message.tool_calls:    \n",
    "    # 解析调用参数\n",
    "    arguments = json.loads(tool_call.function.arguments)\n",
    "    product_name = arguments['product_name']\n",
    "\n",
    "    # 执行查询并获取结果\n",
    "    query_results = query_by_product_name(product_name)\n",
    "\n",
    "    messages.append({\"role\": \"tool\", \"content\": str(query_results), \"tool_call_id\": tool_call.id})"
   ]
  },
  {
   "cell_type": "code",
   "execution_count": 72,
   "id": "ed9ed3ae-52d5-405e-817f-516fc38503ea",
   "metadata": {},
   "outputs": [
    {
     "data": {
      "text/plain": [
       "[{'role': 'user', 'content': '你好，你家都卖什么球，什么衣服，什么鞋？'},\n",
       " ChatCompletionMessage(content='', refusal=None, role='assistant', function_call=None, tool_calls=[ChatCompletionMessageToolCall(id='query_by_product_name:0', function=Function(arguments='{\\n  \"product_name\": \"球\"\\n}', name='query_by_product_name'), type='function', index=0), ChatCompletionMessageToolCall(id='query_by_product_name:1', function=Function(arguments='{\\n  \"product_name\": \"衣服\"\\n}', name='query_by_product_name'), type='function', index=1), ChatCompletionMessageToolCall(id='query_by_product_name:2', function=Function(arguments='{\\n  \"product_name\": \"鞋\"\\n}', name='query_by_product_name'), type='function', index=2)]),\n",
       " {'role': 'tool',\n",
       "  'content': \"[('001', '足球', '高品质职业比赛用球，符合国际标准', '圆形，直径22 cm', '职业比赛、学校体育课', '耐克', 120.0, 50), ('002', '羽毛球拍', '轻量级，适合初中级选手，提供优秀的击球感受', '碳纤维材质，重量85 g', '业余比赛、家庭娱乐', '尤尼克斯', 300.0, 30), ('003', '篮球', '室内外可用，耐磨耐用，适合各种天气条件', '皮质，标准7号球', '学校、社区运动场', '斯伯丁', 200.0, 40), ('008', '乒乓球拍套装', '包括两只拍子和三个球，适合家庭娱乐和业余训练', '标准尺寸，拍面防滑处理', '家庭、社区', '双鱼', 160.0, 35)]\",\n",
       "  'tool_call_id': 'query_by_product_name:0'},\n",
       " {'role': 'tool', 'content': '[]', 'tool_call_id': 'query_by_product_name:1'},\n",
       " {'role': 'tool',\n",
       "  'content': \"[('004', '跑步鞋', '适合长距离跑步，舒适透气，提供良好的足弓支撑', '多种尺码，透气网布', '长跑、日常训练', '阿迪达斯', 500.0, 20)]\",\n",
       "  'tool_call_id': 'query_by_product_name:2'}]"
      ]
     },
     "execution_count": 72,
     "metadata": {},
     "output_type": "execute_result"
    }
   ],
   "source": [
    "messages"
   ]
  },
  {
   "cell_type": "code",
   "execution_count": 73,
   "id": "7cd16f6f-1ab0-46ee-9814-a2b8054afdd4",
   "metadata": {},
   "outputs": [],
   "source": [
    "response = client.chat.completions.create(\n",
    "    model=\"moonshot-v1-8k\",\n",
    "    messages=messages,\n",
    ")"
   ]
  },
  {
   "cell_type": "code",
   "execution_count": 83,
   "id": "6bfc837f-0202-4260-ba98-05c35e36867f",
   "metadata": {},
   "outputs": [
    {
     "data": {
      "text/plain": [
       "{'role': 'tool', 'content': '[]', 'tool_call_id': 'query_by_product_name:1'}"
      ]
     },
     "execution_count": 83,
     "metadata": {},
     "output_type": "execute_result"
    }
   ],
   "source": [
    "messages[3]"
   ]
  },
  {
   "cell_type": "code",
   "execution_count": 74,
   "id": "32705f5e-d734-47cf-a7b6-de4fde824d43",
   "metadata": {
    "scrolled": true
   },
   "outputs": [
    {
     "name": "stdout",
     "output_type": "stream",
     "text": [
      "我们商店销售以下球类商品：\n",
      "\n",
      "1. **足球**：高品质职业比赛用球，符合国际标准，圆形，直径22 cm，适用于职业比赛和学校体育课，品牌为耐克，价格120元，库存50个。\n",
      "2. **羽毛球拍**：轻量级，适合初中级选手，提供优秀的击球感受，碳纤维材质，重量85 g，适用于业余比赛和家庭娱乐，品牌为尤尼克斯，价格300元，库存30个。\n",
      "3. **篮球**：室内外可用，耐磨耐用，适合各种天气条件，皮质，标准7号球，适用于学校和社区运动场，品牌为斯伯丁，价格200元，库存40个。\n",
      "4. **乒乓球拍套装**：包括两只拍子和三个球，适合家庭娱乐和业余训练，标准尺寸，拍面防滑处理，适用于家庭和社区，品牌为双鱼，价格160元，库存35个。\n",
      "\n",
      "我们商店销售以下鞋类商品：\n",
      "\n",
      "1. **跑步鞋**：适合长距离跑步，舒适透气，提供良好的足弓支撑，多种尺码，透气网布，适用于长跑和日常训练，品牌为阿迪达斯，价格500元，库存20个。\n",
      "\n",
      "目前我们商店没有销售衣服类商品。\n"
     ]
    }
   ],
   "source": [
    "print(response.choices[0].message.content)"
   ]
  },
  {
   "cell_type": "markdown",
   "id": "6a9a81d3-aaff-451a-a43d-646094aeb0c4",
   "metadata": {},
   "source": [
    "# 4. 多函数调用"
   ]
  },
  {
   "cell_type": "markdown",
   "id": "7c588ca0-0146-4c6c-bbcb-eefa10cc45ee",
   "metadata": {},
   "source": [
    "&emsp;&emsp;多函数调用其实就不是很复杂了。我们只需要新增函数，并且编写具体的函数说明就可以了。比如我们现在接入智能电商客服的第二个功能：可以根据用户对商品的提问查询对应的优化政策，那么接下来我们定义一个` read_store_promotions `函数根据提供的产品名称来读取具体的优惠政策。代码如下："
   ]
  },
  {
   "cell_type": "code",
   "execution_count": 98,
   "id": "24ae7072-dd60-4917-85e4-a860f1b2ea43",
   "metadata": {},
   "outputs": [],
   "source": [
    "def read_store_promotions(product_name):\n",
    "    # 指定优惠政策文档的文件路径\n",
    "    file_path = 'store_promotions.txt'\n",
    "    \n",
    "    try:\n",
    "        # 打开文件并按行读取内容\n",
    "        with open(file_path, 'r', encoding='utf-8') as file:\n",
    "            promotions_content = file.readlines()\n",
    "        \n",
    "        # 搜索包含产品名称的行\n",
    "        filtered_content = [line for line in promotions_content if product_name in line]\n",
    "        \n",
    "        # 返回匹配的行，如果没有找到，返回一个默认消息\n",
    "        if filtered_content:\n",
    "            return ''.join(filtered_content)\n",
    "        else:\n",
    "            return \"没有找到关于该产品的优惠政策。\"\n",
    "    except FileNotFoundError:\n",
    "        # 文件不存在的错误处理\n",
    "        return \"优惠政策文档未找到，请检查文件路径是否正确。\"\n",
    "    except Exception as e:\n",
    "        # 其他潜在错误的处理\n",
    "        return f\"读取优惠政策文档时发生错误: {str(e)}\""
   ]
  },
  {
   "cell_type": "markdown",
   "id": "f734047e-57e7-4cec-90eb-e55872712946",
   "metadata": {},
   "source": [
    "&emsp;&emsp;创建模拟的优惠政策，将其保存为本地的一个 `.txt `文件。"
   ]
  },
  {
   "cell_type": "code",
   "execution_count": 85,
   "id": "20f34cc8-4acc-49d8-a20b-ca1064d9bb0b",
   "metadata": {},
   "outputs": [
    {
     "data": {
      "text/plain": [
       "'./store_promotions.txt'"
      ]
     },
     "execution_count": 85,
     "metadata": {},
     "output_type": "execute_result"
    }
   ],
   "source": [
    "# 重新创建一个包含店铺优惠政策的文本文档\n",
    "promotions_content = \"\"\"\n",
    "店铺优惠政策：\n",
    "1. 足球 - 购买足球即可享受9折优惠。\n",
    "2. 羽毛球拍 - 任意购买羽毛球拍两支以上，享8折优惠。\n",
    "3. 篮球 - 单笔订单满300元，篮球半价。\n",
    "4. 跑步鞋 - 第一次购买跑步鞋的顾客可享受满500元减100元优惠。\n",
    "5. 瑜伽垫 - 每购买一张瑜伽垫，赠送价值50元的瑜伽教程视频一套。\n",
    "6. 速干运动衫 - 买三送一，赠送的为最低价商品。\n",
    "7. 电子计步器 - 购买任意电子计步器，赠送配套手机APP永久会员资格。\n",
    "8. 乒乓球拍套装 - 乒乓球拍套装每套95折。\n",
    "9. 健身手套 - 满200元包邮。\n",
    "10. 膝盖护具 - 每件商品配赠运动护膝一个。\n",
    "\n",
    "注意：\n",
    "- 所有优惠活动不可与其他优惠同享。\n",
    "- 优惠详情以实际到店或下单时为准。\n",
    "\"\"\"\n",
    "\n",
    "# 将优惠政策写入文件\n",
    "file_path = './store_promotions.txt'\n",
    "with open(file_path, 'w', encoding='utf-8') as file:\n",
    "    file.write(promotions_content)\n",
    "\n",
    "file_path"
   ]
  },
  {
   "cell_type": "markdown",
   "id": "07ee7892-8bad-41ff-b92a-c7cb24ca4967",
   "metadata": {},
   "source": [
    "&emsp;&emsp;测试函数功能："
   ]
  },
  {
   "cell_type": "code",
   "execution_count": 86,
   "id": "2a7202ba-d4ba-48b7-bf67-98b21dbc4e13",
   "metadata": {},
   "outputs": [
    {
     "name": "stdout",
     "output_type": "stream",
     "text": [
      "5. 瑜伽垫 - 每购买一张瑜伽垫，赠送价值50元的瑜伽教程视频一套。\n",
      "\n"
     ]
    }
   ],
   "source": [
    "product_name = '瑜伽垫'\n",
    "promotion_details = read_store_promotions(product_name)\n",
    "print(promotion_details)"
   ]
  },
  {
   "cell_type": "markdown",
   "id": "5ce8516d-297c-453c-a967-fd8cc4ca1bf3",
   "metadata": {},
   "source": [
    "&emsp;&emsp;定义` read_store_promotions `函数的Json Schema描述，并添加到 tools 列表中。"
   ]
  },
  {
   "cell_type": "code",
   "execution_count": 95,
   "id": "159dd7d1-f8e4-4ec6-810c-1f2eac568eb1",
   "metadata": {},
   "outputs": [],
   "source": [
    "tools = [\n",
    "    {\n",
    "        \"type\": \"function\",\n",
    "        \"function\": {\n",
    "            \"name\": \"query_by_product_name\",\n",
    "            \"description\": \"Query the database to retrieve a list of products that match or contain the specified product name. This function can be used to assist customers in finding products by name via an online platform or customer support interface.\",\n",
    "            \"parameters\": {\n",
    "                \"type\": \"object\",\n",
    "                \"properties\": {\n",
    "                    \"product_name\": {\n",
    "                        \"type\": \"string\",\n",
    "                        \"description\": \"The name of the product to search for. The search is case-insensitive and allows partial matches.\"\n",
    "                    }\n",
    "                },\n",
    "                \"required\": [\"product_name\"]\n",
    "            }\n",
    "        }\n",
    "\n",
    "    },\n",
    "    {\n",
    "        \"type\": \"function\",\n",
    "        \"function\": {\n",
    "            \"name\": \"read_store_promotions\",\n",
    "            \"description\": \"Read the store's promotion document to find specific promotions related to the provided product name. This function scans a text document for any promotional entries that include the product name.\",\n",
    "            \"parameters\": {\n",
    "                \"type\": \"object\",\n",
    "                \"properties\": {\n",
    "                    \"product_name\": {\n",
    "                        \"type\": \"string\",\n",
    "                        \"description\": \"The name of the product to search for in the promotion document. The function returns the promotional details if found.\"\n",
    "                    }\n",
    "                },\n",
    "                \"required\": [\"product_name\"]\n",
    "            }\n",
    "        }\n",
    "    }\n",
    "]\n"
   ]
  },
  {
   "cell_type": "code",
   "execution_count": 96,
   "id": "c0a014ee-5394-49bf-afe9-2a4aed403b45",
   "metadata": {},
   "outputs": [],
   "source": [
    "available_functions = {\"query_by_product_name\": query_by_product_name, \"read_store_promotions\":read_store_promotions}"
   ]
  },
  {
   "cell_type": "code",
   "execution_count": 100,
   "id": "4712a098-d830-42f7-83c4-98ed65ac9a95",
   "metadata": {},
   "outputs": [
    {
     "name": "stdin",
     "output_type": "stream",
     "text": [
      "\n",
      "提出一个问题：  你家卖健身手套吗？现在有什么优惠？\n"
     ]
    },
    {
     "name": "stdout",
     "output_type": "stream",
     "text": [
      "我们确实有销售健身手套。目前，健身手套的优惠信息如下：\n",
      "\n",
      "- **产品名称**：健身手套\n",
      "- **描述**：抗滑耐磨，保护手部，适合各种健身活动\n",
      "- **特点**：多种尺码，通风设计\n",
      "- **适用场景**：健身房、户外运动\n",
      "- **品牌**：Under Armour\n",
      "- **价格**：120元\n",
      "- **库存**：50件\n",
      "\n",
      "目前没有特别的优惠活动，但健身手套的库存充足，您可以根据需要进行购买。\n"
     ]
    },
    {
     "name": "stdin",
     "output_type": "stream",
     "text": [
      "\n",
      "提出一个问题：  退出\n"
     ]
    }
   ],
   "source": [
    "from openai import OpenAI\n",
    "client = OpenAI(\n",
    "    api_key=\"sk-kWNCLmUaSjsr2iUq7LZ2fEgCxSFyr4YWKUjjjoIW5HsNzhGo\", # 在这里将 MOONSHOT_API_KEY 替换为你从 Kimi 开放平台申请的 API Key\n",
    "    base_url=\"https://api.moonshot.cn/v1\",\n",
    ")\n",
    "\n",
    "messages = []\n",
    "\n",
    "while True:\n",
    "    prompt = input('\\n提出一个问题： ')\n",
    "    if prompt.lower() == \"退出\":\n",
    "        break  # 如果输入的是“退出”，则结束循环\n",
    "    \n",
    "    # 添加用户的提问到消息列表\n",
    "    messages.append({'role': 'user', 'content': prompt})\n",
    "    \n",
    "    # 检查是否需要调用外部函数\n",
    "    completion = client.chat.completions.create(\n",
    "        model=\"moonshot-v1-8k\", \n",
    "        messages=messages,\n",
    "        tools=tools,  \n",
    "        parallel_tool_calls=True  # 这里需要格外注意\n",
    "    )\n",
    "    \n",
    "    # 提取回答内容\n",
    "    response = completion.choices[0].message\n",
    "    tool_calls = completion.choices[0].message.tool_calls\n",
    "    \n",
    "    # 处理外部函数调用\n",
    "    if tool_calls:\n",
    "        function_name = tool_calls[0].function.name\n",
    "        function_args = json.loads(tool_calls[0].function.arguments)\n",
    "        \n",
    "        function_response = available_functions[function_name](**function_args)\n",
    "        \n",
    "        messages.append(response)  \n",
    "        for tool_call in tool_calls:\n",
    "            messages.append(\n",
    "                    {\n",
    "                        \"role\": \"tool\",\n",
    "                        \"name\": function_name,\n",
    "                        \"content\": str(function_response),\n",
    "                        \"tool_call_id\": tool_call.id,\n",
    "                    }\n",
    "                )  \n",
    "         \n",
    "        second_response = client.chat.completions.create(\n",
    "            model=\"moonshot-v1-8k\", \n",
    "            messages=messages,\n",
    "        )  \n",
    "        # 获取最终结果\n",
    "\n",
    "        final_response = second_response.choices[0].message.content\n",
    "        messages.append({'role': 'assistant', 'content': final_response})\n",
    "        print(final_response)\n",
    "    else:\n",
    "        # 打印响应并添加到消息列表\n",
    "        print(response.content)\n",
    "        messages.append({'role': 'assistant', 'content': response.content})"
   ]
  },
  {
   "cell_type": "code",
   "execution_count": 92,
   "id": "0797d8f4-a310-4928-925a-fd76fa23a2c8",
   "metadata": {},
   "outputs": [
    {
     "data": {
      "text/plain": [
       "[{'role': 'user', 'content': '你家卖健身手套吗？现在有什么优惠？'},\n",
       " ChatCompletionMessage(content='', refusal=None, role='assistant', function_call=None, tool_calls=[ChatCompletionMessageToolCall(id='query_by_product_name:0', function=Function(arguments='{\\n  \"product_name\": \"健身手套\"\\n}', name='query_by_product_name'), type='function', index=0), ChatCompletionMessageToolCall(id='read_store_promotions:1', function=Function(arguments='{\\n  \"product_name\": \"健身手套\"\\n}', name='read_store_promotions'), type='function', index=1)]),\n",
       " {'role': 'tool',\n",
       "  'name': 'query_by_product_name',\n",
       "  'content': \"[('009', '健身手套', '抗滑耐磨，保护手部，适合各种健身活动', '多种尺码，通风设计', '健身房、户外运动', 'Under Armour', 120.0, 50)]\",\n",
       "  'tool_call_id': 'query_by_product_name:0'}]"
      ]
     },
     "execution_count": 92,
     "metadata": {},
     "output_type": "execute_result"
    }
   ],
   "source": [
    "messages"
   ]
  },
  {
   "cell_type": "markdown",
   "id": "81b06552-bb14-45d4-b1af-673b23e808f8",
   "metadata": {},
   "source": [
    "&emsp;&emsp;如上面的运行结果所示，在Function Calling架构中，尽管可以通过多函数和并行函数调用逻辑来调用外部函数，实现一些具体的操作流程，但它仍面临一些局限性。例如，当面对用户的单条复杂请求时，如“你家卖健身手套吗？现在有什么优惠？”，虽然我们配置了两个相应的外部函数，理论上能够处理这一请求，但当前的架构无法自动按照一定的执行顺序依次调用这些函数，并在同一轮对话中直接输出结果。理想的处理流程应该是：首先通过`query_by_product_name`函数确认是否销售健身手套；如果有，接着调用`read_store_promotions`函数获取关于健身手套的优惠政策；最后，结合产品价格和优惠信息，直接为用户计算出最终结果。这种需要规划和连续决策的能力，已经超出了智能助理的常规范围，而更接近于智能代理的“Planning”能力。因此，这种复杂的需求处理揭示了向真正的智能代理迈进的必要性。"
   ]
  },
  {
   "cell_type": "markdown",
   "id": "26922160-e672-409f-be18-7f2202be2ad3",
   "metadata": {},
   "source": [
    "&emsp;&emsp;所以我们说，以看到，智能助手能够根据我们的规范操作，让大模型理解用户意图并自动执行一些任务。而智能代理则更进一步，它们不仅自主执行多种任务、做出决策和解决问题，还能与现实世界表而经过上面两个案例的复现，里，应该已经希望大家对这两者之间的区别已有了更清晰而至此，大家也就能理解了：**Function Calling不能单独构成智能代理，而只是其组成部分之一。**OpenAI通过Assistant API实现智能代理的功能，这一点我们将在后续课程中详细介绍。此外，智能代理的实现并不仅限于OpenAI，基于ReAct理念，任何大型模型都能快速开发出定制化的AI Agent。事实上，许多主流框架都采用了ReAct的技术变种。接下来的课程中，我们将深入探讨ReAct的原理，并通过它的架构思想来实现一个完整的电视智能客服案例。功能和应用范围。"
   ]
  },
  {
   "cell_type": "markdown",
   "id": "30e637a2-0406-4317-b403-158c0e10d3dc",
   "metadata": {},
   "source": [
    "# 5. 加餐：结构化输出"
   ]
  },
  {
   "cell_type": "markdown",
   "id": "4b478a48-09d4-4bf5-93db-3ca0b44a5728",
   "metadata": {},
   "source": [
    "&emsp;&emsp;通过上述过程其实也不难发现，函数调用的过程非常依赖 Json 结构化的输出，默认情况下，当使用函数调用时，OpenAI 的 API 将尽力匹配工具调用的参数，但是这也有风险：在使用复杂模式时大模型有时可能会丢失参数或得到错误的类型。也就是说： 如果 在函数调用阶段 大模型根据 用户的自然语言 没有很好的理解意图，那么其 `function.arguments` 参数不匹配直接会使函数无法执行，从而导致整个函数调用的过程失败。所以，在 2024 年 8 月，OpenAI推出了结构化输出功能，这个功能可以极大的提升函数调用生成的参数与我们在函数定义中提供的 JSON 架构完全匹配的准确率，应该方法也非常简单，如下所示："
   ]
  },
  {
   "cell_type": "markdown",
   "id": "72e47cad-75dd-4a20-9b12-05b725a051e8",
   "metadata": {},
   "source": [
    "&emsp;&emsp;这里可以借助`Pydantic `来实现。Pydantic 通过基于 Python 类型标注的模型来确保数据类型正确，其内置实现了一个强大的系统来进行数据解析、校验和文档生成。"
   ]
  },
  {
   "cell_type": "code",
   "execution_count": 101,
   "id": "6a0db482-cfe1-41c3-bbbd-a806bb663f35",
   "metadata": {},
   "outputs": [],
   "source": [
    "from pydantic import BaseModel\n",
    "\n",
    "class GetProductName(BaseModel):\n",
    "    product_name: str"
   ]
  },
  {
   "cell_type": "markdown",
   "id": "2606f3a3-cd16-458f-b28b-980182fb2361",
   "metadata": {},
   "source": [
    "&emsp;&emsp;如上所示，我们 定义了一个名为 `GetProductName` 的类，它继承自 `BaseModel`。这种继承方式允许 `GetProductName` 类利用 Pydantic 提供的所有功能，如自动数据验证、序列化和反序列化等。同时 `product_name: str` 指明 `GetProductName` 模型有一个属性 `product_name`，并且这个属性应该是一个字符串类型（str）。这意味着任何尝试创建 `GetProductName` 实例并为 product_name 提供非字符串类型值的操作都将引发类型错误。\n",
    "\n",
    "&emsp;&emsp;然后，通过`openai`的`pydantic_function_tool`方法对工具进行封装。"
   ]
  },
  {
   "cell_type": "code",
   "execution_count": 117,
   "id": "851c5280-bdcf-41b3-a646-a6d309cb7e74",
   "metadata": {},
   "outputs": [],
   "source": [
    "import openai\n",
    "tools = [openai.pydantic_function_tool(GetProductName)]"
   ]
  },
  {
   "cell_type": "code",
   "execution_count": 118,
   "id": "b7711384-62a8-4684-9d9d-5444913172d9",
   "metadata": {},
   "outputs": [],
   "source": [
    "messages = [\n",
    "    {\"role\": \"user\", \"content\": \"你好，你家都卖什么球？\"},\n",
    "]"
   ]
  },
  {
   "cell_type": "code",
   "execution_count": 119,
   "id": "a7779e01-00e8-4e43-a105-a3f89c3b55c9",
   "metadata": {},
   "outputs": [],
   "source": [
    "response = client.chat.completions.create(\n",
    "    model='moonshot-v1-8k',\n",
    "    messages=messages,\n",
    "    tools=tools\n",
    ")"
   ]
  },
  {
   "cell_type": "code",
   "execution_count": 120,
   "id": "65cdd685-d20a-4158-962f-92b9867e30fd",
   "metadata": {},
   "outputs": [
    {
     "data": {
      "text/plain": [
       "ChatCompletion(id='chatcmpl-67bab7362f35584ccc119ccd', choices=[Choice(finish_reason='stop', index=0, logprobs=None, message=ChatCompletionMessage(content='你好！我这里不卖球，但我可以帮你找到卖球的地方或者提供一些关于球类的信息。比如，你想要了解篮球、足球、乒乓球还是其他什么球类呢？我可以帮你查找相关信息。', refusal=None, role='assistant', function_call=None, tool_calls=None))], created=1740289846, model='moonshot-v1-8k', object='chat.completion', service_tier=None, system_fingerprint=None, usage=CompletionUsage(completion_tokens=46, prompt_tokens=49, total_tokens=95, completion_tokens_details=None))"
      ]
     },
     "execution_count": 120,
     "metadata": {},
     "output_type": "execute_result"
    }
   ],
   "source": [
    "response"
   ]
  },
  {
   "cell_type": "code",
   "execution_count": 106,
   "id": "47ad9fd2-598e-47d2-9074-82f3e82d39d9",
   "metadata": {},
   "outputs": [
    {
     "ename": "TypeError",
     "evalue": "'NoneType' object is not subscriptable",
     "output_type": "error",
     "traceback": [
      "\u001b[1;31m---------------------------------------------------------------------------\u001b[0m",
      "\u001b[1;31mTypeError\u001b[0m                                 Traceback (most recent call last)",
      "Cell \u001b[1;32mIn[106], line 1\u001b[0m\n\u001b[1;32m----> 1\u001b[0m \u001b[38;5;28mprint\u001b[39m(\u001b[43mresponse\u001b[49m\u001b[38;5;241;43m.\u001b[39;49m\u001b[43mchoices\u001b[49m\u001b[43m[\u001b[49m\u001b[38;5;241;43m0\u001b[39;49m\u001b[43m]\u001b[49m\u001b[38;5;241;43m.\u001b[39;49m\u001b[43mmessage\u001b[49m\u001b[38;5;241;43m.\u001b[39;49m\u001b[43mtool_calls\u001b[49m\u001b[43m[\u001b[49m\u001b[38;5;241;43m0\u001b[39;49m\u001b[43m]\u001b[49m)\n",
      "\u001b[1;31mTypeError\u001b[0m: 'NoneType' object is not subscriptable"
     ]
    }
   ],
   "source": [
    "print(response.choices[0].message.tool_calls[0])"
   ]
  },
  {
   "cell_type": "code",
   "execution_count": 112,
   "id": "0279e5f9-fb53-4891-a67a-099ccc13f8d5",
   "metadata": {},
   "outputs": [],
   "source": [
    "messages = [\n",
    "    {\"role\": \"user\", \"content\": \"你好，你家都卖什么鞋？\"},\n",
    "]"
   ]
  },
  {
   "cell_type": "code",
   "execution_count": 113,
   "id": "8579110b-6237-4fd2-8276-8b2ee0fcdd7e",
   "metadata": {},
   "outputs": [],
   "source": [
    "response = client.chat.completions.create(\n",
    "    model='moonshot-v1-8k',\n",
    "    messages=messages,\n",
    "    tools=tools\n",
    ")"
   ]
  },
  {
   "cell_type": "code",
   "execution_count": 114,
   "id": "defbd59f-dc0b-467f-96fc-553a45a4498c",
   "metadata": {
    "scrolled": true
   },
   "outputs": [
    {
     "ename": "TypeError",
     "evalue": "'NoneType' object is not subscriptable",
     "output_type": "error",
     "traceback": [
      "\u001b[1;31m---------------------------------------------------------------------------\u001b[0m",
      "\u001b[1;31mTypeError\u001b[0m                                 Traceback (most recent call last)",
      "Cell \u001b[1;32mIn[114], line 1\u001b[0m\n\u001b[1;32m----> 1\u001b[0m \u001b[38;5;28mprint\u001b[39m(\u001b[43mresponse\u001b[49m\u001b[38;5;241;43m.\u001b[39;49m\u001b[43mchoices\u001b[49m\u001b[43m[\u001b[49m\u001b[38;5;241;43m0\u001b[39;49m\u001b[43m]\u001b[49m\u001b[38;5;241;43m.\u001b[39;49m\u001b[43mmessage\u001b[49m\u001b[38;5;241;43m.\u001b[39;49m\u001b[43mtool_calls\u001b[49m\u001b[43m[\u001b[49m\u001b[38;5;241;43m0\u001b[39;49m\u001b[43m]\u001b[49m)\n",
      "\u001b[1;31mTypeError\u001b[0m: 'NoneType' object is not subscriptable"
     ]
    }
   ],
   "source": [
    "print(response.choices[0].message.tool_calls[0])"
   ]
  },
  {
   "cell_type": "markdown",
   "id": "398ca6ce-c4ca-41de-91a1-d4aaf515e57a",
   "metadata": {},
   "source": [
    "&emsp;&emsp;函数调用有几个重要的目的：\n",
    "- 增强与外部工具的交互：GPT-4 和 GPT-3.5 等LLMs已经过微调，可以识别何时需要调用函数。通过这样做，他们可以输出包含调用函数所需参数的 JSON。此功能可实现与外部工具和 API 的无缝交互。\n",
    "- 构建LLM支持的聊天机器人和代理：函数调用对于构建有效利用外部工具回答问题的对话代理至关重要。\n",
    "- 数据提取和标记： LLM支持的解决方案可以提取和标记数据。例如，他们可以从维基百科文章或其他文本源中提取人名。\n",
    "- 自然语言到 API 调用：函数调用使应用程序能够将自然语言提示转换为有效的 API 调用或数据库查询。它弥合了人类语言和结构化数据交互之间的差距。\n",
    "- 会话式知识检索引擎： LLMs可以与知识库交互，这使得它们对于构建会话式知识检索引擎很有价值"
   ]
  },
  {
   "cell_type": "markdown",
   "id": "e37024de-0b35-4402-a0a8-5de29620946e",
   "metadata": {},
   "source": [
    "&emsp;&emsp;结构化输出是一项功能，可确保大模型始终生成符合提供的JSON Schema的响应，因此很大程度上，我们无需担心大模型会省略所需的键，或产生无效的枚举值。而目前，OpenAI API 中的结构化输出有两种形式：\n",
    "- 使用函数调用时\n",
    "- 使用json_schema响应格式时"
   ]
  },
  {
   "cell_type": "markdown",
   "id": "298ab3d0-a221-4db2-899f-104780ac10f7",
   "metadata": {},
   "source": [
    "&emsp;&emsp;函数调用就正如我们上面一直尝试的例子，但除此之外，这个结构化输出也可用于在普通对话过程中结构化模型的输出响应。比如："
   ]
  },
  {
   "cell_type": "code",
   "execution_count": 172,
   "id": "0f72568c-005d-4b82-b1a9-721992c53377",
   "metadata": {},
   "outputs": [],
   "source": [
    "from pydantic import BaseModel\n",
    "from openai import OpenAI\n",
    "client = OpenAI(\n",
    "    api_key=\"sk-kWNCLmUaSjsr2iUq7LZ2fEgCxSFyr4YWKUjjjoIW5HsNzhGo\", # 在这里将 MOONSHOT_API_KEY 替换为你从 Kimi 开放平台申请的 API Key\n",
    "    base_url=\"https://api.moonshot.cn/v1\",\n",
    ")\n",
    "\n",
    "class CalendarEvent(BaseModel):\n",
    "    name: str\n",
    "    date: str\n",
    "    participants: list[str]"
   ]
  },
  {
   "cell_type": "code",
   "execution_count": 115,
   "id": "62dbcb2d-7e38-4e8c-9ab3-5547002e37dd",
   "metadata": {},
   "outputs": [],
   "source": [
    "class CalendarEvent(BaseModel):\n",
    "    name: str\n",
    "    date: str\n",
    "    participants: list[str]\n",
    "\n",
    "completion = client.beta.chat.completions.parse(\n",
    "    model=\"moonshot-v1-8k\",\n",
    "    messages=[\n",
    "        {\"role\": \"system\", \"content\": \"提取事件信息。\"},\n",
    "        {\"role\": \"user\", \"content\": \"李华和张明星期五要去参加科学博览会。\"},\n",
    "    ],\n",
    "    response_format=CalendarEvent,\n",
    ")\n",
    "\n",
    "event = completion.choices[0].message.parsed"
   ]
  },
  {
   "cell_type": "code",
   "execution_count": 116,
   "id": "9b5ef1ca-d8d3-4a80-82f3-b2b97e5750a2",
   "metadata": {},
   "outputs": [
    {
     "name": "stdout",
     "output_type": "stream",
     "text": [
      "name='李华' date='星期五' participants=['李华', '张明', '科学博览会']\n"
     ]
    }
   ],
   "source": [
    "print(event)"
   ]
  },
  {
   "cell_type": "markdown",
   "id": "2cf543fc-fd73-457f-80b4-9c1e4da08ac4",
   "metadata": {},
   "source": [
    "&emsp;&emsp;但是，并不是所有模型都支持结构化输出，其官网说明如下所示：https://platform.openai.com/docs/guides/structured-outputs/introduction"
   ]
  },
  {
   "cell_type": "markdown",
   "id": "83e6f57e-a194-4f5a-b172-a7b6a737d974",
   "metadata": {},
   "source": [
    "<div align=center><img src=\"https://muyu001.oss-cn-beijing.aliyuncs.com/img/image-20240912180027905.png\" width=60%></div>"
   ]
  },
  {
   "cell_type": "markdown",
   "id": "be1dbe67-4426-40e5-81f4-d7610bc43bcc",
   "metadata": {},
   "source": [
    "&emsp;&emsp;除此之外，关于自然对话过程的结构化输出大家也可以先自行尝试，我们将在后面的项目案例中重点介绍其接入应用程序的技巧和方法。"
   ]
  },
  {
   "cell_type": "code",
   "execution_count": null,
   "id": "2d059821-583b-44a7-b5bb-cff27175fb00",
   "metadata": {},
   "outputs": [],
   "source": []
  }
 ],
 "metadata": {
  "kernelspec": {
   "display_name": "Python 3 (ipykernel)",
   "language": "python",
   "name": "python3"
  },
  "language_info": {
   "codemirror_mode": {
    "name": "ipython",
    "version": 3
   },
   "file_extension": ".py",
   "mimetype": "text/x-python",
   "name": "python",
   "nbconvert_exporter": "python",
   "pygments_lexer": "ipython3",
   "version": "3.10.9"
  }
 },
 "nbformat": 4,
 "nbformat_minor": 5
}
